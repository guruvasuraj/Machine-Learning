{
 "cells": [
  {
   "cell_type": "code",
   "execution_count": 71,
   "metadata": {
    "collapsed": true
   },
   "outputs": [],
   "source": [
    "#import statements\n",
    "import numpy as np\n",
    "import pandas as pd\n",
    "import cvxopt\n",
    "from cvxopt import solvers\n",
    "\n",
    "from sklearn.cross_validation import KFold\n",
    "import math\n",
    "import random\n",
    "from random import shuffle\n",
    "from sklearn import datasets\n",
    "\n",
    "import matplotlib.pyplot as plt\n",
    "%matplotlib inline"
   ]
  },
  {
   "cell_type": "code",
   "execution_count": 123,
   "metadata": {
    "collapsed": true
   },
   "outputs": [],
   "source": [
    "'''\n",
    "Function Desc: Generate linear and non linear datasets from random points.\n",
    "\n",
    "'''\n",
    "def generate_Lin_nonlin_Data(n,slider):\n",
    "    data = []\n",
    "    np.random.seed(23)\n",
    "    x1 = (np.random.rand(n) * 2)+slider\n",
    "    y1 = (np.random.rand(n) * 2)+slider\n",
    "    x2 = (np.random.rand(n) * 2)-slider\n",
    "    y2 = (np.random.rand(n) * 2)-slider\n",
    "    if slider >= 0.8:# adjust the distance between the points for generating data\n",
    "        plt.title('Linearly separable data')\n",
    "    else:\n",
    "        plt.title('Non-linearly separable data')\n",
    "    #plot the generated data\n",
    "    plt.scatter(np.array(x1),np.array(y1),c='b')\n",
    "    plt.scatter(np.array(x2),np.array(y2),c='r')\n",
    "    plt.show() \n",
    "    data.extend([[x1[i], y1[i], 1] for i in xrange(n)])\n",
    "    data.extend([[x2[i], y2[i], -1] for i in xrange(n)])\n",
    "    return data"
   ]
  },
  {
   "cell_type": "code",
   "execution_count": 139,
   "metadata": {
    "collapsed": false
   },
   "outputs": [
    {
     "data": {
      "image/png": "[encoded data removed]",
      "text/plain": [
       "<matplotlib.figure.Figure at 0x1c28cdd8>"
      ]
     },
     "metadata": {},
     "output_type": "display_data"
    }
   ],
   "source": [
    "data = generate_Lin_nonlin_Data(100,0.4)\n",
    "x=[]\n",
    "y=[]\n",
    "for i in data:\n",
    "    y.append(i[-1])\n",
    "    x.append(i[0:-1])"
   ]
  },
  {
   "cell_type": "code",
   "execution_count": 140,
   "metadata": {
    "collapsed": false
   },
   "outputs": [],
   "source": [
    "'''\n",
    "Function desc: Prepare the data to be supplied to the cvxopt solver\n",
    "'''\n",
    "\n",
    "def prepare_data(x,y,c):\n",
    "    P = cvxopt.matrix(np.outer(y,y) * np.dot(x,x.T))\n",
    "    A_temp = np.ones(len(y))*y\n",
    "    A = cvxopt.matrix(A_temp,(1,len(y)))\n",
    "    q =  cvxopt.matrix(-1 * np.ones(len(y)))\n",
    "    b = cvxopt.matrix(0.0)\n",
    "    g1 = np.diag(np.ones(len(y)) * -1)\n",
    "    g2 = np.diag(np.ones(len(y)))\n",
    "    G= cvxopt.matrix(np.vstack((g1,g2)))\n",
    "    h1 = [0.0 for i in xrange(len(y))]\n",
    "    h2 = [c for i in xrange(len(y))]\n",
    "    h_t1 = np.reshape(h1,(len(y),1))\n",
    "    h_t2=np.reshape(h2,(len(y),1))\n",
    "    h=cvxopt.matrix(np.vstack((h_t1,h_t2)))\n",
    "    sol = solvers.qp(P,q,G,h,A,b)\n",
    "    return sol"
   ]
  },
  {
   "cell_type": "code",
   "execution_count": 141,
   "metadata": {
    "collapsed": false
   },
   "outputs": [
    {
     "name": "stdout",
     "output_type": "stream",
     "text": [
      "     pcost       dcost       gap    pres   dres\n",
      " 0: -5.3229e+01 -4.0977e+01  1e+03  2e+01  8e-15\n",
      " 1: -8.9095e+00 -3.8579e+01  7e+01  7e-01  7e-15\n",
      " 2: -7.1351e+00 -1.5833e+01  9e+00  6e-16  2e-15\n",
      " 3: -8.5163e+00 -9.9446e+00  1e+00  7e-16  2e-15\n",
      " 4: -8.9619e+00 -9.4220e+00  5e-01  4e-15  1e-15\n",
      " 5: -9.1299e+00 -9.2253e+00  1e-01  3e-15  2e-15\n",
      " 6: -9.1695e+00 -9.1790e+00  1e-02  6e-15  2e-15\n",
      " 7: -9.1732e+00 -9.1748e+00  2e-03  1e-15  2e-15\n",
      " 8: -9.1739e+00 -9.1740e+00  4e-05  2e-16  2e-15\n",
      " 9: -9.1740e+00 -9.1740e+00  4e-07  4e-15  2e-15\n",
      "Optimal solution found.\n"
     ]
    }
   ],
   "source": [
    "solution = prepare_data(np.array(x),y,0.1)\n",
    "alpha=[]\n",
    "for i in solution['x']:\n",
    "    alpha.append(i)\n"
   ]
  },
  {
   "cell_type": "code",
   "execution_count": 160,
   "metadata": {
    "collapsed": false
   },
   "outputs": [],
   "source": [
    "'''\n",
    "Function desc: Find the support vectors\n",
    "'''\n",
    "\n",
    "\n",
    "def find_support_vectors(alfa,x,y):\n",
    "    sup_vec = []\n",
    "    sup_vec_x=[]\n",
    "    sup_vec_y = []\n",
    "    for i in range(len(alfa)):\n",
    "        if alfa[i] > 1e-7:\n",
    "            sup_vec.append(alfa[i])\n",
    "            sup_vec_x.append(x[i])\n",
    "            sup_vec_y.append(y[i])\n",
    "    print \"No of. support vectors found\",len(sup_vec)\n",
    "    \n",
    "    return sup_vec,sup_vec_x,sup_vec_y"
   ]
  },
  {
   "cell_type": "code",
   "execution_count": 161,
   "metadata": {
    "collapsed": false
   },
   "outputs": [
    {
     "name": "stdout",
     "output_type": "stream",
     "text": [
      "No of. support vectors found 108\n"
     ]
    }
   ],
   "source": [
    "support_vec,support_vec_x,support_vec_y =  find_support_vectors(alpha,x,y)"
   ]
  },
  {
   "cell_type": "code",
   "execution_count": 162,
   "metadata": {
    "collapsed": false
   },
   "outputs": [],
   "source": [
    "\n",
    "'''\n",
    "Function Desc: Calculate the model parameters\n",
    "\n",
    "\n",
    "'''\n",
    "\n",
    "def find_w_w0(support_vec,alpha,x,y,support_vec_x,support_vec_y):\n",
    "    ws=[]\n",
    "    w0=[]\n",
    "    w_= np.zeros(np.shape(x)[1])\n",
    "    for i in range(np.shape(alpha)[0]):\n",
    "        w_ += alpha[i] *y[i] * np.array(x[i])\n",
    "    for s in range(np.shape(support_vec_x)[0]):\n",
    "        w_o = y[s] - np.dot(w_.T,support_vec_x[s])\n",
    "        w0.append(w_o)\n",
    "    w_0 = (1./len(support_vec)) * np.sum(w0)\n",
    "    return (w_,w_0)\n",
    "        \n",
    "    \n",
    "    \n",
    "    \n",
    "    "
   ]
  },
  {
   "cell_type": "code",
   "execution_count": 163,
   "metadata": {
    "collapsed": false
   },
   "outputs": [],
   "source": [
    "ws = find_w_w0(support_vec,alpha,x,y,support_vec_x,support_vec_y)\n"
   ]
  },
  {
   "cell_type": "code",
   "execution_count": 164,
   "metadata": {
    "collapsed": true
   },
   "outputs": [],
   "source": [
    "\n",
    "'''\n",
    "Function Desc: Calculate the predicted values\n",
    "'''\n",
    "\n",
    "def predict_cls(x,ws): \n",
    "    pred = np.dot(ws[0].T,x)+ ws[1]\n",
    "    return pred\n",
    "    "
   ]
  },
  {
   "cell_type": "code",
   "execution_count": 165,
   "metadata": {
    "collapsed": false
   },
   "outputs": [
    {
     "data": {
      "text/plain": [
       "'k=0\\nfor yi, p in zip(y,predicted):\\n    if yi == p:\\n        k+=1\\nprint k\\n'"
      ]
     },
     "execution_count": 165,
     "metadata": {},
     "output_type": "execute_result"
    }
   ],
   "source": [
    "'''\n",
    "Function Desc: Determine the class of the predicted values\n",
    "'''\n",
    "def predict(x,ws):\n",
    "    predicted = []\n",
    "    for i in range(np.shape(x)[0]):\n",
    "        pred = predict_cls(x[i],ws)\n",
    "        if pred > 0:\n",
    "            predicted.append(1)\n",
    "        else:\n",
    "            predicted.append(-1)\n",
    "    return predicted\n",
    "\n",
    "'''k=0\n",
    "for yi, p in zip(y,predicted):\n",
    "    if yi == p:\n",
    "        k+=1\n",
    "print k\n",
    "'''"
   ]
  },
  {
   "cell_type": "code",
   "execution_count": 166,
   "metadata": {
    "collapsed": false
   },
   "outputs": [],
   "source": [
    "'''\n",
    "Function desc: To calculate the model parameters suh as precision, recall and f-measure from the confusion-matrix\n",
    "Inuput: Actual and predicted values\n",
    "Output: model parameters\n",
    "\n",
    "\n",
    "Classification accuracy\n",
    "(TP + TN) / (TP + TN + FP + FN)\n",
    "Error rate\n",
    "(FP + FN) / (TP + TN + FP + FN)\n",
    "\n",
    "Precision: (or Positive predictive value)\n",
    "proportion of predicted positives which\n",
    "are actual positive\n",
    "TP / (TP + FP)\n",
    "Recall: proportion of actual positives\n",
    "which are predicted positive\n",
    "TP / (TP + FN)\n",
    "\n",
    "'''\n",
    "\n",
    "def model_eval(actual,predicted):\n",
    "    Truth= pd.Series(actual,name = 'Truth' )\n",
    "    Predicted = pd.Series(predicted,name='Predicted')\n",
    "    confusion_matrix = pd.crosstab(Truth, Predicted)\n",
    "    arr_cm = confusion_matrix.as_matrix()\n",
    "    diag = arr_cm.diagonal()\n",
    "    accuracy = float(sum(diag))/np.sum(arr_cm)\n",
    "    precision = np.divide(diag,1.0*(np.sum(arr_cm,axis=0))) \n",
    "    recall = np.divide(diag,1.0*(np.sum(arr_cm,axis=0)))\n",
    "    fmeasure = 2*((precision * recall)/(precision + recall))\n",
    "    return confusion_matrix,accuracy,precision,recall,fmeasure"
   ]
  },
  {
   "cell_type": "code",
   "execution_count": 167,
   "metadata": {
    "collapsed": false
   },
   "outputs": [],
   "source": [
    "'''Function to perform 10-fold cross validation. In this method the test and traparams in indices are split using using the inbuit\n",
    "   'KFold' function.\n",
    "    Input 1: 'x' \n",
    "    Input 2: True predicted values\n",
    "    Input 3: No of folds (10 by default)\n",
    "    \n",
    "    Performance measures such as accuracy, precision, f-measure\n",
    "'''\n",
    "\n",
    "def x_fold_validation(x,y,nfolds=10,shuffle=True,random_state=23):\n",
    "    confusion_matrix_list=[]\n",
    "    accuracy_list=[]\n",
    "    precision_list=[]\n",
    "    recall_list=[]\n",
    "    fmeasure_list=[]\n",
    "    cv = KFold(len(y), nfolds,shuffle=True,random_state=23) #inbuilt function to split the indices\n",
    "    for train_idx, test_idx in cv:\n",
    "        x_train = x[train_idx]\n",
    "        y_train = y[train_idx]\n",
    "        x_test = x[test_idx]\n",
    "        y_test = y[test_idx]\n",
    "        sol = prepare_data(x_train,y_train,0.1)\n",
    "        alpha=[]\n",
    "        for i in sol['x']:\n",
    "            alpha.append(i)\n",
    "        support_vec,support_vec_x,support_vec_y=find_support_vectors(alpha,x_train,y_train)\n",
    "        ws = find_w_w0(support_vec,alpha,x,y,support_vec_x,support_vec_y)\n",
    "        pred = predict(x_test,ws)\n",
    "        conf_matrix,accuracy,precision,recall,fmeasure = model_eval(y_test.tolist(),pred)\n",
    "        print conf_matrix\n",
    "        confusion_matrix_list.append(conf_matrix)\n",
    "        accuracy_list.append(accuracy)\n",
    "        precision_list.append(precision.tolist())\n",
    "        recall_list.append(recall.tolist())\n",
    "        fmeasure_list.append(fmeasure.tolist())\n",
    "    print '################################'\n",
    "    print 'Average of the model parameters'\n",
    "    print '################################'\n",
    "    print 'Error rate:', (1-np.mean(accuracy_list))\n",
    "    print 'Accuracy:',np.mean(accuracy_list) \n",
    "    print 'Precision:', np.mean(precision_list,axis=0)\n",
    "    print 'Recall:', np.mean(recall_list,axis=0)\n",
    "    print 'F-measure:', np.mean(fmeasure_list,axis=0)\n",
    "            "
   ]
  },
  {
   "cell_type": "code",
   "execution_count": 168,
   "metadata": {
    "collapsed": false
   },
   "outputs": [
    {
     "name": "stdout",
     "output_type": "stream",
     "text": [
      "     pcost       dcost       gap    pres   dres\n",
      " 0: -4.8880e+01 -3.6865e+01  1e+03  2e+01  7e-15\n",
      " 1: -8.1303e+00 -3.4736e+01  6e+01  7e-01  7e-15\n",
      " 2: -6.7251e+00 -1.3912e+01  7e+00  1e-15  2e-15\n",
      " 3: -7.9803e+00 -9.1544e+00  1e+00  2e-16  2e-15\n",
      " 4: -8.4010e+00 -8.6671e+00  3e-01  2e-15  2e-15\n",
      " 5: -8.4964e+00 -8.5585e+00  6e-02  2e-15  2e-15\n",
      " 6: -8.5207e+00 -8.5312e+00  1e-02  3e-15  2e-15\n",
      " 7: -8.5254e+00 -8.5259e+00  5e-04  2e-15  2e-15\n",
      " 8: -8.5256e+00 -8.5257e+00  8e-06  5e-15  2e-15\n",
      "Optimal solution found.\n",
      "No of. support vectors found 114\n",
      "Predicted  -1   1\n",
      "Truth            \n",
      "-1          7   2\n",
      " 1          0  11\n",
      "     pcost       dcost       gap    pres   dres\n",
      " 0: -4.8932e+01 -3.6876e+01  1e+03  2e+01  7e-15\n",
      " 1: -8.1874e+00 -3.4752e+01  6e+01  7e-01  6e-15\n",
      " 2: -6.6797e+00 -1.4305e+01  8e+00  2e-16  2e-15\n",
      " 3: -7.9504e+00 -9.1705e+00  1e+00  1e-15  1e-15\n",
      " 4: -8.3443e+00 -8.7300e+00  4e-01  3e-15  1e-15\n",
      " 5: -8.4803e+00 -8.5781e+00  1e-01  3e-16  1e-15\n",
      " 6: -8.5146e+00 -8.5385e+00  2e-02  5e-16  2e-15\n",
      " 7: -8.5246e+00 -8.5274e+00  3e-03  2e-16  2e-15\n",
      " 8: -8.5259e+00 -8.5260e+00  1e-04  8e-16  2e-15\n",
      " 9: -8.5259e+00 -8.5259e+00  2e-06  1e-15  2e-15\n",
      "Optimal solution found.\n",
      "No of. support vectors found 100\n",
      "Predicted  -1   1\n",
      "Truth            \n",
      "-1         10   3\n",
      " 1          0   7\n",
      "     pcost       dcost       gap    pres   dres\n",
      " 0: -4.7658e+01 -3.7040e+01  1e+03  2e+01  8e-15\n",
      " 1: -7.9102e+00 -3.4891e+01  6e+01  7e-01  7e-15\n",
      " 2: -6.5203e+00 -1.3763e+01  7e+00  1e-15  2e-15\n",
      " 3: -7.7902e+00 -8.9445e+00  1e+00  1e-15  1e-15\n",
      " 4: -8.1757e+00 -8.5190e+00  3e-01  1e-15  2e-15\n",
      " 5: -8.2743e+00 -8.3990e+00  1e-01  1e-15  2e-15\n",
      " 6: -8.3243e+00 -8.3459e+00  2e-02  1e-15  2e-15\n",
      " 7: -8.3328e+00 -8.3366e+00  4e-03  2e-15  2e-15\n",
      " 8: -8.3345e+00 -8.3348e+00  3e-04  6e-15  2e-15\n",
      " 9: -8.3346e+00 -8.3346e+00  1e-05  2e-15  2e-15\n",
      "10: -8.3346e+00 -8.3346e+00  1e-07  2e-15  2e-15\n",
      "Optimal solution found.\n",
      "No of. support vectors found 97\n",
      "Predicted  -1   1\n",
      "Truth            \n",
      "-1         10   0\n",
      " 1          3   7\n",
      "     pcost       dcost       gap    pres   dres\n",
      " 0: -4.7512e+01 -3.6916e+01  1e+03  2e+01  6e-15\n",
      " 1: -7.9304e+00 -3.4772e+01  6e+01  7e-01  6e-15\n",
      " 2: -6.4809e+00 -1.3999e+01  8e+00  1e-15  2e-15\n",
      " 3: -7.7256e+00 -8.9661e+00  1e+00  2e-16  2e-15\n",
      " 4: -8.1612e+00 -8.4765e+00  3e-01  1e-15  2e-15\n",
      " 5: -8.2694e+00 -8.3507e+00  8e-02  2e-16  2e-15\n",
      " 6: -8.2996e+00 -8.3177e+00  2e-02  3e-15  2e-15\n",
      " 7: -8.3076e+00 -8.3092e+00  2e-03  9e-16  2e-15\n",
      " 8: -8.3084e+00 -8.3084e+00  2e-05  2e-15  2e-15\n",
      " 9: -8.3084e+00 -8.3084e+00  2e-07  7e-16  2e-15\n",
      "Optimal solution found.\n",
      "No of. support vectors found 96\n",
      "Predicted  -1   1\n",
      "Truth            \n",
      "-1          9   2\n",
      " 1          1   8\n",
      "     pcost       dcost       gap    pres   dres\n",
      " 0: -4.8676e+01 -3.6784e+01  1e+03  2e+01  7e-15\n",
      " 1: -8.1374e+00 -3.4659e+01  6e+01  7e-01  7e-15\n",
      " 2: -6.7402e+00 -1.4112e+01  7e+00  3e-15  2e-15\n",
      " 3: -8.0253e+00 -9.2481e+00  1e+00  2e-15  2e-15\n",
      " 4: -8.4583e+00 -8.7483e+00  3e-01  4e-15  2e-15\n",
      " 5: -8.5707e+00 -8.6248e+00  5e-02  1e-15  2e-15\n",
      " 6: -8.5941e+00 -8.5983e+00  4e-03  2e-15  2e-15\n",
      " 7: -8.5959e+00 -8.5962e+00  3e-04  2e-15  2e-15\n",
      " 8: -8.5961e+00 -8.5961e+00  4e-06  6e-15  2e-15\n",
      "Optimal solution found.\n",
      "No of. support vectors found 107\n",
      "Predicted  -1   1\n",
      "Truth            \n",
      "-1         11   1\n",
      " 1          0   8\n",
      "     pcost       dcost       gap    pres   dres\n",
      " 0: -4.6276e+01 -3.6756e+01  1e+03  2e+01  7e-15\n",
      " 1: -7.7891e+00 -3.4596e+01  6e+01  7e-01  6e-15\n",
      " 2: -6.2036e+00 -1.4070e+01  8e+00  3e-15  2e-15\n",
      " 3: -7.4416e+00 -8.6743e+00  1e+00  1e-16  2e-15\n",
      " 4: -7.8167e+00 -8.2762e+00  5e-01  2e-15  1e-15\n",
      " 5: -7.9863e+00 -8.0872e+00  1e-01  1e-15  2e-15\n",
      " 6: -8.0235e+00 -8.0445e+00  2e-02  5e-15  2e-15\n",
      " 7: -8.0320e+00 -8.0354e+00  3e-03  2e-15  1e-15\n",
      " 8: -8.0336e+00 -8.0337e+00  9e-05  4e-16  2e-15\n",
      " 9: -8.0336e+00 -8.0336e+00  2e-06  4e-16  2e-15\n",
      "Optimal solution found.\n",
      "No of. support vectors found 96\n",
      "Predicted  -1   1\n",
      "Truth            \n",
      "-1          6   5\n",
      " 1          2   7\n",
      "     pcost       dcost       gap    pres   dres\n",
      " 0: -4.8922e+01 -3.7052e+01  1e+03  2e+01  8e-15\n",
      " 1: -8.2095e+00 -3.4939e+01  6e+01  7e-01  7e-15\n",
      " 2: -6.6863e+00 -1.4448e+01  8e+00  1e-15  2e-15\n",
      " 3: -7.9850e+00 -9.2270e+00  1e+00  5e-16  1e-15\n",
      " 4: -8.3865e+00 -8.7954e+00  4e-01  2e-15  1e-15\n",
      " 5: -8.5301e+00 -8.6369e+00  1e-01  1e-15  2e-15\n",
      " 6: -8.5763e+00 -8.5864e+00  1e-02  1e-15  2e-15\n",
      " 7: -8.5808e+00 -8.5814e+00  5e-04  3e-15  2e-15\n",
      " 8: -8.5811e+00 -8.5811e+00  1e-05  2e-16  2e-15\n",
      " 9: -8.5811e+00 -8.5811e+00  1e-07  1e-15  2e-15\n",
      "Optimal solution found.\n",
      "No of. support vectors found 101\n",
      "Predicted  -1   1\n",
      "Truth            \n",
      "-1          9   1\n",
      " 1          2   8\n",
      "     pcost       dcost       gap    pres   dres\n",
      " 0: -4.6798e+01 -3.7019e+01  1e+03  2e+01  7e-15\n",
      " 1: -7.8341e+00 -3.4876e+01  6e+01  7e-01  6e-15\n",
      " 2: -6.3462e+00 -1.4017e+01  8e+00  2e-15  1e-15\n",
      " 3: -7.5894e+00 -8.8556e+00  1e+00  6e-16  2e-15\n",
      " 4: -8.0365e+00 -8.3423e+00  3e-01  3e-16  2e-15\n",
      " 5: -8.1482e+00 -8.2221e+00  7e-02  2e-16  2e-15\n",
      " 6: -8.1790e+00 -8.1883e+00  9e-03  6e-15  2e-15\n",
      " 7: -8.1830e+00 -8.1838e+00  8e-04  1e-15  2e-15\n",
      " 8: -8.1834e+00 -8.1834e+00  8e-06  3e-15  2e-15\n",
      " 9: -8.1834e+00 -8.1834e+00  8e-08  1e-15  2e-15\n",
      "Optimal solution found.\n",
      "No of. support vectors found 97\n",
      "Predicted  -1   1\n",
      "Truth            \n",
      "-1          3   4\n",
      " 1          1  12\n",
      "     pcost       dcost       gap    pres   dres\n",
      " 0: -4.6909e+01 -3.6542e+01  1e+03  2e+01  7e-15\n",
      " 1: -7.9100e+00 -3.4400e+01  6e+01  7e-01  6e-15\n",
      " 2: -6.3789e+00 -1.4025e+01  8e+00  2e-16  2e-15\n",
      " 3: -7.6134e+00 -8.9000e+00  1e+00  9e-16  2e-15\n",
      " 4: -8.0556e+00 -8.3854e+00  3e-01  2e-16  2e-15\n",
      " 5: -8.1797e+00 -8.2429e+00  6e-02  2e-15  2e-15\n",
      " 6: -8.2072e+00 -8.2121e+00  5e-03  6e-16  2e-15\n",
      " 7: -8.2095e+00 -8.2096e+00  2e-04  2e-15  2e-15\n",
      " 8: -8.2095e+00 -8.2095e+00  5e-06  2e-16  2e-15\n",
      "Optimal solution found.\n",
      "No of. support vectors found 97\n",
      "Predicted  -1   1\n",
      "Truth            \n",
      "-1          6   4\n",
      " 1          1   9\n",
      "     pcost       dcost       gap    pres   dres\n",
      " 0: -4.8507e+01 -3.7094e+01  1e+03  2e+01  8e-15\n",
      " 1: -8.0755e+00 -3.4969e+01  6e+01  7e-01  7e-15\n",
      " 2: -6.6870e+00 -1.4063e+01  7e+00  2e-16  2e-15\n",
      " 3: -7.9479e+00 -9.1902e+00  1e+00  5e-16  2e-15\n",
      " 4: -8.3868e+00 -8.6922e+00  3e-01  2e-16  2e-15\n",
      " 5: -8.4917e+00 -8.5716e+00  8e-02  3e-15  2e-15\n",
      " 6: -8.5263e+00 -8.5323e+00  6e-03  3e-15  2e-15\n",
      " 7: -8.5291e+00 -8.5293e+00  2e-04  2e-15  2e-15\n",
      " 8: -8.5292e+00 -8.5292e+00  2e-06  3e-15  2e-15\n",
      "Optimal solution found.\n",
      "No of. support vectors found 104\n",
      "Predicted  -1   1\n",
      "Truth            \n",
      "-1          6   1\n",
      " 1          0  13\n",
      "################################\n",
      "Average of the model parameters\n",
      "################################\n",
      "Error rate: 0.165\n",
      "Accuracy: 0.835\n",
      "Precision: [ 0.88445554  0.80781441]\n",
      "Recall: [ 0.88445554  0.80781441]\n",
      "F-measure: [ 0.88445554  0.80781441]\n"
     ]
    }
   ],
   "source": [
    "x_fold_validation(np.array(x),np.array(y))"
   ]
  },
  {
   "cell_type": "code",
   "execution_count": 151,
   "metadata": {
    "collapsed": false
   },
   "outputs": [
    {
     "data": {
      "text/plain": [
       "<matplotlib.collections.PathCollection at 0x36cadef0>"
      ]
     },
     "execution_count": 151,
     "metadata": {},
     "output_type": "execute_result"
    },
    {
     "data": {
      "image/png": "[encoded data removed]",
      "text/plain": [
       "<matplotlib.figure.Figure at 0x1c5351d0>"
      ]
     },
     "metadata": {},
     "output_type": "display_data"
    }
   ],
   "source": [
    "'''\n",
    "code snippet to plot the data points and the support vectors\n",
    "\n",
    "'''\n",
    "\n",
    "n=np.shape(x)[0]/2\n",
    "x1= np.array(x[0:n])\n",
    "x2=np.array(x[n:])\n",
    "support_vec_x = np.array(support_vec_x)\n",
    "\n",
    "plt.scatter(x1[:,0],x1[:,1],c='r')\n",
    "plt.scatter(x2[:,0],x2[:,1])\n",
    "plt.scatter(support_vec_x[:,0],support_vec_x[:,1],s=50,c=\"y\")"
   ]
  },
  {
   "cell_type": "code",
   "execution_count": null,
   "metadata": {
    "collapsed": true
   },
   "outputs": [],
   "source": []
  },
  {
   "cell_type": "code",
   "execution_count": null,
   "metadata": {
    "collapsed": true
   },
   "outputs": [],
   "source": []
  }
 ],
 "metadata": {
  "kernelspec": {
   "display_name": "Python 2",
   "language": "python",
   "name": "python2"
  },
  "language_info": {
   "codemirror_mode": {
    "name": "ipython",
    "version": 2
   },
   "file_extension": ".py",
   "mimetype": "text/x-python",
   "name": "python",
   "nbconvert_exporter": "python",
   "pygments_lexer": "ipython2",
   "version": "2.7.11"
  }
 },
 "nbformat": 4,
 "nbformat_minor": 0
}
