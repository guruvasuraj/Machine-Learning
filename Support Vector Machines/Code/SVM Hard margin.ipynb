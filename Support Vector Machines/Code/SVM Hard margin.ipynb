{
 "cells": [
  {
   "cell_type": "code",
   "execution_count": 1415,
   "metadata": {
    "collapsed": true
   },
   "outputs": [],
   "source": [
    "#import statements\n",
    "import numpy as np\n",
    "import pandas as pd\n",
    "import cvxopt\n",
    "from cvxopt import solvers\n",
    "from sklearn.cross_validation import KFold\n",
    "import math\n",
    "import random\n",
    "from random import shuffle\n",
    "from sklearn import datasets\n",
    "import matplotlib.pyplot as plt\n",
    "%matplotlib inline"
   ]
  },
  {
   "cell_type": "code",
   "execution_count": 1416,
   "metadata": {
    "collapsed": false
   },
   "outputs": [],
   "source": [
    "'''\n",
    "Function Desc: Generate linear and non linear datasets from random points.\n",
    "\n",
    "'''\n",
    "def generate_Lin_nonlin_Data(n,slider):\n",
    "    data = []\n",
    "    np.random.seed(23)\n",
    "    x1 = (np.random.rand(n) * 2)+slider\n",
    "    y1 = (np.random.rand(n) * 2)+slider\n",
    "    x2 = (np.random.rand(n) * 2)-slider\n",
    "    y2 = (np.random.rand(n) * 2)-slider\n",
    "    if slider >= 0.8:# adjust the distance between the points for generating data\n",
    "        plt.title('Linearly separable data')\n",
    "    else:\n",
    "        plt.title('Non-linearly separable data')\n",
    "    #plot the generated data\n",
    "    plt.scatter(np.array(x1),np.array(y1),c='b')\n",
    "    plt.scatter(np.array(x2),np.array(y2),c='r')\n",
    "    plt.show() \n",
    "    data.extend([[x1[i], y1[i], 1] for i in xrange(n)])\n",
    "    data.extend([[x2[i], y2[i], -1] for i in xrange(n)])\n",
    "    return data"
   ]
  },
  {
   "cell_type": "code",
   "execution_count": 1417,
   "metadata": {
    "collapsed": false
   },
   "outputs": [
    {
     "data": {
      "image/png": "[encoded data removed]",
      "text/plain": [
       "<matplotlib.figure.Figure at 0x43baefd0>"
      ]
     },
     "metadata": {},
     "output_type": "display_data"
    }
   ],
   "source": [
    "data = generate_Lin_nonlin_Data(100,1.0)\n",
    "x=[]\n",
    "y=[]\n",
    "for i in data:\n",
    "    y.append(i[-1])\n",
    "    x.append(i[0:-1])"
   ]
  },
  {
   "cell_type": "code",
   "execution_count": 1418,
   "metadata": {
    "collapsed": true
   },
   "outputs": [],
   "source": [
    "'''\n",
    "Function desc: load the data \n",
    "returns: numpy array containing all features and classes (Iris-versicolor and Iris-virginica)\n",
    "'''\n",
    "def load_data():\n",
    "    iris = datasets.load_iris()\n",
    "    x = iris['data']\n",
    "    y = iris['target']\n",
    "    x,y = x[y != 2], y[y != 2] \n",
    "    x=x[:,:2]\n",
    "    y = y+1\n",
    "    plt.title(\"Linearly Separable data - Iris Data set\")\n",
    "    plt.xlabel('sepal_length')\n",
    "    plt.ylabel(\"sepal_width\")\n",
    "    plt.scatter(np.array(x[:50,0]),np.array(x[:50,1]),c='b')\n",
    "    plt.scatter(np.array(x[-50:,0]),np.array(x[-50:,1]),c='r')\n",
    "    #plt.scatter(np.array(x2),np.array(y2),c='r')\n",
    "    return x,y"
   ]
  },
  {
   "cell_type": "code",
   "execution_count": 1419,
   "metadata": {
    "collapsed": false
   },
   "outputs": [],
   "source": [
    "#x,y=load_data()"
   ]
  },
  {
   "cell_type": "code",
   "execution_count": 1420,
   "metadata": {
    "collapsed": false
   },
   "outputs": [
    {
     "data": {
      "text/plain": [
       "'\\nx,y=datasets.make_classification(n_samples=100, n_features=2, n_informative=1, n_redundant=0, n_repeated=0,\\n                                     n_classes=2, n_clusters_per_class=1, weights=None, flip_y=0.01, class_sep=1.0, hypercube=False, \\n                                     shift=0.0, shuffle=True, random_state=42)\\n'"
      ]
     },
     "execution_count": 1420,
     "metadata": {},
     "output_type": "execute_result"
    }
   ],
   "source": [
    "\n",
    "'''\n",
    "x,y=datasets.make_classification(n_samples=100, n_features=2, n_informative=1, n_redundant=0, n_repeated=0,\n",
    "                                     n_classes=2, n_clusters_per_class=1, weights=None, flip_y=0.01, class_sep=1.0, hypercube=False, \n",
    "                                     shift=0.0, shuffle=True, random_state=42)\n",
    "'''"
   ]
  },
  {
   "cell_type": "code",
   "execution_count": 1422,
   "metadata": {
    "collapsed": false
   },
   "outputs": [],
   "source": [
    "'''\n",
    "Function desc: Prepare the data to be supplied to the cvxopt solver\n",
    "'''\n",
    "\n",
    "def prepare_data(x,y):\n",
    "    P = cvxopt.matrix(np.outer(y,y) * np.dot(x,x.T))\n",
    "    A_temp = np.ones(len(y))*y\n",
    "    A = cvxopt.matrix(A_temp,(1,len(y)))\n",
    "    q =  cvxopt.matrix(-1 * np.ones(len(y)))\n",
    "    b = cvxopt.matrix(0.0)\n",
    "    g1 = np.diag(np.ones(len(y)) * -1)\n",
    "    #g2 = np.diag(np.ones(len(y)))\n",
    "    G= cvxopt.matrix(g1)\n",
    "    h1 = [0.0 for i in xrange(len(y))]\n",
    "    #h2 = [c for i in xrange(len(y))]\n",
    "    h_t1 = np.reshape(h1,(len(y),1))\n",
    "    #h_t2=np.reshape(h2,(len(y),1))\n",
    "    h=cvxopt.matrix(h_t1)\n",
    "    sol = solvers.qp(P,q,G,h,A,b)\n",
    "    return sol"
   ]
  },
  {
   "cell_type": "code",
   "execution_count": 1423,
   "metadata": {
    "collapsed": false
   },
   "outputs": [
    {
     "name": "stdout",
     "output_type": "stream",
     "text": [
      "     pcost       dcost       gap    pres   dres\n",
      " 0: -2.7272e+01 -5.1785e+01  6e+02  2e+01  2e+00\n",
      " 1: -3.9545e+01 -2.8397e+01  2e+02  8e+00  7e-01\n",
      " 2: -9.0386e+01 -6.0264e+01  2e+02  8e+00  6e-01\n",
      " 3: -1.5690e+02 -7.8293e+01  2e+02  6e+00  5e-01\n",
      " 4: -2.8134e+01 -1.2938e+01  7e+01  1e+00  9e-02\n",
      " 5: -6.8876e+00 -9.5280e+00  3e+00  1e-14  2e-14\n",
      " 6: -8.4478e+00 -8.4917e+00  4e-02  8e-15  1e-14\n",
      " 7: -8.4810e+00 -8.4815e+00  4e-04  8e-15  1e-14\n",
      " 8: -8.4814e+00 -8.4814e+00  4e-06  5e-15  1e-14\n",
      "Optimal solution found.\n"
     ]
    }
   ],
   "source": [
    "solution = prepare_data(np.array(x),y)\n",
    "alpha=[]\n",
    "for i in solution['x']:\n",
    "    alpha.append(i)\n"
   ]
  },
  {
   "cell_type": "code",
   "execution_count": 1424,
   "metadata": {
    "collapsed": false
   },
   "outputs": [],
   "source": [
    "'''\n",
    "Function desc: Find the support vectors\n",
    "'''\n",
    "\n",
    "def find_support_vectors(alfa,x,y):\n",
    "    sup_vec = []\n",
    "    sup_vec_x=[]\n",
    "    sup_vec_y = []\n",
    "    for i in range(len(alfa)):\n",
    "        if alfa[i] > 1e-7:\n",
    "            sup_vec.append(alfa[i])\n",
    "            sup_vec_x.append(x[i])\n",
    "            sup_vec_y.append(y[i])\n",
    "    print \"No of. support vectors found\",len(sup_vec)\n",
    "    \n",
    "    return sup_vec,sup_vec_x,sup_vec_y"
   ]
  },
  {
   "cell_type": "code",
   "execution_count": 1425,
   "metadata": {
    "collapsed": false
   },
   "outputs": [
    {
     "name": "stdout",
     "output_type": "stream",
     "text": [
      "No of. support vectors found 3\n"
     ]
    }
   ],
   "source": [
    "support_vec,support_vec_x,support_vec_y =  find_support_vectors(alpha,x,y)"
   ]
  },
  {
   "cell_type": "code",
   "execution_count": 1426,
   "metadata": {
    "collapsed": false
   },
   "outputs": [],
   "source": [
    "\n",
    "'''\n",
    "Function Desc: Calculate the model parameters\n",
    "\n",
    "\n",
    "'''\n",
    "\n",
    "def find_w_w0(support_vec,alpha,x,y,support_vec_x,support_vec_y):\n",
    "    ws=[]\n",
    "    w0=[]\n",
    "    w_= np.zeros(np.shape(x)[1])\n",
    "    for i in range(np.shape(alpha)[0]):\n",
    "        w_ += alpha[i] *y[i] * np.array(x[i])\n",
    "    for s in range(np.shape(support_vec_x)[0]):\n",
    "        w_o = y[s] - np.dot(w_.T,support_vec_x[s])\n",
    "        w0.append(w_o)\n",
    "    w_0 = (1./len(support_vec)) * np.sum(w0)\n",
    "    return (w_,w_0)\n",
    "        \n",
    "    \n",
    "    \n",
    "    \n",
    "    "
   ]
  },
  {
   "cell_type": "code",
   "execution_count": 1427,
   "metadata": {
    "collapsed": false
   },
   "outputs": [
    {
     "name": "stdout",
     "output_type": "stream",
     "text": [
      "[ 3.15291189  2.64988533]\n",
      "-4.08228839416\n"
     ]
    }
   ],
   "source": [
    "ws = find_w_w0(support_vec,alpha,x,y,support_vec_x,support_vec_y)\n",
    "w=ws[0]\n",
    "w0=ws[1]\n",
    "print ws[0]\n",
    "print ws[1]"
   ]
  },
  {
   "cell_type": "code",
   "execution_count": 1428,
   "metadata": {
    "collapsed": true
   },
   "outputs": [],
   "source": [
    "'''\n",
    "Function Desc: Calculate the predicted values\n",
    "'''\n",
    "\n",
    "def predict_cls(x,ws): \n",
    "    pred = np.dot(ws[0].T,x)+ ws[1]\n",
    "    return pred\n",
    "    "
   ]
  },
  {
   "cell_type": "code",
   "execution_count": 1434,
   "metadata": {
    "collapsed": false
   },
   "outputs": [
    {
     "data": {
      "text/plain": [
       "'k=0\\nfor yi, p in zip(y,predicted):\\n    if yi == p:\\n        k+=1\\nprint k\\n'"
      ]
     },
     "execution_count": 1434,
     "metadata": {},
     "output_type": "execute_result"
    }
   ],
   "source": [
    "'''\n",
    "Function Desc: Determine the class of the predicted values\n",
    "'''\n",
    "\n",
    "def predict(x,ws):\n",
    "    predicted = []\n",
    "    for i in range(np.shape(x)[0]):\n",
    "        pred = predict_cls(x[i],ws)\n",
    "        if pred > 0:\n",
    "            predicted.append(1)\n",
    "        else:\n",
    "            predicted.append(-1)\n",
    "    return predicted\n",
    "\n",
    "'''k=0\n",
    "for yi, p in zip(y,predicted):\n",
    "    if yi == p:\n",
    "        k+=1\n",
    "print k\n",
    "'''"
   ]
  },
  {
   "cell_type": "code",
   "execution_count": 1435,
   "metadata": {
    "collapsed": false
   },
   "outputs": [],
   "source": [
    "p =predict(x,ws)"
   ]
  },
  {
   "cell_type": "code",
   "execution_count": 1436,
   "metadata": {
    "collapsed": false
   },
   "outputs": [],
   "source": [
    "'''\n",
    "Function desc: To calculate the model parameters suh as precision, recall and f-measure from the confusion-matrix\n",
    "Inuput: Actual and predicted values\n",
    "Output: model parameters\n",
    "\n",
    "\n",
    "Classification accuracy\n",
    "(TP + TN) / (TP + TN + FP + FN)\n",
    "Error rate\n",
    "(FP + FN) / (TP + TN + FP + FN)\n",
    "\n",
    "Precision: (or Positive predictive value)\n",
    "proportion of predicted positives which\n",
    "are actual positive\n",
    "TP / (TP + FP)\n",
    "Recall: proportion of actual positives\n",
    "which are predicted positive\n",
    "TP / (TP + FN)\n",
    "\n",
    "'''\n",
    "\n",
    "def model_eval(actual,predicted):\n",
    "    Truth= pd.Series(actual,name = 'Truth' )\n",
    "    Predicted = pd.Series(predicted,name='Predicted')\n",
    "    confusion_matrix = pd.crosstab(Truth, Predicted)\n",
    "    arr_cm = confusion_matrix.as_matrix()\n",
    "    diag = arr_cm.diagonal()\n",
    "    accuracy = float(sum(diag))/np.sum(arr_cm)\n",
    "    precision = np.divide(diag,1.0*(np.sum(arr_cm,axis=0))) \n",
    "    recall = np.divide(diag,1.0*(np.sum(arr_cm,axis=0)))\n",
    "    fmeasure = 2*((precision * recall)/(precision + recall))\n",
    "    return confusion_matrix,accuracy,precision,recall,fmeasure"
   ]
  },
  {
   "cell_type": "code",
   "execution_count": 1437,
   "metadata": {
    "collapsed": false
   },
   "outputs": [],
   "source": [
    "'''Function to perform 10-fold cross validation. In this method the test and traparams in indices are split using using the inbuit\n",
    "   'KFold' function.\n",
    "    Input 1: 'x' \n",
    "    Input 2: True predicted values\n",
    "    Input 3: No of folds (10 by default)\n",
    "    \n",
    "    Performance measures such as accuracy, precision, f-measure\n",
    "'''\n",
    "\n",
    "def x_fold_validation(x,y,nfolds=10,shuffle=True,random_state=23):\n",
    "    confusion_matrix_list=[]\n",
    "    accuracy_list=[]\n",
    "    precision_list=[]\n",
    "    recall_list=[]\n",
    "    fmeasure_list=[]\n",
    "    cv = KFold(len(y), nfolds,shuffle=True,random_state=23) #inbuilt function to split the indices\n",
    "    for train_idx, test_idx in cv:\n",
    "        x_train = x[train_idx]\n",
    "        y_train = y[train_idx]\n",
    "        x_test = x[test_idx]\n",
    "        y_test = y[test_idx]\n",
    "        sol = prepare_data(x_train,y_train)\n",
    "        alpha=[]\n",
    "        for i in sol['x']:\n",
    "            alpha.append(i)\n",
    "        support_vec,support_vec_x,support_vec_y=find_support_vectors(alpha,x_train,y_train)\n",
    "        ws = find_w_w0(support_vec,alpha,x,y,support_vec_x,support_vec_y)\n",
    "        w=ws[0]\n",
    "        w0=ws[1]\n",
    "        pred = predict(x_test,ws)\n",
    "        conf_matrix,accuracy,precision,recall,fmeasure = model_eval(y_test.tolist(),pred)\n",
    "        print conf_matrix\n",
    "        confusion_matrix_list.append(conf_matrix)\n",
    "        accuracy_list.append(accuracy)\n",
    "        precision_list.append(precision.tolist())\n",
    "        recall_list.append(recall.tolist())\n",
    "        fmeasure_list.append(fmeasure.tolist())\n",
    "    print '################################'\n",
    "    print 'Average of the model parameters'\n",
    "    print '################################'\n",
    "    print 'Error rate:', (1-np.mean(accuracy_list))\n",
    "    print 'Accuracy:',np.mean(accuracy_list) \n",
    "    print 'Precision:', np.mean(precision_list,axis=0)\n",
    "    print 'Recall:', np.mean(recall_list,axis=0)\n",
    "    print 'F-measure:', np.mean(fmeasure_list,axis=0)\n",
    "            "
   ]
  },
  {
   "cell_type": "code",
   "execution_count": 1438,
   "metadata": {
    "collapsed": false
   },
   "outputs": [
    {
     "name": "stdout",
     "output_type": "stream",
     "text": [
      "     pcost       dcost       gap    pres   dres\n",
      " 0: -2.5464e+01 -4.8317e+01  5e+02  2e+01  2e+00\n",
      " 1: -3.5263e+01 -2.5704e+01  2e+02  8e+00  7e-01\n",
      " 2: -8.7654e+01 -5.7413e+01  2e+02  7e+00  6e-01\n",
      " 3: -1.1652e+02 -6.0320e+01  2e+02  5e+00  5e-01\n",
      " 4: -3.4238e+01 -1.3506e+01  6e+01  1e+00  1e-01\n",
      " 5: -7.1555e+00 -9.5265e+00  2e+00  4e-15  2e-14\n",
      " 6: -8.4551e+00 -8.4917e+00  4e-02  6e-15  1e-14\n",
      " 7: -8.4811e+00 -8.4815e+00  4e-04  2e-15  1e-14\n",
      " 8: -8.4814e+00 -8.4814e+00  4e-06  3e-15  1e-14\n",
      "Optimal solution found.\n",
      "No of. support vectors found 3\n",
      "Predicted  -1   1\n",
      "Truth            \n",
      "-1          9   0\n",
      " 1          0  11\n",
      "     pcost       dcost       gap    pres   dres\n",
      " 0: -2.5303e+01 -4.7868e+01  5e+02  2e+01  2e+00\n",
      " 1: -3.8535e+01 -2.7387e+01  2e+02  8e+00  7e-01\n",
      " 2: -8.3125e+01 -5.5377e+01  2e+02  7e+00  6e-01\n",
      " 3: -1.4178e+02 -7.3327e+01  2e+02  6e+00  5e-01\n",
      " 4: -3.4975e+01 -1.4244e+01  8e+01  1e+00  1e-01\n",
      " 5: -6.8825e+00 -9.6448e+00  3e+00  2e-14  3e-14\n",
      " 6: -8.4450e+00 -8.4928e+00  5e-02  6e-15  1e-14\n",
      " 7: -8.4810e+00 -8.4815e+00  5e-04  1e-14  1e-14\n",
      " 8: -8.4814e+00 -8.4814e+00  5e-06  9e-15  1e-14\n",
      "Optimal solution found.\n",
      "No of. support vectors found 3\n",
      "Predicted  -1   1\n",
      "Truth            \n",
      "-1         13   0\n",
      " 1          0   7\n",
      "     pcost       dcost       gap    pres   dres\n",
      " 0: -2.4737e+01 -4.7428e+01  5e+02  2e+01  2e+00\n",
      " 1: -3.4365e+01 -2.6747e+01  2e+02  8e+00  7e-01\n",
      " 2: -8.4743e+01 -5.8323e+01  2e+02  7e+00  7e-01\n",
      " 3: -1.3791e+02 -6.5204e+01  2e+02  5e+00  4e-01\n",
      " 4: -1.5041e+01 -1.1719e+01  3e+01  5e-01  4e-02\n",
      " 5: -7.3668e+00 -8.9830e+00  2e+00  2e-15  1e-14\n",
      " 6: -8.4670e+00 -8.4866e+00  2e-02  1e-14  9e-15\n",
      " 7: -8.4812e+00 -8.4814e+00  2e-04  2e-14  1e-14\n",
      " 8: -8.4814e+00 -8.4814e+00  2e-06  6e-15  1e-14\n",
      "Optimal solution found.\n",
      "No of. support vectors found 3\n",
      "Predicted  -1   1\n",
      "Truth            \n",
      "-1         10   0\n",
      " 1          0  10\n",
      "     pcost       dcost       gap    pres   dres\n",
      " 0: -2.4445e+01 -4.6626e+01  5e+02  2e+01  2e+00\n",
      " 1: -3.7192e+01 -2.7364e+01  2e+02  8e+00  7e-01\n",
      " 2: -8.8456e+01 -5.9398e+01  2e+02  7e+00  6e-01\n",
      " 3: -1.3245e+02 -6.5046e+01  2e+02  5e+00  4e-01\n",
      " 4: -2.1487e+01 -1.2062e+01  5e+01  8e-01  7e-02\n",
      " 5: -7.2031e+00 -9.2562e+00  2e+00  8e-15  2e-14\n",
      " 6: -8.4592e+00 -8.4898e+00  3e-02  8e-15  1e-14\n",
      " 7: -8.4811e+00 -8.4815e+00  3e-04  9e-15  1e-14\n",
      " 8: -8.4814e+00 -8.4814e+00  3e-06  1e-14  9e-15\n",
      "Optimal solution found.\n",
      "No of. support vectors found 4\n",
      "Predicted  -1   1\n",
      "Truth            \n",
      "-1         11   0\n",
      " 1          0   9\n",
      "     pcost       dcost       gap    pres   dres\n",
      " 0: -2.5201e+01 -4.7801e+01  5e+02  2e+01  2e+00\n",
      " 1: -3.6729e+01 -2.6069e+01  2e+02  8e+00  7e-01\n",
      " 2: -6.4970e+01 -4.2902e+01  2e+02  7e+00  6e-01\n",
      " 3: -5.2322e+01 -2.0146e+01  1e+02  3e+00  3e-01\n",
      " 4: -8.9104e+00 -7.0942e+00  1e+01  3e-01  2e-02\n",
      " 5: -5.7928e+00 -6.0773e+00  3e-01  2e-15  8e-15\n",
      " 6: -5.9978e+00 -6.0009e+00  3e-03  2e-15  8e-15\n",
      " 7: -6.0001e+00 -6.0001e+00  3e-05  4e-15  8e-15\n",
      " 8: -6.0001e+00 -6.0001e+00  3e-07  9e-16  9e-15\n",
      "Optimal solution found.\n",
      "No of. support vectors found 3\n",
      "Predicted  -1   1\n",
      "Truth            \n",
      "-1         11   1\n",
      " 1          0   8\n",
      "     pcost       dcost       gap    pres   dres\n",
      " 0: -2.3770e+01 -4.5197e+01  5e+02  2e+01  2e+00\n",
      " 1: -3.4604e+01 -2.5753e+01  2e+02  8e+00  7e-01\n",
      " 2: -8.4823e+01 -5.7751e+01  2e+02  7e+00  6e-01\n",
      " 3: -1.4835e+02 -7.4751e+01  2e+02  5e+00  5e-01\n",
      " 4: -2.3702e+01 -1.2496e+01  6e+01  9e-01  8e-02\n",
      " 5: -6.9865e+00 -9.3856e+00  2e+00  3e-15  2e-14\n",
      " 6: -8.4536e+00 -8.4903e+00  4e-02  4e-15  1e-14\n",
      " 7: -8.4811e+00 -8.4815e+00  4e-04  3e-15  1e-14\n",
      " 8: -8.4814e+00 -8.4814e+00  4e-06  9e-15  1e-14\n",
      "Optimal solution found.\n",
      "No of. support vectors found 3\n",
      "Predicted  -1   1\n",
      "Truth            \n",
      "-1         11   0\n",
      " 1          0   9\n",
      "     pcost       dcost       gap    pres   dres\n",
      " 0: -2.4622e+01 -4.6718e+01  5e+02  2e+01  2e+00\n",
      " 1: -3.4868e+01 -2.5668e+01  2e+02  8e+00  7e-01\n",
      " 2: -8.4456e+01 -5.6493e+01  2e+02  7e+00  6e-01\n",
      " 3: -1.3329e+02 -6.4686e+01  2e+02  5e+00  4e-01\n",
      " 4: -2.0204e+01 -1.1914e+01  5e+01  7e-01  6e-02\n",
      " 5: -7.2273e+00 -9.2022e+00  2e+00  1e-14  2e-14\n",
      " 6: -8.4610e+00 -8.4890e+00  3e-02  7e-15  1e-14\n",
      " 7: -8.4812e+00 -8.4814e+00  3e-04  4e-15  1e-14\n",
      " 8: -8.4814e+00 -8.4814e+00  3e-06  4e-15  1e-14\n",
      "Optimal solution found.\n",
      "No of. support vectors found 4\n",
      "Predicted  -1   1\n",
      "Truth            \n",
      "-1         10   0\n",
      " 1          0  10\n",
      "     pcost       dcost       gap    pres   dres\n",
      " 0: -2.3390e+01 -4.4338e+01  5e+02  2e+01  2e+00\n",
      " 1: -3.4870e+01 -2.5245e+01  2e+02  8e+00  7e-01\n",
      " 2: -8.4451e+01 -5.6594e+01  2e+02  7e+00  6e-01\n",
      " 3: -1.3777e+02 -6.9221e+01  2e+02  5e+00  5e-01\n",
      " 4: -2.6201e+01 -1.2724e+01  6e+01  1e+00  9e-02\n",
      " 5: -7.0348e+00 -9.4468e+00  2e+00  2e-14  2e-14\n",
      " 6: -8.4535e+00 -8.4909e+00  4e-02  5e-15  1e-14\n",
      " 7: -8.4811e+00 -8.4815e+00  4e-04  2e-15  1e-14\n",
      " 8: -8.4814e+00 -8.4814e+00  4e-06  3e-15  9e-15\n",
      "Optimal solution found.\n",
      "No of. support vectors found 3\n",
      "Predicted  -1   1\n",
      "Truth            \n",
      "-1          7   0\n",
      " 1          0  13\n",
      "     pcost       dcost       gap    pres   dres\n",
      " 0: -2.3832e+01 -4.4585e+01  5e+02  2e+01  2e+00\n",
      " 1: -3.3708e+01 -2.2896e+01  2e+02  7e+00  6e-01\n",
      " 2: -4.1892e+01 -2.5489e+01  2e+02  6e+00  5e-01\n",
      " 3: -7.0550e+01 -2.0084e+01  6e+01  3e+00  2e-01\n",
      " 4: -3.8647e+00 -6.1422e+00  4e+00  2e-02  2e-03\n",
      " 5: -5.3368e+00 -5.4237e+00  1e-01  1e-03  8e-05\n",
      " 6: -5.4134e+00 -5.4143e+00  1e-03  1e-05  9e-07\n",
      " 7: -5.4142e+00 -5.4142e+00  1e-05  1e-07  9e-09\n",
      " 8: -5.4142e+00 -5.4142e+00  1e-07  1e-09  9e-11\n",
      "Optimal solution found.\n",
      "No of. support vectors found 3\n",
      "Predicted  -1   1\n",
      "Truth            \n",
      "-1         10   0\n",
      " 1          0  10\n",
      "     pcost       dcost       gap    pres   dres\n",
      " 0: -2.4651e+01 -4.6811e+01  5e+02  2e+01  2e+00\n",
      " 1: -3.5232e+01 -2.4813e+01  2e+02  8e+00  6e-01\n",
      " 2: -8.3499e+01 -5.4001e+01  2e+02  7e+00  6e-01\n",
      " 3: -1.1418e+02 -5.7401e+01  2e+02  5e+00  4e-01\n",
      " 4: -2.9385e+01 -1.2469e+01  6e+01  1e+00  9e-02\n",
      " 5: -6.9884e+00 -9.1444e+00  2e+00  8e-15  2e-14\n",
      " 6: -8.2068e+00 -8.2387e+00  3e-02  4e-15  1e-14\n",
      " 7: -8.2294e+00 -8.2297e+00  3e-04  6e-15  1e-14\n",
      " 8: -8.2296e+00 -8.2296e+00  3e-06  1e-15  1e-14\n",
      "Optimal solution found.\n",
      "No of. support vectors found 3\n",
      "Predicted  -1   1\n",
      "Truth            \n",
      "-1          7   0\n",
      " 1          0  13\n",
      "################################\n",
      "Average of the model parameters\n",
      "################################\n",
      "Error rate: 0.005\n",
      "Accuracy: 0.995\n",
      "Precision: [ 1.          0.98888889]\n",
      "Recall: [ 1.          0.98888889]\n",
      "F-measure: [ 1.          0.98888889]\n"
     ]
    }
   ],
   "source": [
    "x_fold_validation(np.array(x),np.array(y))"
   ]
  },
  {
   "cell_type": "code",
   "execution_count": 1439,
   "metadata": {
    "collapsed": false
   },
   "outputs": [
    {
     "data": {
      "text/plain": [
       "<matplotlib.collections.PathCollection at 0x43960a20>"
      ]
     },
     "execution_count": 1439,
     "metadata": {},
     "output_type": "execute_result"
    },
    {
     "data": {
      "image/png": "[encoded data removed]",
      "text/plain": [
       "<matplotlib.figure.Figure at 0x4305d080>"
      ]
     },
     "metadata": {},
     "output_type": "display_data"
    }
   ],
   "source": [
    "'''\n",
    "code snippet to plot the data points and the support vectors\n",
    "\n",
    "'''\n",
    "\n",
    "n=np.shape(x)[0]/2\n",
    "x1= np.array(x[0:n])\n",
    "x2=np.array(x[n:])\n",
    "support_vec_x = np.array(support_vec_x)\n",
    "\n",
    "plt.scatter(x1[:,0],x1[:,1],c='r')\n",
    "plt.scatter(x2[:,0],x2[:,1])\n",
    "plt.scatter(support_vec_x[:,0],support_vec_x[:,1],s=50,c=\"y\")"
   ]
  },
  {
   "cell_type": "code",
   "execution_count": null,
   "metadata": {
    "collapsed": true
   },
   "outputs": [],
   "source": []
  },
  {
   "cell_type": "code",
   "execution_count": null,
   "metadata": {
    "collapsed": true
   },
   "outputs": [],
   "source": []
  }
 ],
 "metadata": {
  "kernelspec": {
   "display_name": "Python 2",
   "language": "python",
   "name": "python2"
  },
  "language_info": {
   "codemirror_mode": {
    "name": "ipython",
    "version": 2
   },
   "file_extension": ".py",
   "mimetype": "text/x-python",
   "name": "python",
   "nbconvert_exporter": "python",
   "pygments_lexer": "ipython2",
   "version": "2.7.11"
  }
 },
 "nbformat": 4,
 "nbformat_minor": 0
}
