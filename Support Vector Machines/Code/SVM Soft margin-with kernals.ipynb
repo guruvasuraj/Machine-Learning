{
 "cells": [
  {
   "cell_type": "code",
   "execution_count": 1046,
   "metadata": {
    "collapsed": true
   },
   "outputs": [],
   "source": [
    "#import statements\n",
    "import numpy as np\n",
    "import pandas as pd\n",
    "import cvxopt\n",
    "from cvxopt import solvers\n",
    "\n",
    "from sklearn.cross_validation import KFold\n",
    "import math\n",
    "import random\n",
    "from random import shuffle\n",
    "from sklearn import datasets\n",
    "\n",
    "import matplotlib.pyplot as plt\n",
    "%matplotlib inline"
   ]
  },
  {
   "cell_type": "code",
   "execution_count": 1051,
   "metadata": {
    "collapsed": true
   },
   "outputs": [],
   "source": [
    "'''\n",
    "Function Desc: Generate linear and non linear datasets from random points.\n",
    "\n",
    "'''\n",
    "def generate_Lin_nonlin_Data(n,slider):\n",
    "    data = []\n",
    "    np.random.seed(23)\n",
    "    x1 = (np.random.rand(n) * 2)+slider\n",
    "    y1 = (np.random.rand(n) * 2)+slider\n",
    "    x2 = (np.random.rand(n) * 2)-slider\n",
    "    y2 = (np.random.rand(n) * 2)-slider\n",
    "    if slider >= 0.8:# adjust the distance between the points for generating data\n",
    "        plt.title('Linearly separable data')\n",
    "    else:\n",
    "        plt.title('Non-linearly separable data')\n",
    "    #plot the generated data\n",
    "    plt.scatter(np.array(x1),np.array(y1),c='b')\n",
    "    plt.scatter(np.array(x2),np.array(y2),c='r')\n",
    "    plt.show() \n",
    "    data.extend([[x1[i], y1[i], 1] for i in xrange(n)])\n",
    "    data.extend([[x2[i], y2[i], -1] for i in xrange(n)])\n",
    "    return data"
   ]
  },
  {
   "cell_type": "code",
   "execution_count": 1078,
   "metadata": {
    "collapsed": false
   },
   "outputs": [
    {
     "data": {
      "image/png": "[encoded data removed]",
      "text/plain": [
       "<matplotlib.figure.Figure at 0x37498710>"
      ]
     },
     "metadata": {},
     "output_type": "display_data"
    }
   ],
   "source": [
    "data = generate_Lin_nonlin_Data(100,0.4)\n",
    "x=[]\n",
    "y=[]\n",
    "for i in data:\n",
    "    y.append(i[-1])\n",
    "    x.append(i[0:-1])"
   ]
  },
  {
   "cell_type": "code",
   "execution_count": 1079,
   "metadata": {
    "collapsed": false
   },
   "outputs": [],
   "source": [
    "'''\n",
    "Function desc: load the data \n",
    "returns: numpy array containing all features and classes (Iris-versicolor and Iris-virginica)\n",
    "'''\n",
    "def load_data():\n",
    "    iris = datasets.load_iris()\n",
    "    x = iris['data']\n",
    "    y = iris['target']\n",
    "    x,y = x[y != 1], y[y != 1] \n",
    "    x=x[:,:2]\n",
    "    y = y+1\n",
    "    plt.title(\"Linearly Separable data - Iris Data set\")\n",
    "    plt.xlabel('sepal_length')\n",
    "    plt.ylabel(\"sepal_width\")\n",
    "    plt.scatter(np.array(x[:50,0]),np.array(x[:50,1]),c='b')\n",
    "    plt.scatter(np.array(x[-50:,0]),np.array(x[-50:,1]),c='r')\n",
    "    #plt.scatter(np.array(x2),np.array(y2),c='r')\n",
    "    return x,y"
   ]
  },
  {
   "cell_type": "code",
   "execution_count": 1080,
   "metadata": {
    "collapsed": false
   },
   "outputs": [],
   "source": [
    "#x,y=load_data()"
   ]
  },
  {
   "cell_type": "code",
   "execution_count": 1081,
   "metadata": {
    "collapsed": false
   },
   "outputs": [],
   "source": [
    "def kernals(x1,x2,kernal_type,deg_gamma):\n",
    "    if kernal_type == 'polynomial':\n",
    "        return (np.dot(x1,x2)+1)**deg_gamma\n",
    "    if kernal_type == 'gaussian':\n",
    "        t1 = x1-x2\n",
    "        t2=np.dot(t1,t1.T)*(-1.0/deg_gamma)\n",
    "        return np.exp(t2)\n",
    "    \n",
    "        "
   ]
  },
  {
   "cell_type": "code",
   "execution_count": 1082,
   "metadata": {
    "collapsed": false
   },
   "outputs": [],
   "source": [
    "'''\n",
    "Function desc: Prepare the data to be supplied to the cvxopt solver\n",
    "'''\n",
    "\n",
    "\n",
    "def prepare_data(x,y,c,kernel,deg_gamma):\n",
    "    kern=np.zeros((len(y), len(y)))\n",
    "    for i in range(np.shape(x)[0]):\n",
    "        for j in range(np.shape(x)[0]):\n",
    "            kern[i,j] = kernals(x[i],x[j],kernel,deg_gamma)\n",
    "    P = cvxopt.matrix(np.outer(y,y) * kern)\n",
    "    A_temp = np.ones(len(y))*y\n",
    "    A = cvxopt.matrix(A_temp,(1,len(y)))\n",
    "    q =  cvxopt.matrix(-1 * np.ones(len(y)))\n",
    "    b = cvxopt.matrix(0.0)\n",
    "    g1 = np.diag(np.ones(len(y)) * -1)\n",
    "    g2 = np.diag(np.ones(len(y)))\n",
    "    G= cvxopt.matrix(np.vstack((g1,g2)))\n",
    "    h1 = [0.0 for i in xrange(len(y))]\n",
    "    h2 = [c for i in xrange(len(y))]\n",
    "    h_t1 = np.reshape(h1,(len(y),1))\n",
    "    h_t2=np.reshape(h2,(len(y),1))\n",
    "    h=cvxopt.matrix(np.vstack((h_t1,h_t2)))\n",
    "    sol = solvers.qp(P,q,G,h,A,b)\n",
    "    return sol"
   ]
  },
  {
   "cell_type": "code",
   "execution_count": 1083,
   "metadata": {
    "collapsed": false
   },
   "outputs": [
    {
     "name": "stdout",
     "output_type": "stream",
     "text": [
      "     pcost       dcost       gap    pres   dres\n",
      " 0: -5.2785e+01 -4.0852e+01  1e+03  2e+01  4e-14\n",
      " 1: -9.5540e+00 -3.8329e+01  9e+01  1e+00  4e-14\n",
      " 2: -6.9754e+00 -2.3547e+01  3e+01  3e-01  1e-14\n",
      " 3: -6.5517e+00 -9.7491e+00  4e+00  3e-02  7e-15\n",
      " 4: -7.1204e+00 -8.0483e+00  1e+00  7e-03  6e-15\n",
      " 5: -7.2649e+00 -7.7745e+00  6e-01  3e-03  7e-15\n",
      " 6: -7.4000e+00 -7.5407e+00  2e-01  7e-04  8e-15\n",
      " 7: -7.4490e+00 -7.4653e+00  2e-02  6e-05  7e-15\n",
      " 8: -7.4552e+00 -7.4565e+00  1e-03  4e-06  7e-15\n",
      " 9: -7.4558e+00 -7.4558e+00  4e-05  9e-08  7e-15\n",
      "10: -7.4558e+00 -7.4558e+00  1e-06  1e-09  8e-15\n",
      "Optimal solution found.\n"
     ]
    }
   ],
   "source": [
    "solution = prepare_data(np.array(x),y,0.1,'polynomial',2)\n",
    "alpha=[]\n",
    "for i in solution['x']:\n",
    "    alpha.append(i)"
   ]
  },
  {
   "cell_type": "code",
   "execution_count": 1084,
   "metadata": {
    "collapsed": false
   },
   "outputs": [],
   "source": [
    "'''\n",
    "Function desc: Find the support vectors\n",
    "'''\n",
    "\n",
    "def find_support_vectors(alfa,x,y):\n",
    "    sup_vec = []\n",
    "    sup_vec_x=[]\n",
    "    sup_vec_y = []\n",
    "    for i in range(len(alfa)):\n",
    "        if alfa[i] > 1e-3:\n",
    "            sup_vec.append(alfa[i])\n",
    "            sup_vec_x.append(x[i])\n",
    "            sup_vec_y.append(y[i])\n",
    "    print \"No of. support vectors found\",len(sup_vec)\n",
    "    \n",
    "    return sup_vec,sup_vec_x,sup_vec_y"
   ]
  },
  {
   "cell_type": "code",
   "execution_count": 1085,
   "metadata": {
    "collapsed": false
   },
   "outputs": [
    {
     "name": "stdout",
     "output_type": "stream",
     "text": [
      "No of. support vectors found 80\n"
     ]
    }
   ],
   "source": [
    "support_vec,support_vec_x,support_vec_y =  find_support_vectors(alpha,x,y)\n"
   ]
  },
  {
   "cell_type": "code",
   "execution_count": 1086,
   "metadata": {
    "collapsed": false
   },
   "outputs": [],
   "source": [
    "\n",
    "'''\n",
    "Function Desc: Calculate the model parameters\n",
    "\n",
    "\n",
    "'''\n",
    "\n",
    "\n",
    "def find_w_w0(support_vec,alpha,x,y,support_vec_x,support_vec_y):\n",
    "    ws=[]\n",
    "    w0=[]\n",
    "    w_= np.zeros(np.shape(x)[1])\n",
    "    for i in range(np.shape(support_vec)[0]):\n",
    "        w_ += support_vec[i] *support_vec_y[i] * np.array(support_vec_x[i])\n",
    "    for s in range(np.shape(support_vec_x)[0]):\n",
    "        w_o = y[s] - np.dot(w_.T,support_vec_x[s])\n",
    "        w0.append(w_o)\n",
    "    w_0 = (1./len(support_vec)) * np.sum(w0)\n",
    "    return (w_,w_0)\n",
    "        \n",
    "    \n",
    "    \n",
    "    \n",
    "    "
   ]
  },
  {
   "cell_type": "code",
   "execution_count": 1087,
   "metadata": {
    "collapsed": false
   },
   "outputs": [],
   "source": [
    "ws = find_w_w0(support_vec,alpha,x,y,support_vec_x,support_vec_y)"
   ]
  },
  {
   "cell_type": "code",
   "execution_count": 1088,
   "metadata": {
    "collapsed": true
   },
   "outputs": [],
   "source": [
    "'''\n",
    "Function Desc: Calculate the predicted values\n",
    "'''\n",
    "\n",
    "def predict_cls(x,ws): \n",
    "    pred = np.dot(ws[0].T,x)+ ws[1]\n",
    "    return pred\n",
    "    "
   ]
  },
  {
   "cell_type": "code",
   "execution_count": 1104,
   "metadata": {
    "collapsed": false
   },
   "outputs": [],
   "source": [
    "'''\n",
    "Function Desc: Determine the class of the predicted values\n",
    "'''\n",
    "\n",
    "def predict(x,ws):\n",
    "    predicted = []\n",
    "    for i in range(np.shape(x)[0]):\n",
    "        pred = predict_cls(x[i],ws)\n",
    "        if pred > 1:\n",
    "            predicted.append(1)\n",
    "        else:\n",
    "            predicted.append(-1)\n",
    "    return predicted\n"
   ]
  },
  {
   "cell_type": "code",
   "execution_count": 1105,
   "metadata": {
    "collapsed": false
   },
   "outputs": [],
   "source": [
    "p=predict(x,ws)\n"
   ]
  },
  {
   "cell_type": "code",
   "execution_count": 1106,
   "metadata": {
    "collapsed": false
   },
   "outputs": [],
   "source": [
    "'''\n",
    "Function desc: To calculate the model parameters suh as precision, recall and f-measure from the confusion-matrix\n",
    "Inuput: Actual and predicted values\n",
    "Output: model parameters\n",
    "\n",
    "\n",
    "Classification accuracy\n",
    "(TP + TN) / (TP + TN + FP + FN)\n",
    "Error rate\n",
    "(FP + FN) / (TP + TN + FP + FN)\n",
    "\n",
    "Precision: (or Positive predictive value)\n",
    "proportion of predicted positives which\n",
    "are actual positive\n",
    "TP / (TP + FP)\n",
    "Recall: proportion of actual positives\n",
    "which are predicted positive\n",
    "TP / (TP + FN)\n",
    "\n",
    "'''\n",
    "\n",
    "def model_eval(actual,predicted):\n",
    "    Truth= pd.Series(actual,name = 'Truth' )\n",
    "    Predicted = pd.Series(predicted,name='Predicted')\n",
    "    confusion_matrix = pd.crosstab(Truth, Predicted)\n",
    "    arr_cm = confusion_matrix.as_matrix()\n",
    "    diag = arr_cm.diagonal()\n",
    "    accuracy = float(sum(diag))/np.sum(arr_cm)\n",
    "    precision = np.divide(diag,1.0*(np.sum(arr_cm,axis=0))) \n",
    "    recall = np.divide(diag,1.0*(np.sum(arr_cm,axis=0)))\n",
    "    fmeasure = 2*((precision * recall)/(precision + recall))\n",
    "    return confusion_matrix,accuracy,precision,recall,fmeasure"
   ]
  },
  {
   "cell_type": "code",
   "execution_count": 1107,
   "metadata": {
    "collapsed": false
   },
   "outputs": [],
   "source": [
    "'''Function to perform 10-fold cross validation. In this method the test and traparams in indices are split using using the inbuit\n",
    "   'KFold' function.\n",
    "    Input 1: 'x' \n",
    "    Input 2: True predicted values\n",
    "    Input 3: No of folds (10 by default)\n",
    "    \n",
    "    Performance measures such as accuracy, precision, f-measure\n",
    "'''\n",
    "\n",
    "def x_fold_validation(x,y,nfolds=10,shuffle=True,random_state=23):\n",
    "    confusion_matrix_list=[]\n",
    "    accuracy_list=[]\n",
    "    precision_list=[]\n",
    "    recall_list=[]\n",
    "    fmeasure_list=[]\n",
    "    cv = KFold(len(y), nfolds,shuffle=True,random_state=23) #inbuilt function to split the indices\n",
    "    for train_idx, test_idx in cv:\n",
    "        x_train = x[train_idx]\n",
    "        y_train = y[train_idx]\n",
    "        x_test = x[test_idx]\n",
    "        y_test = y[test_idx]\n",
    "        sol = prepare_data(x_train,y_train,0.1,'polynomial',2)\n",
    "        alpha=[]\n",
    "        for i in sol['x']:\n",
    "            alpha.append(i)\n",
    "        support_vec,support_vec_x,support_vec_y=find_support_vectors(alpha,x_train,y_train)\n",
    "        ws = find_w_w0(support_vec,alpha,x,y,support_vec_x,support_vec_y)\n",
    "        pred = predict(x_test,ws)\n",
    "        conf_matrix,accuracy,precision,recall,fmeasure = model_eval(y_test.tolist(),pred)\n",
    "        print conf_matrix\n",
    "        confusion_matrix_list.append(conf_matrix)\n",
    "        accuracy_list.append(accuracy)\n",
    "        precision_list.append(precision.tolist())\n",
    "        recall_list.append(recall.tolist())\n",
    "        fmeasure_list.append(fmeasure.tolist())\n",
    "    print '################################'\n",
    "    print 'Average of the model parameters'\n",
    "    print '################################'\n",
    "    print 'Error rate:', (1-np.mean(accuracy_list))\n",
    "    print 'Accuracy:',np.mean(accuracy_list) \n",
    "    print 'Precision:', np.mean(precision_list,axis=0)\n",
    "    print 'Recall:', np.mean(recall_list,axis=0)\n",
    "    print 'F-measure:', np.mean(fmeasure_list,axis=0)\n",
    "            "
   ]
  },
  {
   "cell_type": "code",
   "execution_count": 1108,
   "metadata": {
    "collapsed": false
   },
   "outputs": [
    {
     "name": "stdout",
     "output_type": "stream",
     "text": [
      "     pcost       dcost       gap    pres   dres\n",
      " 0: -4.8508e+01 -3.6729e+01  1e+03  2e+01  5e-14\n",
      " 1: -8.7430e+00 -3.4477e+01  8e+01  1e+00  3e-14\n",
      " 2: -6.4821e+00 -2.1320e+01  2e+01  3e-01  1e-14\n",
      " 3: -6.0654e+00 -8.8928e+00  3e+00  3e-02  7e-15\n",
      " 4: -6.6198e+00 -7.3651e+00  9e-01  6e-03  6e-15\n",
      " 5: -6.7491e+00 -7.1459e+00  4e-01  3e-03  6e-15\n",
      " 6: -6.8197e+00 -7.0286e+00  2e-01  1e-03  5e-15\n",
      " 7: -6.8678e+00 -6.9445e+00  8e-02  4e-04  6e-15\n",
      " 8: -6.8971e+00 -6.9028e+00  6e-03  1e-05  6e-15\n",
      " 9: -6.8996e+00 -6.8997e+00  8e-05  2e-07  6e-15\n",
      "10: -6.8996e+00 -6.8996e+00  8e-07  2e-09  7e-15\n",
      "Optimal solution found.\n",
      "No of. support vectors found 75\n",
      "Predicted  -1   1\n",
      "Truth            \n",
      "-1          7   2\n",
      " 1          0  11\n",
      "     pcost       dcost       gap    pres   dres\n",
      " 0: -4.8368e+01 -3.7105e+01  1e+03  3e+01  7e-14\n",
      " 1: -8.7356e+00 -3.4860e+01  8e+01  1e+00  5e-14\n",
      " 2: -6.4557e+00 -2.1507e+01  2e+01  3e-01  1e-14\n",
      " 3: -6.1204e+00 -8.8718e+00  3e+00  3e-02  6e-15\n",
      " 4: -6.6629e+00 -7.5189e+00  1e+00  7e-03  5e-15\n",
      " 5: -6.8170e+00 -7.2461e+00  5e-01  3e-03  5e-15\n",
      " 6: -6.9107e+00 -7.0950e+00  2e-01  1e-03  5e-15\n",
      " 7: -6.9519e+00 -7.0289e+00  8e-02  3e-04  6e-15\n",
      " 8: -6.9704e+00 -6.9990e+00  3e-02  6e-05  6e-15\n",
      " 9: -6.9815e+00 -6.9853e+00  4e-03  5e-06  8e-15\n",
      "10: -6.9832e+00 -6.9834e+00  1e-04  1e-07  6e-15\n",
      "11: -6.9833e+00 -6.9833e+00  2e-06  2e-09  7e-15\n",
      "Optimal solution found.\n",
      "No of. support vectors found 75\n",
      "Predicted  -1   1\n",
      "Truth            \n",
      "-1         10   3\n",
      " 1          0   7\n",
      "     pcost       dcost       gap    pres   dres\n",
      " 0: -4.7411e+01 -3.6682e+01  1e+03  2e+01  4e-14\n",
      " 1: -8.5499e+00 -3.4403e+01  8e+01  1e+00  5e-14\n",
      " 2: -6.2798e+00 -2.0881e+01  2e+01  3e-01  1e-14\n",
      " 3: -5.9058e+00 -8.7088e+00  3e+00  3e-02  7e-15\n",
      " 4: -6.4111e+00 -7.2516e+00  1e+00  8e-03  5e-15\n",
      " 5: -6.5700e+00 -6.9133e+00  4e-01  3e-03  6e-15\n",
      " 6: -6.6583e+00 -6.7793e+00  1e-01  7e-04  7e-15\n",
      " 7: -6.6990e+00 -6.7213e+00  2e-02  8e-05  6e-15\n",
      " 8: -6.7059e+00 -6.7118e+00  6e-03  1e-05  7e-15\n",
      " 9: -6.7084e+00 -6.7088e+00  4e-04  8e-07  8e-15\n",
      "10: -6.7086e+00 -6.7086e+00  4e-06  9e-09  8e-15\n",
      "Optimal solution found.\n",
      "No of. support vectors found 73\n",
      "Predicted  -1   1\n",
      "Truth            \n",
      "-1         10   0\n",
      " 1          3   7\n",
      "     pcost       dcost       gap    pres   dres\n",
      " 0: -4.7200e+01 -3.6507e+01  1e+03  2e+01  5e-14\n",
      " 1: -8.6176e+00 -3.4235e+01  8e+01  1e+00  4e-14\n",
      " 2: -6.2519e+00 -2.0905e+01  2e+01  3e-01  1e-14\n",
      " 3: -5.9125e+00 -8.6505e+00  3e+00  3e-02  7e-15\n",
      " 4: -6.4005e+00 -7.2352e+00  1e+00  7e-03  5e-15\n",
      " 5: -6.5564e+00 -6.9706e+00  5e-01  3e-03  5e-15\n",
      " 6: -6.6634e+00 -6.7825e+00  1e-01  6e-04  5e-15\n",
      " 7: -6.7011e+00 -6.7206e+00  2e-02  2e-05  6e-15\n",
      " 8: -6.7085e+00 -6.7113e+00  3e-03  2e-06  6e-15\n",
      " 9: -6.7097e+00 -6.7098e+00  8e-05  3e-08  6e-15\n",
      "10: -6.7098e+00 -6.7098e+00  2e-06  6e-10  6e-15\n",
      "Optimal solution found.\n",
      "No of. support vectors found 74\n",
      "Predicted  -1   1\n",
      "Truth            \n",
      "-1         10   1\n",
      " 1          2   7\n",
      "     pcost       dcost       gap    pres   dres\n",
      " 0: -4.8258e+01 -3.6954e+01  1e+03  3e+01  4e-14\n",
      " 1: -8.7503e+00 -3.4701e+01  8e+01  1e+00  4e-14\n",
      " 2: -6.4518e+00 -2.1228e+01  2e+01  3e-01  9e-15\n",
      " 3: -6.1769e+00 -8.8896e+00  3e+00  3e-02  7e-15\n",
      " 4: -6.7668e+00 -7.4701e+00  8e-01  6e-03  6e-15\n",
      " 5: -6.9118e+00 -7.2488e+00  4e-01  2e-03  6e-15\n",
      " 6: -7.0224e+00 -7.0808e+00  6e-02  2e-04  7e-15\n",
      " 7: -7.0459e+00 -7.0493e+00  4e-03  6e-06  6e-15\n",
      " 8: -7.0475e+00 -7.0476e+00  8e-05  1e-07  7e-15\n",
      " 9: -7.0475e+00 -7.0475e+00  3e-06  5e-09  6e-15\n",
      "Optimal solution found.\n",
      "No of. support vectors found 76\n",
      "Predicted  -1   1\n",
      "Truth            \n",
      "-1         11   1\n",
      " 1          0   8\n",
      "     pcost       dcost       gap    pres   dres\n",
      " 0: -4.5875e+01 -3.6609e+01  1e+03  2e+01  4e-14\n",
      " 1: -8.3726e+00 -3.4322e+01  8e+01  1e+00  3e-14\n",
      " 2: -6.0423e+00 -2.1111e+01  3e+01  3e-01  1e-14\n",
      " 3: -5.5636e+00 -8.4824e+00  4e+00  3e-02  6e-15\n",
      " 4: -6.0558e+00 -6.9038e+00  1e+00  7e-03  5e-15\n",
      " 5: -6.1560e+00 -6.7128e+00  6e-01  4e-03  4e-15\n",
      " 6: -6.2611e+00 -6.5106e+00  3e-01  2e-03  5e-15\n",
      " 7: -6.3264e+00 -6.3984e+00  8e-02  3e-04  5e-15\n",
      " 8: -6.3491e+00 -6.3634e+00  2e-02  5e-05  6e-15\n",
      " 9: -6.3544e+00 -6.3553e+00  9e-04  2e-15  6e-15\n",
      "10: -6.3549e+00 -6.3549e+00  3e-05  3e-15  6e-15\n",
      "11: -6.3549e+00 -6.3549e+00  5e-07  2e-15  5e-15\n",
      "Optimal solution found.\n",
      "No of. support vectors found 68\n",
      "Predicted  -1   1\n",
      "Truth            \n",
      "-1          9   2\n",
      " 1          3   6\n",
      "     pcost       dcost       gap    pres   dres\n",
      " 0: -4.8597e+01 -3.6799e+01  1e+03  2e+01  4e-14\n",
      " 1: -8.9598e+00 -3.4555e+01  8e+01  1e+00  3e-14\n",
      " 2: -6.3894e+00 -2.1748e+01  3e+01  3e-01  9e-15\n",
      " 3: -6.0026e+00 -8.9007e+00  4e+00  3e-02  9e-15\n",
      " 4: -6.5361e+00 -7.4021e+00  1e+00  7e-03  5e-15\n",
      " 5: -6.7205e+00 -7.0610e+00  4e-01  2e-03  6e-15\n",
      " 6: -6.8243e+00 -6.8900e+00  7e-02  2e-04  5e-15\n",
      " 7: -6.8486e+00 -6.8568e+00  8e-03  1e-05  6e-15\n",
      " 8: -6.8521e+00 -6.8528e+00  7e-04  9e-07  5e-15\n",
      " 9: -6.8524e+00 -6.8525e+00  6e-05  7e-08  6e-15\n",
      "10: -6.8524e+00 -6.8524e+00  1e-06  1e-09  7e-15\n",
      "Optimal solution found.\n",
      "No of. support vectors found 74\n",
      "Predicted  -1   1\n",
      "Truth            \n",
      "-1          9   1\n",
      " 1          2   8\n",
      "     pcost       dcost       gap    pres   dres\n",
      " 0: -4.6302e+01 -3.7010e+01  1e+03  3e+01  5e-14\n",
      " 1: -8.5282e+00 -3.4724e+01  8e+01  1e+00  4e-14\n",
      " 2: -5.9965e+00 -2.1632e+01  3e+01  3e-01  1e-14\n",
      " 3: -5.5934e+00 -8.5522e+00  4e+00  3e-02  6e-15\n",
      " 4: -6.0918e+00 -7.0917e+00  1e+00  8e-03  6e-15\n",
      " 5: -6.3025e+00 -6.6662e+00  4e-01  2e-03  5e-15\n",
      " 6: -6.4067e+00 -6.4998e+00  1e-01  4e-04  6e-15\n",
      " 7: -6.4377e+00 -6.4563e+00  2e-02  6e-05  6e-15\n",
      " 8: -6.4455e+00 -6.4460e+00  5e-04  1e-06  6e-15\n",
      " 9: -6.4457e+00 -6.4457e+00  1e-05  2e-08  7e-15\n",
      "10: -6.4457e+00 -6.4457e+00  1e-07  2e-10  7e-15\n",
      "Optimal solution found.\n",
      "No of. support vectors found 70\n",
      "Predicted  -1   1\n",
      "Truth            \n",
      "-1          5   2\n",
      " 1          3  10\n",
      "     pcost       dcost       gap    pres   dres\n",
      " 0: -4.6224e+01 -3.6949e+01  1e+03  3e+01  6e-14\n",
      " 1: -8.4764e+00 -3.4668e+01  8e+01  1e+00  4e-14\n",
      " 2: -6.1345e+00 -2.1441e+01  3e+01  3e-01  1e-14\n",
      " 3: -5.6778e+00 -8.8665e+00  4e+00  3e-02  6e-15\n",
      " 4: -6.1657e+00 -7.0792e+00  1e+00  8e-03  6e-15\n",
      " 5: -6.3260e+00 -6.7377e+00  5e-01  3e-03  5e-15\n",
      " 6: -6.4416e+00 -6.5363e+00  1e-01  6e-04  5e-15\n",
      " 7: -6.4730e+00 -6.4860e+00  1e-02  7e-05  6e-15\n",
      " 8: -6.4778e+00 -6.4786e+00  8e-04  4e-06  6e-15\n",
      " 9: -6.4781e+00 -6.4782e+00  1e-05  6e-08  6e-15\n",
      "10: -6.4782e+00 -6.4782e+00  2e-07  6e-10  6e-15\n",
      "Optimal solution found.\n",
      "No of. support vectors found 70\n",
      "Predicted  -1   1\n",
      "Truth            \n",
      "-1          7   3\n",
      " 1          1   9\n",
      "     pcost       dcost       gap    pres   dres\n",
      " 0: -4.7887e+01 -3.6885e+01  1e+03  2e+01  5e-14\n",
      " 1: -8.7965e+00 -3.4625e+01  8e+01  1e+00  5e-14\n",
      " 2: -6.3438e+00 -2.1597e+01  3e+01  3e-01  1e-14\n",
      " 3: -5.9982e+00 -8.8842e+00  3e+00  3e-02  8e-15\n",
      " 4: -6.5452e+00 -7.3895e+00  1e+00  7e-03  6e-15\n",
      " 5: -6.7239e+00 -7.1055e+00  4e-01  2e-03  6e-15\n",
      " 6: -6.8232e+00 -6.9493e+00  1e-01  6e-04  6e-15\n",
      " 7: -6.8656e+00 -6.8919e+00  3e-02  5e-05  7e-15\n",
      " 8: -6.8747e+00 -6.8817e+00  7e-03  1e-05  6e-15\n",
      " 9: -6.8770e+00 -6.8788e+00  2e-03  2e-15  7e-15\n",
      "10: -6.8779e+00 -6.8780e+00  7e-05  2e-15  7e-15\n",
      "11: -6.8779e+00 -6.8779e+00  2e-06  4e-15  6e-15\n",
      "Optimal solution found.\n",
      "No of. support vectors found 73\n",
      "Predicted  -1   1\n",
      "Truth            \n",
      "-1          6   1\n",
      " 1          0  13\n",
      "################################\n",
      "Average of the model parameters\n",
      "################################\n",
      "Error rate: 0.15\n",
      "Accuracy: 0.85\n",
      "Precision: [ 0.86707459  0.84608364]\n",
      "Recall: [ 0.86707459  0.84608364]\n",
      "F-measure: [ 0.86707459  0.84608364]\n"
     ]
    }
   ],
   "source": [
    "x_fold_validation(np.array(x),np.array(y))"
   ]
  },
  {
   "cell_type": "code",
   "execution_count": 1045,
   "metadata": {
    "collapsed": false
   },
   "outputs": [
    {
     "data": {
      "text/plain": [
       "<matplotlib.collections.PathCollection at 0x1f95be48>"
      ]
     },
     "execution_count": 1045,
     "metadata": {},
     "output_type": "execute_result"
    },
    {
     "data": {
      "image/png": "[encoded data removed]",
      "text/plain": [
       "<matplotlib.figure.Figure at 0x362b2048>"
      ]
     },
     "metadata": {},
     "output_type": "display_data"
    }
   ],
   "source": [
    "'''\n",
    "code snippet to plot the data points and the support vectors\n",
    "\n",
    "'''\n",
    "\n",
    "\n",
    "n=np.shape(x)[0]/2\n",
    "x1= np.array(x[0:n])\n",
    "x2=np.array(x[n:])\n",
    "support_vec_x = np.array(support_vec_x)\n",
    "\n",
    "plt.scatter(x1[:,0],x1[:,1],c='r')\n",
    "plt.scatter(x2[:,0],x2[:,1])\n",
    "plt.scatter(support_vec_x[:,0],support_vec_x[:,1],s=50,c=\"y\")"
   ]
  },
  {
   "cell_type": "code",
   "execution_count": null,
   "metadata": {
    "collapsed": false
   },
   "outputs": [],
   "source": []
  },
  {
   "cell_type": "code",
   "execution_count": null,
   "metadata": {
    "collapsed": true
   },
   "outputs": [],
   "source": []
  }
 ],
 "metadata": {
  "kernelspec": {
   "display_name": "Python 2",
   "language": "python",
   "name": "python2"
  },
  "language_info": {
   "codemirror_mode": {
    "name": "ipython",
    "version": 2
   },
   "file_extension": ".py",
   "mimetype": "text/x-python",
   "name": "python",
   "nbconvert_exporter": "python",
   "pygments_lexer": "ipython2",
   "version": "2.7.11"
  }
 },
 "nbformat": 4,
 "nbformat_minor": 0
}
