{
 "cells": [
  {
   "cell_type": "code",
   "execution_count": 741,
   "metadata": {
    "collapsed": false
   },
   "outputs": [
    {
     "name": "stdout",
     "output_type": "stream",
     "text": [
      "\n"
     ]
    }
   ],
   "source": [
    "#import statements\n",
    "import numpy as np\n",
    "import pandas as pd\n",
    "import cvxopt\n",
    "from cvxopt import solvers\n",
    "from sklearn.cross_validation import KFold\n",
    "import math\n",
    "import random\n",
    "from random import shuffle\n",
    "from sklearn import datasets\n",
    "import matplotlib.pyplot as plt\n",
    "%matplotlib inline"
   ]
  },
  {
   "cell_type": "code",
   "execution_count": 742,
   "metadata": {
    "collapsed": false
   },
   "outputs": [],
   "source": [
    "'''\n",
    "Function Desc: Generate linear and non linear datasets from random points.\n",
    "\n",
    "'''\n",
    "def generate_Lin_nonlin_Data(n,m,slider):\n",
    "    data = []\n",
    "    np.random.seed(23)\n",
    "    x1 = (np.random.rand(n) * 2)+slider \n",
    "    y1 = (np.random.rand(n) * 2)+slider\n",
    "    x2 = (np.random.rand(m) * 2)-slider\n",
    "    y2 = (np.random.rand(m) * 2)-slider\n",
    "    if slider >= 0.8: # adjust the distance between the points for generating data\n",
    "        plt.title('Linearly separable data')\n",
    "    else:\n",
    "        plt.title('Non-linearly separable data')\n",
    "    #plot the generated data\n",
    "    plt.scatter(np.array(x1),np.array(y1),c='b')\n",
    "    plt.scatter(np.array(x2),np.array(y2),c='r')\n",
    "    plt.show() \n",
    "    data.extend([[x1[i], y1[i], 1] for i in xrange(n)])\n",
    "    data.extend([[x2[i], y2[i], -1] for i in xrange(m)])\n",
    "    return data"
   ]
  },
  {
   "cell_type": "code",
   "execution_count": 762,
   "metadata": {
    "collapsed": false
   },
   "outputs": [
    {
     "data": {
      "image/png": "[encoded data removed]",
      "text/plain": [
       "<matplotlib.figure.Figure at 0x37f33da0>"
      ]
     },
     "metadata": {},
     "output_type": "display_data"
    }
   ],
   "source": [
    "data = generate_Lin_nonlin_Data(100,10,0.8)\n",
    "x=[]\n",
    "y=[]\n",
    "for i in data:\n",
    "    y.append(i[-1])\n",
    "    x.append(i[0:-1])"
   ]
  },
  {
   "cell_type": "code",
   "execution_count": 763,
   "metadata": {
    "collapsed": true
   },
   "outputs": [],
   "source": [
    "'''\n",
    "Function desc: load the data \n",
    "returns: numpy array containing all features and classes (Iris-versicolor and Iris-virginica)\n",
    "'''\n",
    "def load_data():\n",
    "    iris = datasets.load_iris()\n",
    "    x = iris['data']\n",
    "    y = iris['target']\n",
    "    x,y = x[y != 2], y[y != 2] \n",
    "    x=x[:,:2]\n",
    "    y = y+1\n",
    "    plt.title(\"Linearly Separable data - Iris Data set\")\n",
    "    plt.xlabel('sepal_length')\n",
    "    plt.ylabel(\"sepal_width\")\n",
    "    plt.scatter(np.array(x[:50,0]),np.array(x[:50,1]),c='b')\n",
    "    plt.scatter(np.array(x[-50:,0]),np.array(x[-50:,1]),c='r')\n",
    "    #plt.scatter(np.array(x2),np.array(y2),c='r')\n",
    "    return x,y"
   ]
  },
  {
   "cell_type": "code",
   "execution_count": 764,
   "metadata": {
    "collapsed": false
   },
   "outputs": [],
   "source": [
    "#x,y=load_data()"
   ]
  },
  {
   "cell_type": "code",
   "execution_count": 765,
   "metadata": {
    "collapsed": false
   },
   "outputs": [
    {
     "data": {
      "text/plain": [
       "'\\nx,y=datasets.make_classification(n_samples=100, n_features=2, n_informative=1, n_redundant=0, n_repeated=0,\\n                                     n_classes=2, n_clusters_per_class=1, weights=None, flip_y=0.01, class_sep=1.0, hypercube=False, \\n                                     shift=0.0, shuffle=True, random_state=42)\\n'"
      ]
     },
     "execution_count": 765,
     "metadata": {},
     "output_type": "execute_result"
    }
   ],
   "source": [
    "\n",
    "'''\n",
    "x,y=datasets.make_classification(n_samples=100, n_features=2, n_informative=1, n_redundant=0, n_repeated=0,\n",
    "                                     n_classes=2, n_clusters_per_class=1, weights=None, flip_y=0.01, class_sep=1.0, hypercube=False, \n",
    "                                     shift=0.0, shuffle=True, random_state=42)\n",
    "'''"
   ]
  },
  {
   "cell_type": "code",
   "execution_count": 767,
   "metadata": {
    "collapsed": false
   },
   "outputs": [],
   "source": [
    "'''\n",
    "Function desc: Prepare the data to be supplied to the cvxopt solver\n",
    "'''\n",
    "\n",
    "def prepare_data(x,y):\n",
    "    P = cvxopt.matrix(np.outer(y,y) * np.dot(x,x.T))\n",
    "    A_temp = np.ones(len(y))*y\n",
    "    A = cvxopt.matrix(A_temp,(1,len(y)))\n",
    "    q =  cvxopt.matrix(-1 * np.ones(len(y)))\n",
    "    b = cvxopt.matrix(0.0)\n",
    "    g1 = np.diag(np.ones(len(y)) * -1)\n",
    "    #g2 = np.diag(np.ones(len(y)))\n",
    "    G= cvxopt.matrix(g1)\n",
    "    h1 = [0.0 for i in xrange(len(y))]\n",
    "    #h2 = [c for i in xrange(len(y))]\n",
    "    h_t1 = np.reshape(h1,(len(y),1))\n",
    "    #h_t2=np.reshape(h2,(len(y),1))\n",
    "    h=cvxopt.matrix(h_t1)\n",
    "    sol = solvers.qp(P,q,G,h,A,b)\n",
    "    return sol"
   ]
  },
  {
   "cell_type": "code",
   "execution_count": 769,
   "metadata": {
    "collapsed": false
   },
   "outputs": [
    {
     "name": "stdout",
     "output_type": "stream",
     "text": [
      "     pcost       dcost       gap    pres   dres\n",
      " 0: -1.5455e+01 -3.3571e+01  3e+02  2e+01  2e+00\n",
      " 1: -2.8685e+01 -2.7682e+01  1e+02  6e+00  9e-01\n",
      " 2: -4.2734e+01 -2.2026e+01  7e+01  3e+00  4e-01\n",
      " 3: -1.6918e+01 -9.7284e+00  2e+01  6e-01  8e-02\n",
      " 4: -8.0684e+00 -8.3867e+00  3e-01  5e-04  7e-05\n",
      " 5: -8.2675e+00 -8.2788e+00  1e-02  2e-05  2e-06\n",
      " 6: -8.2766e+00 -8.2767e+00  1e-04  2e-07  2e-08\n",
      " 7: -8.2767e+00 -8.2767e+00  1e-06  2e-09  2e-10\n",
      "Optimal solution found.\n"
     ]
    }
   ],
   "source": [
    "solution = prepare_data(np.array(x),y)\n",
    "alpha=[]\n",
    "for i in solution['x']:\n",
    "    alpha.append(i)"
   ]
  },
  {
   "cell_type": "code",
   "execution_count": 770,
   "metadata": {
    "collapsed": false
   },
   "outputs": [],
   "source": [
    "'''\n",
    "Function desc: Find the support vectors\n",
    "'''\n",
    "\n",
    "\n",
    "def find_support_vectors(alfa,x,y):\n",
    "    sup_vec = []\n",
    "    sup_vec_x=[]\n",
    "    sup_vec_y = []\n",
    "    for i in range(len(alfa)):\n",
    "        if alfa[i] > 1e-7:\n",
    "            sup_vec.append(alfa[i])\n",
    "            sup_vec_x.append(x[i])\n",
    "            sup_vec_y.append(y[i])\n",
    "    print \"No of. support vectors found\",len(sup_vec)\n",
    "    \n",
    "    return sup_vec,sup_vec_x,sup_vec_y"
   ]
  },
  {
   "cell_type": "code",
   "execution_count": 771,
   "metadata": {
    "collapsed": false
   },
   "outputs": [
    {
     "name": "stdout",
     "output_type": "stream",
     "text": [
      "No of. support vectors found 4\n"
     ]
    }
   ],
   "source": [
    "support_vec,support_vec_x,support_vec_y =  find_support_vectors(alpha,x,y)"
   ]
  },
  {
   "cell_type": "code",
   "execution_count": 772,
   "metadata": {
    "collapsed": false
   },
   "outputs": [],
   "source": [
    "\n",
    "'''\n",
    "Function Desc: Calculate the model parameters\n",
    "\n",
    "\n",
    "'''\n",
    "\n",
    "\n",
    "\n",
    "def find_w_w0(support_vec,alpha,x,y,support_vec_x,support_vec_y):\n",
    "    ws=[]\n",
    "    w0=[]\n",
    "    w_= np.zeros(np.shape(x)[1])\n",
    "    for i in range(np.shape(alpha)[0]):\n",
    "        w_ += alpha[i] *y[i] * np.array(x[i])\n",
    "    for s in range(np.shape(support_vec_x)[0]):\n",
    "        w_o = y[s] - np.dot(w_.T,support_vec_x[s])\n",
    "        w0.append(w_o)\n",
    "    w_0 = (1./len(support_vec)) * np.sum(w0)\n",
    "    return (w_,w_0)\n",
    "        \n",
    "    \n",
    "    \n",
    "    \n",
    "    "
   ]
  },
  {
   "cell_type": "code",
   "execution_count": 773,
   "metadata": {
    "collapsed": false
   },
   "outputs": [
    {
     "name": "stdout",
     "output_type": "stream",
     "text": [
      "[ 1.140022    3.90559647]\n",
      "-2.52550634683\n"
     ]
    }
   ],
   "source": [
    "ws = find_w_w0(support_vec,alpha,x,y,support_vec_x,support_vec_y)\n",
    "w=ws[0]\n",
    "w0=ws[1]\n",
    "print ws[0]\n",
    "print ws[1]"
   ]
  },
  {
   "cell_type": "code",
   "execution_count": 774,
   "metadata": {
    "collapsed": true
   },
   "outputs": [],
   "source": [
    "'''\n",
    "Function Desc: Calculate the predicted values\n",
    "'''\n",
    "def predict_cls(x,ws): \n",
    "    pred = np.dot(ws[0].T,x)+ ws[1]\n",
    "    return pred\n",
    "    "
   ]
  },
  {
   "cell_type": "code",
   "execution_count": 1,
   "metadata": {
    "collapsed": false
   },
   "outputs": [
    {
     "data": {
      "text/plain": [
       "'k=0\\nfor yi, p in zip(y,predicted):\\n    if yi == p:\\n        k+=1\\nprint k\\n'"
      ]
     },
     "execution_count": 1,
     "metadata": {},
     "output_type": "execute_result"
    }
   ],
   "source": [
    "'''\n",
    "Function Desc: Determine the class of the predicted values\n",
    "'''\n",
    "def predict(x,ws):\n",
    "    predicted = []\n",
    "    for i in range(np.shape(x)[0]):\n",
    "        pred = predict_cls(x[i],ws)\n",
    "        if pred > 0:\n",
    "            predicted.append(1)\n",
    "        else:\n",
    "            predicted.append(-1)\n",
    "    return predicted\n",
    "\n",
    "'''k=0\n",
    "for yi, p in zip(y,predicted):\n",
    "    if yi == p:\n",
    "        k+=1\n",
    "print k\n",
    "'''"
   ]
  },
  {
   "cell_type": "code",
   "execution_count": 776,
   "metadata": {
    "collapsed": false
   },
   "outputs": [],
   "source": [
    "p =predict(x,ws)"
   ]
  },
  {
   "cell_type": "code",
   "execution_count": 777,
   "metadata": {
    "collapsed": false
   },
   "outputs": [],
   "source": [
    "'''\n",
    "Function desc: To calculate the model parameters suh as precision, recall and f-measure from the confusion-matrix\n",
    "Inuput: Actual and predicted values\n",
    "Output: model parameters\n",
    "\n",
    "\n",
    "Classification accuracy\n",
    "(TP + TN) / (TP + TN + FP + FN)\n",
    "Error rate\n",
    "(FP + FN) / (TP + TN + FP + FN)\n",
    "\n",
    "Precision: (or Positive predictive value)\n",
    "proportion of predicted positives which\n",
    "are actual positive\n",
    "TP / (TP + FP)\n",
    "Recall: proportion of actual positives\n",
    "which are predicted positive\n",
    "TP / (TP + FN)\n",
    "\n",
    "'''\n",
    "\n",
    "def model_eval(actual,predicted):\n",
    "    Truth= pd.Series(actual,name = 'Truth' )\n",
    "    Predicted = pd.Series(predicted,name='Predicted')\n",
    "    confusion_matrix = pd.crosstab(Truth, Predicted)\n",
    "    arr_cm = confusion_matrix.as_matrix()\n",
    "    diag = arr_cm.diagonal()\n",
    "    accuracy = float(sum(diag))/np.sum(arr_cm)\n",
    "    precision = np.divide(diag,1.0*(np.sum(arr_cm,axis=0))) \n",
    "    recall = np.divide(diag,1.0*(np.sum(arr_cm,axis=0)))\n",
    "    fmeasure = 2*((precision * recall)/(precision + recall))\n",
    "    return confusion_matrix,accuracy,precision,recall,fmeasure"
   ]
  },
  {
   "cell_type": "code",
   "execution_count": 778,
   "metadata": {
    "collapsed": false
   },
   "outputs": [],
   "source": [
    "'''Function to perform 10-fold cross validation. In this method the test and traparams in indices are split using using the inbuit\n",
    "   'KFold' function.\n",
    "    Input 1: 'x' \n",
    "    Input 2: True predicted values\n",
    "    Input 3: No of folds (10 by default)\n",
    "    \n",
    "    Performance measures such as accuracy, precision, f-measure\n",
    "'''\n",
    "\n",
    "def x_fold_validation(x,y,nfolds=5,shuffle=True,random_state=23):\n",
    "    confusion_matrix_list=[]\n",
    "    accuracy_list=[]\n",
    "    precision_list=[]\n",
    "    recall_list=[]\n",
    "    fmeasure_list=[]\n",
    "    cv = KFold(len(y), nfolds,shuffle=True,random_state=23) #inbuilt function to split the indices\n",
    "    for train_idx, test_idx in cv:\n",
    "        x_train = x[train_idx]\n",
    "        y_train = y[train_idx]\n",
    "        x_test = x[test_idx]\n",
    "        y_test = y[test_idx]\n",
    "        sol = prepare_data(x_train,y_train)\n",
    "        alpha=[]\n",
    "        for i in sol['x']:\n",
    "            alpha.append(i)\n",
    "        support_vec,support_vec_x,support_vec_y=find_support_vectors(alpha,x_train,y_train)\n",
    "        ws = find_w_w0(support_vec,alpha,x,y,support_vec_x,support_vec_y)\n",
    "        w=ws[0]\n",
    "        w0=ws[1]\n",
    "        pred = predict(x_test,ws)\n",
    "        conf_matrix,accuracy,precision,recall,fmeasure = model_eval(y_test.tolist(),pred)\n",
    "        print conf_matrix\n",
    "        confusion_matrix_list.append(conf_matrix)\n",
    "        accuracy_list.append(accuracy)\n",
    "        precision_list.append(precision.tolist())\n",
    "        recall_list.append(recall.tolist())\n",
    "        fmeasure_list.append(fmeasure.tolist())\n",
    "    print '################################'\n",
    "    print 'Average of the model parameters'\n",
    "    print '################################'\n",
    "    print 'Error rate:', (1-np.mean(accuracy_list))\n",
    "    print 'Accuracy:',np.mean(accuracy_list) \n",
    "    print 'Precision:', np.mean(precision_list,axis=0)\n",
    "    print 'Recall:', np.mean(recall_list,axis=0)\n",
    "    print 'F-measure:', np.mean(fmeasure_list,axis=0)\n",
    "            "
   ]
  },
  {
   "cell_type": "code",
   "execution_count": 779,
   "metadata": {
    "collapsed": false
   },
   "outputs": [
    {
     "name": "stdout",
     "output_type": "stream",
     "text": [
      "     pcost       dcost       gap    pres   dres\n",
      " 0: -1.1738e+01 -2.6158e+01  3e+02  1e+01  2e+00\n",
      " 1: -2.3487e+01 -2.7315e+01  1e+02  6e+00  1e+00\n",
      " 2: -2.6435e+01 -1.8118e+01  7e+01  3e+00  5e-01\n",
      " 3: -7.1617e+00 -1.0157e+01  3e+01  7e-01  1e-01\n",
      " 4: -7.6018e+00 -8.3133e+00  4e+00  8e-02  1e-02\n",
      " 5: -8.0595e+00 -8.1073e+00  3e-01  6e-03  9e-04\n",
      " 6: -8.1015e+00 -8.1020e+00  3e-03  6e-05  1e-05\n",
      " 7: -8.1019e+00 -8.1019e+00  3e-05  6e-07  1e-07\n",
      " 8: -8.1019e+00 -8.1019e+00  3e-07  6e-09  1e-09\n",
      "Optimal solution found.\n",
      "No of. support vectors found 3\n",
      "Predicted  -1   1\n",
      "Truth            \n",
      "-1          3   0\n",
      " 1          0  19\n",
      "     pcost       dcost       gap    pres   dres\n",
      " 0: -1.2451e+01 -2.5945e+01  3e+02  1e+01  2e+00\n",
      " 1: -1.9473e+01 -1.6900e+01  1e+02  5e+00  7e-01\n",
      " 2: -3.4072e+01 -1.4311e+01  4e+01  2e+00  3e-01\n",
      " 3: -6.7667e+00 -7.1383e+00  9e+00  2e-01  3e-02\n",
      " 4: -6.8439e+00 -7.0111e+00  2e-01  1e-03  2e-04\n",
      " 5: -6.9968e+00 -6.9985e+00  2e-03  1e-05  2e-06\n",
      " 6: -6.9983e+00 -6.9984e+00  2e-05  1e-07  2e-08\n",
      " 7: -6.9984e+00 -6.9984e+00  2e-07  1e-09  2e-10\n",
      "Optimal solution found.\n",
      "No of. support vectors found 2\n",
      "Predicted  -1   1\n",
      "Truth            \n",
      "-1          2   0\n",
      " 1          0  20\n",
      "     pcost       dcost       gap    pres   dres\n",
      " 0: -1.2089e+01 -2.5776e+01  3e+02  1e+01  2e+00\n",
      " 1: -2.2941e+01 -2.0858e+01  1e+02  5e+00  8e-01\n",
      " 2: -4.0916e+01 -2.3145e+01  6e+01  3e+00  4e-01\n",
      " 3: -1.8024e+01 -1.0454e+01  2e+01  7e-01  1e-01\n",
      " 4: -7.8109e+00 -8.4834e+00  7e-01  1e-15  8e-15\n",
      " 5: -8.2113e+00 -8.2871e+00  8e-02  7e-15  6e-15\n",
      " 6: -8.2759e+00 -8.2768e+00  9e-04  3e-15  7e-15\n",
      " 7: -8.2767e+00 -8.2767e+00  9e-06  4e-15  7e-15\n",
      " 8: -8.2767e+00 -8.2767e+00  9e-08  2e-15  7e-15\n",
      "Optimal solution found.\n",
      "No of. support vectors found 4\n",
      "Predicted  -1   1\n",
      "Truth            \n",
      "-1          1   0\n",
      " 1          0  21\n",
      "     pcost       dcost       gap    pres   dres\n",
      " 0: -1.2734e+01 -2.7845e+01  3e+02  1e+01  2e+00\n",
      " 1: -2.3139e+01 -2.2277e+01  1e+02  6e+00  8e-01\n",
      " 2: -3.2275e+01 -1.7723e+01  5e+01  2e+00  3e-01\n",
      " 3: -1.1498e+01 -9.0538e+00  8e+00  3e-01  4e-02\n",
      " 4: -8.4770e+00 -8.3364e+00  7e-01  2e-02  4e-03\n",
      " 5: -8.2757e+00 -8.2786e+00  2e-02  5e-04  7e-05\n",
      " 6: -8.2767e+00 -8.2767e+00  2e-04  5e-06  7e-07\n",
      " 7: -8.2767e+00 -8.2767e+00  2e-06  5e-08  7e-09\n",
      "Optimal solution found.\n",
      "No of. support vectors found 4\n",
      "Predicted  -1   1\n",
      "Truth            \n",
      "-1          2   0\n",
      " 1          0  20\n",
      "     pcost       dcost       gap    pres   dres\n",
      " 0: -1.2703e+01 -2.7852e+01  3e+02  1e+01  2e+00\n",
      " 1: -2.4920e+01 -2.6298e+01  1e+02  6e+00  9e-01\n",
      " 2: -3.4319e+01 -1.8512e+01  5e+01  2e+00  4e-01\n",
      " 3: -1.5169e+01 -9.5729e+00  1e+01  6e-01  9e-02\n",
      " 4: -8.0783e+00 -8.3561e+00  3e-01  2e-03  2e-04\n",
      " 5: -8.2681e+00 -8.2780e+00  1e-02  5e-05  8e-06\n",
      " 6: -8.2766e+00 -8.2767e+00  1e-04  5e-07  8e-08\n",
      " 7: -8.2767e+00 -8.2767e+00  1e-06  5e-09  8e-10\n",
      "Optimal solution found.\n",
      "No of. support vectors found 4\n",
      "Predicted  -1   1\n",
      "Truth            \n",
      "-1          2   0\n",
      " 1          0  20\n",
      "################################\n",
      "Average of the model parameters\n",
      "################################\n",
      "Error rate: 0.0\n",
      "Accuracy: 1.0\n",
      "Precision: [ 1.  1.]\n",
      "Recall: [ 1.  1.]\n",
      "F-measure: [ 1.  1.]\n"
     ]
    }
   ],
   "source": [
    "x_fold_validation(np.array(x),np.array(y))"
   ]
  },
  {
   "cell_type": "code",
   "execution_count": 781,
   "metadata": {
    "collapsed": false
   },
   "outputs": [
    {
     "data": {
      "text/plain": [
       "<matplotlib.collections.PathCollection at 0x37246240>"
      ]
     },
     "execution_count": 781,
     "metadata": {},
     "output_type": "execute_result"
    },
    {
     "data": {
      "image/png": "[encoded data removed]",
      "text/plain": [
       "<matplotlib.figure.Figure at 0x1bdc4e80>"
      ]
     },
     "metadata": {},
     "output_type": "display_data"
    }
   ],
   "source": [
    "'''\n",
    "code snippet to plot the data points and the support vectors\n",
    "\n",
    "'''\n",
    "n=np.shape(x)[0]\n",
    "x1= np.array(x[0:100])\n",
    "x2=np.array(x[100:])\n",
    "support_vec_x = np.array(support_vec_x)\n",
    "\n",
    "plt.scatter(x1[:,0],x1[:,1],c='r')\n",
    "plt.scatter(x2[:,0],x2[:,1])\n",
    "plt.scatter(support_vec_x[:,0],support_vec_x[:,1],s=50,c=\"y\")"
   ]
  },
  {
   "cell_type": "code",
   "execution_count": null,
   "metadata": {
    "collapsed": true
   },
   "outputs": [],
   "source": []
  },
  {
   "cell_type": "code",
   "execution_count": null,
   "metadata": {
    "collapsed": true
   },
   "outputs": [],
   "source": []
  }
 ],
 "metadata": {
  "kernelspec": {
   "display_name": "Python 2",
   "language": "python",
   "name": "python2"
  },
  "language_info": {
   "codemirror_mode": {
    "name": "ipython",
    "version": 2
   },
   "file_extension": ".py",
   "mimetype": "text/x-python",
   "name": "python",
   "nbconvert_exporter": "python",
   "pygments_lexer": "ipython2",
   "version": "2.7.11"
  }
 },
 "nbformat": 4,
 "nbformat_minor": 0
}
