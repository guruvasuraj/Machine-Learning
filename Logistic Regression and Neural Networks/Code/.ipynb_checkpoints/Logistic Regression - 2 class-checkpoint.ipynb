{
 "cells": [
  {
   "cell_type": "code",
   "execution_count": 1,
   "metadata": {
    "collapsed": true
   },
   "outputs": [],
   "source": [
    "#import statements\n",
    "import numpy as np\n",
    "import pandas as pd\n",
    "from sklearn import datasets\n",
    "import matplotlib.pyplot as plt\n",
    "from sklearn.cross_validation import KFold\n",
    "%matplotlib inline"
   ]
  },
  {
   "cell_type": "code",
   "execution_count": 2,
   "metadata": {
    "collapsed": false
   },
   "outputs": [],
   "source": [
    "'''\n",
    "Function desc: load the data \n",
    "returns: numpy array containing all features and classes (Iris-versicolor and Iris-virginica)\n",
    "'''\n",
    "def load_data():\n",
    "    iris = datasets.load_iris()\n",
    "    x = iris['data']\n",
    "    x_t=np.insert(x,0,1,axis=1) # Transform the data by adding 1 at the beginning\n",
    "    y = iris['target']\n",
    "    x,y = x_t[y != 2], y[y != 2] # \n",
    "    return x,y"
   ]
  },
  {
   "cell_type": "code",
   "execution_count": 3,
   "metadata": {
    "collapsed": false
   },
   "outputs": [],
   "source": [
    "x,y=load_data()"
   ]
  },
  {
   "cell_type": "code",
   "execution_count": 4,
   "metadata": {
    "collapsed": false
   },
   "outputs": [],
   "source": [
    "\n",
    "'''\n",
    "Function used in gradient descent to predict values in each iteration\n",
    "Sigmoid function\n",
    "'''\n",
    "\n",
    "def h_theta(z,theta):\n",
    "        return 1./(1+np.exp(-np.dot(np.transpose(z),theta)))"
   ]
  },
  {
   "cell_type": "code",
   "execution_count": 5,
   "metadata": {
    "collapsed": false
   },
   "outputs": [],
   "source": [
    "'''\n",
    "Function used to find the parameters using stochiometric gradient descent\n",
    "\n",
    "'''\n",
    "\n",
    "def stochastic_grad_descent(x,y):\n",
    "    n = np.shape(x)[1]\n",
    "    iterations= 1000 # no of iterations\n",
    "    learning_rate = 0.001 #initialize step size\n",
    "    theta = [0 for i in range(n)] #initialize theta\n",
    "    for i in range(0, iterations):\n",
    "        for j in range(len(x)):\n",
    "            predicted = h_theta(x[j],theta) #predict with the initial theta\n",
    "            error = predicted - np.array(y[j]) #calculate the error\n",
    "            grad = np.dot(x[j].transpose(), error) #find the gradient\n",
    "            theta = theta - learning_rate*grad # update the theta values\n",
    "    return theta"
   ]
  },
  {
   "cell_type": "code",
   "execution_count": 6,
   "metadata": {
    "collapsed": false
   },
   "outputs": [
    {
     "name": "stdout",
     "output_type": "stream",
     "text": [
      "[-0.35454108 -0.54808846 -1.99988117  3.06256203  1.35174067]\n"
     ]
    }
   ],
   "source": [
    "theta = stochastic_grad_descent(x,y)\n",
    "print theta"
   ]
  },
  {
   "cell_type": "code",
   "execution_count": 7,
   "metadata": {
    "collapsed": false
   },
   "outputs": [],
   "source": [
    "'''\n",
    "Function to classify the examples based on the model output\n",
    "\n",
    "'''\n",
    "\n",
    "def disc_fn(x,y,t):\n",
    "    mod =  1./(1+np.exp(-np.dot(theta,x.T)))\n",
    "    if mod > 0.5:\n",
    "        return 1\n",
    "    else:\n",
    "        return 0"
   ]
  },
  {
   "cell_type": "code",
   "execution_count": 8,
   "metadata": {
    "collapsed": false
   },
   "outputs": [],
   "source": [
    "'''\n",
    "Function to predict the examples\n",
    "\n",
    "'''\n",
    "\n",
    "\n",
    "def predict(x,y,theta):\n",
    "    predicted =[0.0 for i in range(len(y))] #initialize predict\n",
    "    for i in range(len(x)):\n",
    "        predicted[i] = disc_fn(x[i],y[i],theta)\n",
    "    return predicted"
   ]
  },
  {
   "cell_type": "code",
   "execution_count": 9,
   "metadata": {
    "collapsed": false
   },
   "outputs": [],
   "source": [
    "'''\n",
    "Function desc: To calculate the model parameters suh as precision, recall and f-measure from the confusion-matrix\n",
    "Inuput: Actual and predicted values\n",
    "Output: model parameters\n",
    "\n",
    "\n",
    "Classification accuracy\n",
    "(TP + TN) / (TP + TN + FP + FN)\n",
    "Error rate\n",
    "(FP + FN) / (TP + TN + FP + FN)\n",
    "\n",
    "Precision: (or Positive predictive value)\n",
    "proportion of predicted positives which\n",
    "are actual positive\n",
    "TP / (TP + FP)\n",
    "Recall: proportion of actual positives\n",
    "which are predicted positive\n",
    "TP / (TP + FN)\n",
    "\n",
    "Error rate: 1- classification accuracy\n",
    "\n",
    "'''\n",
    "\n",
    "def model_eval(actual,predicted):\n",
    "    Truth= pd.Series(actual,name = 'Truth' )\n",
    "    Predicted = pd.Series(predicted,name='Predicted')\n",
    "    confusion_matrix = pd.crosstab(Truth, Predicted)\n",
    "    #print confusion_matrix\n",
    "    arr_cm = confusion_matrix.as_matrix()\n",
    "    diag = arr_cm.diagonal()\n",
    "    accuracy = float(sum(diag))/np.sum(arr_cm)\n",
    "    precision = np.divide(diag,1.0*(np.sum(arr_cm,axis=1)))\n",
    "    recall = np.divide(diag,1.0*(np.sum(arr_cm,axis=0)))\n",
    "    fmeasure = 2*((precision * recall)/(precision + recall))\n",
    "    return confusion_matrix,accuracy,precision,recall,fmeasure"
   ]
  },
  {
   "cell_type": "code",
   "execution_count": 10,
   "metadata": {
    "collapsed": false
   },
   "outputs": [],
   "source": [
    "'''Function to perform 10-fold cross validation. In this method the test and traparams in indices are split using using the inbuit\n",
    "   'KFold' function.\n",
    "    Input 1: 'x' \n",
    "    Input 2: True predicted values\n",
    "    Input 3: No of folds (10 by default)\n",
    "    \n",
    "    Performance measures such as accuracy, precision, f-measure\n",
    "'''\n",
    "\n",
    "def x_fold_validation(x,y,nfolds=10,shuffle=True,random_state=23):\n",
    "    confusion_matrix_list=[]\n",
    "    accuracy_list=[]\n",
    "    precision_list=[]\n",
    "    recall_list=[]\n",
    "    fmeasure_list=[]\n",
    "    cv = KFold(len(y), nfolds,shuffle=True,random_state=23) #inbuilt function to split the indices\n",
    "    for train_idx, test_idx in cv:\n",
    "        x_train = x[train_idx]\n",
    "        y_train = y[train_idx]\n",
    "        x_test = x[test_idx]\n",
    "        y_test = y[test_idx]\n",
    "        theta = stochastic_grad_descent(x_train,y_train)\n",
    "        pred = predict(x_test,y_test,theta)\n",
    "        conf_matrix,accuracy,precision,recall,fmeasure = model_eval(y_test.tolist(),pred)\n",
    "        print conf_matrix\n",
    "        confusion_matrix_list.append(conf_matrix)\n",
    "        accuracy_list.append(accuracy)\n",
    "        precision_list.append(precision.tolist())\n",
    "        recall_list.append(recall.tolist())\n",
    "        fmeasure_list.append(fmeasure.tolist())\n",
    "    print '################################'\n",
    "    print 'Average of the model parameters'\n",
    "    print '################################'\n",
    "    print 'Error rate:', (1-np.mean(accuracy_list))\n",
    "    print 'Accuracy:',np.mean(accuracy_list) \n",
    "    print 'Precision:', np.mean(precision_list,axis=0)\n",
    "    print 'Recall:', np.mean(recall_list,axis=0)\n",
    "    print 'F-measure:', np.mean(fmeasure_list,axis=0)\n",
    "            "
   ]
  },
  {
   "cell_type": "code",
   "execution_count": 11,
   "metadata": {
    "collapsed": false
   },
   "outputs": [
    {
     "name": "stdout",
     "output_type": "stream",
     "text": [
      "Predicted  0  1\n",
      "Truth          \n",
      "0          5  0\n",
      "1          0  5\n",
      "Predicted  0  1\n",
      "Truth          \n",
      "0          4  0\n",
      "1          0  6\n",
      "Predicted  0  1\n",
      "Truth          \n",
      "0          5  0\n",
      "1          0  5\n",
      "Predicted  0  1\n",
      "Truth          \n",
      "0          6  0\n",
      "1          0  4\n",
      "Predicted  0  1\n",
      "Truth          \n",
      "0          3  0\n",
      "1          0  7\n",
      "Predicted  0  1\n",
      "Truth          \n",
      "0          8  0\n",
      "1          0  2\n",
      "Predicted  0  1\n",
      "Truth          \n",
      "0          5  0\n",
      "1          0  5\n",
      "Predicted  0  1\n",
      "Truth          \n",
      "0          6  0\n",
      "1          0  4\n",
      "Predicted  0  1\n",
      "Truth          \n",
      "0          4  0\n",
      "1          0  6\n",
      "Predicted  0  1\n",
      "Truth          \n",
      "0          4  0\n",
      "1          0  6\n",
      "################################\n",
      "Average of the model parameters\n",
      "################################\n",
      "Error rate: 0.0\n",
      "Accuracy: 1.0\n",
      "Precision: [ 1.  1.]\n",
      "Recall: [ 1.  1.]\n",
      "F-measure: [ 1.  1.]\n"
     ]
    }
   ],
   "source": [
    "x_fold_validation(x,y)"
   ]
  },
  {
   "cell_type": "code",
   "execution_count": null,
   "metadata": {
    "collapsed": true
   },
   "outputs": [],
   "source": []
  }
 ],
 "metadata": {
  "kernelspec": {
   "display_name": "Python 2",
   "language": "python",
   "name": "python2"
  },
  "language_info": {
   "codemirror_mode": {
    "name": "ipython",
    "version": 2
   },
   "file_extension": ".py",
   "mimetype": "text/x-python",
   "name": "python",
   "nbconvert_exporter": "python",
   "pygments_lexer": "ipython2",
   "version": "2.7.11"
  }
 },
 "nbformat": 4,
 "nbformat_minor": 0
}
