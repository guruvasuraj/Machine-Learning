{
 "cells": [
  {
   "cell_type": "code",
   "execution_count": 1,
   "metadata": {
    "collapsed": false
   },
   "outputs": [],
   "source": [
    "#import statements\n",
    "import numpy as np\n",
    "import pandas as pd\n",
    "from sklearn import datasets\n",
    "import matplotlib.pyplot as plt\n",
    "from sklearn.cross_validation import KFold\n",
    "from sklearn.preprocessing import PolynomialFeatures"
   ]
  },
  {
   "cell_type": "code",
   "execution_count": 2,
   "metadata": {
    "collapsed": true
   },
   "outputs": [],
   "source": [
    "'''\n",
    "Function desc: load the data \n",
    "returns: numpy array containing all features and classes (Iris-versicolor and Iris-virginica)\n",
    "'''\n",
    "def load_data():\n",
    "    iris = datasets.load_iris()\n",
    "    x = iris['data']\n",
    "    y = iris['target']\n",
    "    return x,y"
   ]
  },
  {
   "cell_type": "code",
   "execution_count": 3,
   "metadata": {
    "collapsed": false
   },
   "outputs": [],
   "source": [
    "x,y=load_data()"
   ]
  },
  {
   "cell_type": "code",
   "execution_count": 4,
   "metadata": {
    "collapsed": false
   },
   "outputs": [],
   "source": [
    "\n",
    "'''\n",
    "Function used in stochastic gradient descent to predict values in each iteration\n",
    "\n",
    "This function describes the softmax function\n",
    "'''\n",
    "\n",
    "\n",
    "def h_theta(z,cls_j,thetas):\n",
    "    we = list()\n",
    "    for the in thetas:\n",
    "        we.append(np.exp(np.dot(np.transpose(z),thetas[the])))\n",
    "    deno=np.sum(we)\n",
    "    num = np.exp(np.dot(np.transpose(z),thetas[cls_j]))\n",
    "    return num/deno"
   ]
  },
  {
   "cell_type": "code",
   "execution_count": 5,
   "metadata": {
    "collapsed": true
   },
   "outputs": [],
   "source": [
    "\n",
    "'''\n",
    "Function used to calculate the model parameters\n",
    "\n",
    "'''\n",
    "def stochastic_grad_descent(x,y,thetas):\n",
    "    n = np.shape(x)[1]\n",
    "    iterations= 500 #no of iterations\n",
    "    learning_rate = 0.001 #initialize step size\n",
    "    for it in range(0,iterations):\n",
    "        for i in thetas:\n",
    "            for j in range(len(x)):\n",
    "                predicted = h_theta(x[j],i,thetas) #predict with the initial theta\n",
    "                if y[j] == i: #Indicator function starts\n",
    "                    ye = 1\n",
    "                else:\n",
    "                    ye = 0 #indicator function ends\n",
    "                error = predicted - ye #calculate the error\n",
    "                grad = np.dot(x[j], error) #find the gradient\n",
    "                thetas[i] = thetas[i] - learning_rate*grad # update the theta values\n",
    "    return thetas"
   ]
  },
  {
   "cell_type": "code",
   "execution_count": 6,
   "metadata": {
    "collapsed": true
   },
   "outputs": [],
   "source": [
    "'''\n",
    "Function to calculate the model parameters\n",
    "\n",
    "'''\n",
    "\n",
    "def calculate_params(x,y):\n",
    "    theta_dict = {k:[0.01 for o in xrange(np.shape(x)[1])] for k in range(len(pd.unique(y)))} #initialize theta\n",
    "    theta_dict = stochastic_grad_descent(x,y,theta_dict)\n",
    "    return theta_dict\n",
    "    "
   ]
  },
  {
   "cell_type": "code",
   "execution_count": 7,
   "metadata": {
    "collapsed": false
   },
   "outputs": [],
   "source": [
    "theta = calculate_params(x,y)"
   ]
  },
  {
   "cell_type": "code",
   "execution_count": 8,
   "metadata": {
    "collapsed": true
   },
   "outputs": [],
   "source": [
    "'''\n",
    "Function to calculate model output based on all the parameters calculated(theta1,theta2 and theta3)\n",
    "Find the maximum value and return the index\n",
    "\n",
    "y^ = argmax(j)softmax(x,theta)\n",
    "'''\n",
    "\n",
    "def arg_max(x,y,t):\n",
    "    val=[]\n",
    "    for i in t:\n",
    "        num = np.exp(np.dot(np.transpose(x),t[i]))\n",
    "        val.append(num)\n",
    "    return val.index(max(val))"
   ]
  },
  {
   "cell_type": "code",
   "execution_count": 9,
   "metadata": {
    "collapsed": true
   },
   "outputs": [],
   "source": [
    "'''\n",
    "Function to predict the examples \n",
    "'''\n",
    "\n",
    "def predict(x,y,theta):\n",
    "    predicted =[0.0 for i in range(len(y))] #initialize predict \n",
    "    for i in range(len(x)):\n",
    "        predicted[i] = arg_max(x[i],y[i],theta)\n",
    "    return predicted"
   ]
  },
  {
   "cell_type": "code",
   "execution_count": 10,
   "metadata": {
    "collapsed": true
   },
   "outputs": [],
   "source": [
    "'''Function to calculate the mse \n",
    "   Input 1: Predicted values\n",
    "   Input 2: True values\n",
    "   Output: mse of predicted and truth \n",
    "'''\n",
    "\n",
    "\n",
    "def mse_calculator(pred,y):\n",
    "    return sum([(i-j)**2 for i,j in zip(pred,y)])/len(y) # formula to calulate mse - 1/m*sum(yhat-y)**2"
   ]
  },
  {
   "cell_type": "code",
   "execution_count": 11,
   "metadata": {
    "collapsed": true
   },
   "outputs": [],
   "source": [
    "'''\n",
    "Function desc: To calculate the model parameters suh as precision, recall and f-measure from the confusion-matrix\n",
    "Inuput: Actual and predicted values\n",
    "Output: model parameters\n",
    "\n",
    "\n",
    "Classification accuracy\n",
    "(TP + TN) / (TP + TN + FP + FN)\n",
    "Error rate\n",
    "(FP + FN) / (TP + TN + FP + FN)\n",
    "\n",
    "Precision: (or Positive predictive value)\n",
    "proportion of predicted positives which\n",
    "are actual positive\n",
    "TP / (TP + FP)\n",
    "Recall: proportion of actual positives\n",
    "which are predicted positive\n",
    "TP / (TP + FN)\n",
    "\n",
    "'''\n",
    "\n",
    "def model_eval(actual,predicted):\n",
    "    Truth= pd.Series(actual,name = 'Truth' )\n",
    "    Predicted = pd.Series(predicted,name='Predicted')\n",
    "    confusion_matrix = pd.crosstab(Truth, Predicted)\n",
    "    arr_cm = confusion_matrix.as_matrix()\n",
    "    diag = arr_cm.diagonal()\n",
    "    accuracy = float(sum(diag))/np.sum(arr_cm)\n",
    "    precision = np.divide(diag,1.0*(np.sum(arr_cm,axis=1)))\n",
    "    recall = np.divide(diag,1.0*(np.sum(arr_cm,axis=0)))\n",
    "    fmeasure = 2*((precision * recall)/(precision + recall))\n",
    "    return confusion_matrix,accuracy,precision,recall,fmeasure"
   ]
  },
  {
   "cell_type": "code",
   "execution_count": 12,
   "metadata": {
    "collapsed": true
   },
   "outputs": [],
   "source": [
    "'''Function to perform 10-fold cross validation. In this method the test and traparams in indices are split using using the inbuit\n",
    "   'KFold' function.\n",
    "    Input 1: 'x' \n",
    "    Input 2: True predicted values\n",
    "    Input 3: No of folds (10 by default)\n",
    "    \n",
    "    Performance measures such as accuracy, precision, f-measure\n",
    "'''\n",
    "\n",
    "def x_fold_validation(x,y,nfolds=10,shuffle=True,random_state=23):\n",
    "    confusion_matrix_list=[]\n",
    "    accuracy_list=[]\n",
    "    precision_list=[]\n",
    "    recall_list=[]\n",
    "    fmeasure_list=[]\n",
    "    mse=[]\n",
    "    cv = KFold(len(y), nfolds,shuffle=True,random_state=23) #inbuilt function to split the indices\n",
    "    for train_idx, test_idx in cv:\n",
    "        x_train = x[train_idx]\n",
    "        y_train = y[train_idx]\n",
    "        x_test = x[test_idx]\n",
    "        y_test = y[test_idx]\n",
    "        theta=calculate_params(x_train,y_train)\n",
    "        pred = predict(x_test,y_test,theta)\n",
    "        mse.append(mse_calculator(pred,y_test))\n",
    "        conf_matrix,accuracy,precision,recall,fmeasure = model_eval(y_test.tolist(),pred)\n",
    "        print conf_matrix\n",
    "        confusion_matrix_list.append(conf_matrix)\n",
    "        accuracy_list.append(accuracy)\n",
    "        precision_list.append(precision.tolist())\n",
    "        recall_list.append(recall.tolist())\n",
    "        fmeasure_list.append(fmeasure.tolist())\n",
    "    print '################################'\n",
    "    print 'Average of the model parameters'\n",
    "    print '################################'\n",
    "    print 'Error rate:', 1- np.mean(accuracy_list)\n",
    "    print 'Accuracy:', np.mean(accuracy_list) \n",
    "    print 'Precision:', np.mean(precision_list,axis=0)\n",
    "    print 'Recall:', np.mean(recall_list,axis=0)\n",
    "    print 'F-measure:', np.mean(fmeasure_list,axis=0)\n",
    "    \n",
    "        "
   ]
  },
  {
   "cell_type": "code",
   "execution_count": 13,
   "metadata": {
    "collapsed": false
   },
   "outputs": [
    {
     "name": "stdout",
     "output_type": "stream",
     "text": [
      "Predicted  0  1  2\n",
      "Truth             \n",
      "0          6  0  0\n",
      "1          0  4  0\n",
      "2          0  0  5\n",
      "Predicted  0  1  2\n",
      "Truth             \n",
      "0          6  0  0\n",
      "1          0  4  0\n",
      "2          0  0  5\n",
      "Predicted  0  1  2\n",
      "Truth             \n",
      "0          6  0  0\n",
      "1          0  6  0\n",
      "2          0  0  3\n",
      "Predicted  0  1  2\n",
      "Truth             \n",
      "0          3  0  0\n",
      "1          0  3  1\n",
      "2          0  0  8\n",
      "Predicted  0  1  2\n",
      "Truth             \n",
      "0          6  0  0\n",
      "1          0  4  1\n",
      "2          0  0  4\n",
      "Predicted  0  1  2\n",
      "Truth             \n",
      "0          2  0  0\n",
      "1          0  5  1\n",
      "2          0  0  7\n",
      "Predicted  0  1  2\n",
      "Truth             \n",
      "0          3  0  0\n",
      "1          0  5  1\n",
      "2          0  0  6\n",
      "Predicted  0  1  2\n",
      "Truth             \n",
      "0          5  0  0\n",
      "1          0  6  1\n",
      "2          0  0  3\n",
      "Predicted  0  1  2\n",
      "Truth             \n",
      "0          4  0  0\n",
      "1          0  4  0\n",
      "2          0  0  7\n",
      "Predicted  0  1  2\n",
      "Truth             \n",
      "0          9  0  0\n",
      "1          0  3  1\n",
      "2          0  0  2\n",
      "################################\n",
      "Average of the model parameters\n",
      "################################\n",
      "Error rate: 0.04\n",
      "Accuracy: 0.96\n",
      "Precision: [ 1.          0.88238095  1.        ]\n",
      "Recall: [ 1.          1.          0.88376984]\n",
      "F-measure: [ 1.          0.93444333  0.93436185]\n"
     ]
    }
   ],
   "source": [
    "x_fold_validation(x,y)"
   ]
  },
  {
   "cell_type": "code",
   "execution_count": null,
   "metadata": {
    "collapsed": false
   },
   "outputs": [],
   "source": []
  },
  {
   "cell_type": "code",
   "execution_count": null,
   "metadata": {
    "collapsed": true
   },
   "outputs": [],
   "source": []
  },
  {
   "cell_type": "code",
   "execution_count": null,
   "metadata": {
    "collapsed": true
   },
   "outputs": [],
   "source": []
  }
 ],
 "metadata": {
  "kernelspec": {
   "display_name": "Python 2",
   "language": "python",
   "name": "python2"
  },
  "language_info": {
   "codemirror_mode": {
    "name": "ipython",
    "version": 2
   },
   "file_extension": ".py",
   "mimetype": "text/x-python",
   "name": "python",
   "nbconvert_exporter": "python",
   "pygments_lexer": "ipython2",
   "version": "2.7.11"
  }
 },
 "nbformat": 4,
 "nbformat_minor": 0
}
