{
 "cells": [
  {
   "cell_type": "code",
   "execution_count": 1,
   "metadata": {
    "collapsed": false
   },
   "outputs": [],
   "source": [
    "#import statements\n",
    "import matplotlib.pyplot as plt\n",
    "from pandas import DataFrame, read_csv\n",
    "import pandas as pd\n",
    "import numpy as np\n",
    "from sklearn.cross_validation import KFold\n",
    "from sklearn.metrics import precision_recall_curve"
   ]
  },
  {
   "cell_type": "code",
   "execution_count": 2,
   "metadata": {
    "collapsed": true
   },
   "outputs": [],
   "source": [
    "'''\n",
    "Function desc: Read data from csv file and load it into pandas data frame\n",
    "Input: File name\n",
    "returns: A data frame containing all features and classes (Iris-versicolor and Iris-virginica)\n",
    "'''\n",
    "\n",
    "def read_data(file):\n",
    "    df = pd.read_csv(file, names=['sepal_length','sepal_width','petal_length','petal_width','classes'])\n",
    "    f=df.query('classes != \"Iris-setosa\"')\n",
    "    return f"
   ]
  },
  {
   "cell_type": "code",
   "execution_count": 3,
   "metadata": {
    "collapsed": true
   },
   "outputs": [],
   "source": [
    "nD_data = read_data('iris.csv')\n"
   ]
  },
  {
   "cell_type": "code",
   "execution_count": 4,
   "metadata": {
    "collapsed": false
   },
   "outputs": [],
   "source": [
    "'''\n",
    "Funtcion des: Calculate prior probability of each class\n",
    "Input: One dimensional data\n",
    "Output: Prior probability of each class\n",
    "'''\n",
    "\n",
    "def calculate_prior(nD_data):\n",
    "    priors = []\n",
    "    cls = pd.unique(nD_data.classes)\n",
    "    for i in range(len(cls)):\n",
    "        sz=nD_data.groupby('classes').size()[i]\n",
    "        priors.append((cls[i],(sz/float(nD_data.shape[0]))))\n",
    "    return priors\n",
    "        \n",
    "    \n",
    "    "
   ]
  },
  {
   "cell_type": "code",
   "execution_count": 5,
   "metadata": {
    "collapsed": false
   },
   "outputs": [
    {
     "name": "stdout",
     "output_type": "stream",
     "text": [
      "[('Iris-versicolor', 0.5), ('Iris-virginica', 0.5)]\n"
     ]
    }
   ],
   "source": [
    "alpha = calculate_prior(nD_data)\n",
    "print alpha"
   ]
  },
  {
   "cell_type": "code",
   "execution_count": 6,
   "metadata": {
    "collapsed": false
   },
   "outputs": [],
   "source": [
    "\n",
    "'''\n",
    "Function desc:  Calculate the parameters mu and sigma. Split the obtained data based on the class and calculate the mean and \n",
    "                standard deviation.\n",
    "                \n",
    "Input : One-dimensional data\n",
    "Output: mean and standard deviation\n",
    "                    \n",
    "'''\n",
    "def calculate_parameters(d):\n",
    "        covar = []\n",
    "        mean = []\n",
    "        cls = pd.unique(d.classes)\n",
    "        for i in cls:\n",
    "            data = d[d.classes == i]\n",
    "            data_split = data.ix[:,0:4]\n",
    "            mu = data_split.mean()\n",
    "            mean.append(mu)\n",
    "            sig = data_split.cov()\n",
    "            covar.append(sig)\n",
    "        return mean,covar"
   ]
  },
  {
   "cell_type": "code",
   "execution_count": 7,
   "metadata": {
    "collapsed": false
   },
   "outputs": [
    {
     "name": "stdout",
     "output_type": "stream",
     "text": [
      "[sepal_length    5.936\n",
      "sepal_width     2.770\n",
      "petal_length    4.260\n",
      "petal_width     1.326\n",
      "dtype: float64, sepal_length    6.588\n",
      "sepal_width     2.974\n",
      "petal_length    5.552\n",
      "petal_width     2.026\n",
      "dtype: float64]\n",
      "              sepal_length  sepal_width  petal_length  petal_width\n",
      "sepal_length      0.266433     0.085184      0.182898     0.055780\n",
      "sepal_width       0.085184     0.098469      0.082653     0.041204\n",
      "petal_length      0.182898     0.082653      0.220816     0.073102\n",
      "petal_width       0.055780     0.041204      0.073102     0.039106\n",
      "              sepal_length  sepal_width  petal_length  petal_width\n",
      "sepal_length      0.404343     0.093763      0.303290     0.049094\n",
      "sepal_width       0.093763     0.104004      0.071380     0.047629\n",
      "petal_length      0.303290     0.071380      0.304588     0.048824\n",
      "petal_width       0.049094     0.047629      0.048824     0.075433\n"
     ]
    }
   ],
   "source": [
    "mean,covar = calculate_parameters(nD_data)\n",
    "print mean\n",
    "for i in range(len(covar)):\n",
    "    print covar[i]"
   ]
  },
  {
   "cell_type": "code",
   "execution_count": 8,
   "metadata": {
    "collapsed": true
   },
   "outputs": [],
   "source": [
    "'''\n",
    "Function desc: To calculate the membership function\n",
    "Input: data, mean, standard deviation and prior probability\n",
    "Returns: value of the membership function\n",
    "'''\n",
    "\n",
    "def nD_GDA_gx(x,mean,cov,prior):\n",
    "    temp = x-mean\n",
    "    sub_term = temp.tolist()\n",
    "    dot1 = np.dot(np.transpose(sub_term),np.linalg.inv(cov))\n",
    "    dot2 = np.dot(dot1,sub_term)\n",
    "    return -0.5*np.log(np.linalg.det(cov)) - 0.5*dot2 + np.log(prior[1])\n",
    "     \n",
    "    "
   ]
  },
  {
   "cell_type": "code",
   "execution_count": 9,
   "metadata": {
    "collapsed": false
   },
   "outputs": [],
   "source": [
    "'''\n",
    "Function desc: To determine the class of the outputs from the membership function\n",
    "Input: Values from the membership function\n",
    "Output: Class of  the input\n",
    "\n",
    "'''\n",
    "\n",
    "\n",
    "def nD_GDA_det(g1,g2,cls):\n",
    "    if float(g1) > float(g2):\n",
    "        return cls[0]\n",
    "    else:\n",
    "        return cls[1]\n",
    "    \n",
    "    "
   ]
  },
  {
   "cell_type": "code",
   "execution_count": 10,
   "metadata": {
    "collapsed": true
   },
   "outputs": [],
   "source": [
    "'''\n",
    "Function desc: Gaussian determinant analysis - to predict to which class the input belongs to.\n",
    "Input: parameters of the Gaussian model, prior probabilities\n",
    "Output: Predited class of the input\n",
    "'''\n",
    "\n",
    "def nD_GDA(x,mu,sigma,prior):\n",
    "    predicted = ['xxxxx' for i in range(x.shape[0])]\n",
    "    d1 = x.ix[:,0:4]\n",
    "    for i in range(len(d1)):\n",
    "        predicted[i] = nD_GDA_det(nD_GDA_gx(d1.iloc[i],mu[0],sigma[0],prior[0]),nD_GDA_gx(d1.iloc[i],mu[1],sigma[1],prior[1]),\n",
    "                                    pd.unique(x.classes))\n",
    "    return predicted"
   ]
  },
  {
   "cell_type": "code",
   "execution_count": 11,
   "metadata": {
    "collapsed": true
   },
   "outputs": [],
   "source": [
    "'''\n",
    "Function desc: To calculate the model parameters suh as precision, recall and f-measure from the confusion-matrix\n",
    "Inuput: Actual and predicted values\n",
    "Output: model parameters\n",
    "\n",
    "'''\n",
    "\n",
    "def model_eval(actual,predicted):\n",
    "    Truth= pd.Series(actual,name = 'Truth' )\n",
    "    Predicted = pd.Series(predicted,name='Predicted')\n",
    "    confusion_matrix = pd.crosstab(Truth, Predicted)\n",
    "    #print confusion_matrix\n",
    "    arr_cm = confusion_matrix.as_matrix()\n",
    "    diag = arr_cm.diagonal()\n",
    "    accuracy = float(sum(diag))/np.sum(arr_cm)\n",
    "    precision = np.divide(diag,1.0*(np.sum(arr_cm,axis=1)))\n",
    "    recall = np.divide(diag,1.0*(np.sum(arr_cm,axis=0)))\n",
    "    fmeasure = 2*((precision * recall)/(precision + recall))\n",
    "    return confusion_matrix,accuracy,precision,recall,fmeasure"
   ]
  },
  {
   "cell_type": "code",
   "execution_count": 12,
   "metadata": {
    "collapsed": true
   },
   "outputs": [],
   "source": [
    "def calc_y_score(x,mean,sigma,prior):\n",
    "    classes = pd.unique(nD_data.classes)\n",
    "    d1 = x.ix[:,0:4]\n",
    "    y_score = [0.0 for i in range(len(classes))]\n",
    "    for i in range(len(d1)):\n",
    "        for j in range(len(classes)):\n",
    "            mu=mean[j]\n",
    "            cov=sigma[j]\n",
    "            priorj=prior[j]\n",
    "            y_score[j] = nD_GDA_gx(d1.iloc[i],mu,cov,priorj)\n",
    "    return y_score"
   ]
  },
  {
   "cell_type": "code",
   "execution_count": 13,
   "metadata": {
    "collapsed": false
   },
   "outputs": [],
   "source": [
    "'''Function to perform 10-fold cross validation. In this method the test and traparams in indices are split using using the inbuit\n",
    "   'KFold' function.\n",
    "    Input 1: 'x' \n",
    "    Input 2: True predicted values\n",
    "    Input 3: No of folds (10 by default)\n",
    "    \n",
    "    Performance measures such as accuracy, precision, f-measure\n",
    "'''\n",
    "\n",
    "def x_fold_validation(data,nfolds=10):\n",
    "    confusion_matrix_list=[]\n",
    "    accuracy_list=[]\n",
    "    precision_list=[]\n",
    "    recall_list=[]\n",
    "    fmeasure_list=[]\n",
    "    x=data.ix[:,1:6]\n",
    "    y=data.classes\n",
    "    x.reset_index()\n",
    "    cv = KFold(len(y), nfolds,shuffle=True,random_state=23) #inbuilt function to split the indices\n",
    "    for train_idx, test_idx in cv:\n",
    "        x_train = x.ix[train_idx]\n",
    "        y_train = y[train_idx]\n",
    "        x_test = x.ix[test_idx]\n",
    "        y_test = y[test_idx]\n",
    "        mean,sigma = calculate_parameters(x_train)\n",
    "        prior = calculate_prior(x_train)\n",
    "        predict = nD_GDA(x_test,mean,sigma,prior)\n",
    "        conf_matrix,accuracy,precision,recall,fmeasure = model_eval(y_test.tolist(),predict)\n",
    "        print conf_matrix\n",
    "        confusion_matrix_list.append(conf_matrix)\n",
    "        accuracy_list.append(accuracy)\n",
    "        precision_list.append(precision.tolist())\n",
    "        recall_list.append(recall.tolist())\n",
    "        fmeasure_list.append(fmeasure.tolist())\n",
    "    print '################################'\n",
    "    print 'Average of the model parameters'\n",
    "    print '################################'\n",
    "    print 'Error rate:', (1-np.mean(accuracy_list))\n",
    "    print 'Accuracy:',np.mean(accuracy_list) \n",
    "    print 'Precision:', np.mean(precision_list,axis=0)\n",
    "    print 'Recall:', np.mean(recall_list,axis=0)\n",
    "    print 'F-measure:', np.mean(fmeasure_list,axis=0)\n",
    "    return precision_list,recall_list\n",
    "    \n",
    "        \n",
    "        \n",
    "        \n",
    "        \n",
    "        \n"
   ]
  },
  {
   "cell_type": "code",
   "execution_count": 17,
   "metadata": {
    "collapsed": false
   },
   "outputs": [],
   "source": [
    "def precision_recall_curve(p,r,y):\n",
    "    r=np.argsort(r)\n",
    "    rc=[]\n",
    "    pr=[]\n",
    "    for i in range(len(y)):\n",
    "        for j in range(len(r)):\n",
    "            rc.append(r[j][i])\n",
    "            pr.append(p[j][i])\n",
    "        plt.plot(rc, pr,label='Precision-recall curve of class {0} (area = {1:0.2f})' ''.format(i, np.mean(pr)),)\n",
    "        plt.xlim([0.5, 1.0])\n",
    "        plt.ylim([0.8, 1.02])\n",
    "        plt.xlabel('Recall')\n",
    "        plt.ylabel('Precision')\n",
    "        plt.title('Extension of Precision-Recall curve to multi-class')\n",
    "    plt.legend(loc=\"lower right\")\n",
    "    return plt"
   ]
  },
  {
   "cell_type": "code",
   "execution_count": null,
   "metadata": {
    "collapsed": false
   },
   "outputs": [
    {
     "name": "stdout",
     "output_type": "stream",
     "text": [
      "Predicted        Iris-versicolor  Iris-virginica\n",
      "Truth                                           \n",
      "Iris-versicolor                4               1\n",
      "Iris-virginica                 0               5\n",
      "Predicted        Iris-versicolor  Iris-virginica\n",
      "Truth                                           \n",
      "Iris-versicolor                4               0\n",
      "Iris-virginica                 0               6\n",
      "Predicted        Iris-versicolor  Iris-virginica\n",
      "Truth                                           \n",
      "Iris-versicolor                5               0\n",
      "Iris-virginica                 0               5\n",
      "Predicted        Iris-versicolor  Iris-virginica\n",
      "Truth                                           \n",
      "Iris-versicolor                5               1\n",
      "Iris-virginica                 0               4\n",
      "Predicted        Iris-versicolor  Iris-virginica\n",
      "Truth                                           \n",
      "Iris-versicolor                3               0\n",
      "Iris-virginica                 0               7\n",
      "Predicted        Iris-versicolor  Iris-virginica\n",
      "Truth                                           \n",
      "Iris-versicolor                8               0\n",
      "Iris-virginica                 0               2\n",
      "Predicted        Iris-versicolor  Iris-virginica\n",
      "Truth                                           \n",
      "Iris-versicolor                5               0\n",
      "Iris-virginica                 0               5\n",
      "Predicted        Iris-versicolor  Iris-virginica\n",
      "Truth                                           \n",
      "Iris-versicolor                5               1\n",
      "Iris-virginica                 0               4\n",
      "Predicted        Iris-versicolor  Iris-virginica\n",
      "Truth                                           \n",
      "Iris-versicolor                4               0\n",
      "Iris-virginica                 0               6"
     ]
    }
   ],
   "source": [
    "pre,rec=x_fold_validation(nD_data.reset_index())\n",
    "plt=precision_recall_curve(pre,rec,pd.unique(nD_data.classes))\n",
    "plt.show()"
   ]
  },
  {
   "cell_type": "code",
   "execution_count": null,
   "metadata": {
    "collapsed": true
   },
   "outputs": [],
   "source": []
  },
  {
   "cell_type": "code",
   "execution_count": null,
   "metadata": {
    "collapsed": true
   },
   "outputs": [],
   "source": []
  }
 ],
 "metadata": {
  "kernelspec": {
   "display_name": "Python 2",
   "language": "python",
   "name": "python2"
  },
  "language_info": {
   "codemirror_mode": {
    "name": "ipython",
    "version": 2
   },
   "file_extension": ".py",
   "mimetype": "text/x-python",
   "name": "python",
   "nbconvert_exporter": "python",
   "pygments_lexer": "ipython2",
   "version": "2.7.10"
  }
 },
 "nbformat": 4,
 "nbformat_minor": 0
}
