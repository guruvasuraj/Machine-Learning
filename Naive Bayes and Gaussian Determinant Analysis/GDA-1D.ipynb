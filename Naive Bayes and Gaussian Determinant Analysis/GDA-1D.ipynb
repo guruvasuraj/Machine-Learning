{
 "cells": [
  {
   "cell_type": "code",
   "execution_count": 1,
   "metadata": {
    "collapsed": true
   },
   "outputs": [],
   "source": [
    "#import statements\n",
    "from pandas import DataFrame, read_csv\n",
    "import pandas as pd\n",
    "import numpy as np\n",
    "from sklearn.cross_validation import KFold\n",
    "from sklearn.metrics import confusion_matrix\n",
    "from sklearn.metrics import precision_score\n",
    "from sklearn.preprocessing import label_binarize"
   ]
  },
  {
   "cell_type": "code",
   "execution_count": 2,
   "metadata": {
    "collapsed": false
   },
   "outputs": [],
   "source": [
    "'''\n",
    "Function desc: Read data from csv file and load it into pandas data frame\n",
    "Input: File name\n",
    "returns: A data frame containing one feature (sepal-length) and classes (Iris-versicolor and Iris-virginica)\n",
    "'''\n",
    "\n",
    "def read_data(file):\n",
    "    df = pd.read_csv(file, names=['sepal_length','sepal_width','petal_length','petal_width','classes'])\n",
    "    one_df= df[['sepal_length','classes']]\n",
    "    f=one_df.query('classes != \"Iris-setosa\"')\n",
    "    return f"
   ]
  },
  {
   "cell_type": "code",
   "execution_count": 3,
   "metadata": {
    "collapsed": false
   },
   "outputs": [],
   "source": [
    "oneD_data = read_data('iris.csv')  #read data\n"
   ]
  },
  {
   "cell_type": "code",
   "execution_count": 4,
   "metadata": {
    "collapsed": false
   },
   "outputs": [],
   "source": [
    "'''\n",
    "Funtcion des: Calculate prior probability of each class\n",
    "Input: One dimensional data\n",
    "Output: Prior probability of each class\n",
    "'''\n",
    "def calculate_prior(oneD_data):\n",
    "    priors = []\n",
    "    cls = pd.unique(oneD_data.classes)\n",
    "    for i in range(len(cls)):\n",
    "        sz=oneD_data.groupby('classes').size()[i]\n",
    "        priors.append((cls[i],(sz/float(oneD_data.shape[0]))))\n",
    "    return priors\n",
    "        \n",
    "    \n",
    "    "
   ]
  },
  {
   "cell_type": "code",
   "execution_count": 5,
   "metadata": {
    "collapsed": false
   },
   "outputs": [
    {
     "name": "stdout",
     "output_type": "stream",
     "text": [
      "[('Iris-versicolor', 0.5), ('Iris-virginica', 0.5)]\n"
     ]
    }
   ],
   "source": [
    "alpha = calculate_prior(oneD_data)\n",
    "print alpha"
   ]
  },
  {
   "cell_type": "code",
   "execution_count": 6,
   "metadata": {
    "collapsed": true
   },
   "outputs": [],
   "source": [
    "'''\n",
    "Function desc:  Calculate the parameters mu and sigma. Split the obtained data based on the class and calculate the mean and \n",
    "                standard deviation.\n",
    "                \n",
    "Input : One-dimensional data\n",
    "Output: mean and standard deviation\n",
    "                    \n",
    "'''\n",
    "\n",
    "\n",
    "\n",
    "def calculate_parameters(d):\n",
    "        sd = []\n",
    "        mean = []\n",
    "        cls = pd.unique(d.classes)\n",
    "        for i in cls:\n",
    "            v = oneD_data[oneD_data.classes == i]\n",
    "            mean.append(np.mean(v))\n",
    "            sd.append(np.std(v))\n",
    "        return mean,sd"
   ]
  },
  {
   "cell_type": "code",
   "execution_count": 7,
   "metadata": {
    "collapsed": false
   },
   "outputs": [
    {
     "name": "stdout",
     "output_type": "stream",
     "text": [
      "[sepal_length    5.936\n",
      "dtype: float64, sepal_length    6.588\n",
      "dtype: float64]\n",
      "[sepal_length    0.510983\n",
      "dtype: float64, sepal_length    0.629489\n",
      "dtype: float64]\n"
     ]
    }
   ],
   "source": [
    "mu,sigma = calculate_parameters(oneD_data)\n",
    "print mu\n",
    "print sigma"
   ]
  },
  {
   "cell_type": "code",
   "execution_count": 8,
   "metadata": {
    "collapsed": false
   },
   "outputs": [],
   "source": [
    "'''\n",
    "Function desc: To calculate the membership function\n",
    "Input: data, mean, standard deviation and prior probability\n",
    "Returns: value of the membership function\n",
    "'''\n",
    "def oneD_GDA_gx(x,mean,sd,prior):\n",
    "     return -np.log(sd) - 0.5*(x-mean)**2/(2*(sd)**2) +np.log(prior[1])\n",
    "    "
   ]
  },
  {
   "cell_type": "code",
   "execution_count": 9,
   "metadata": {
    "collapsed": false
   },
   "outputs": [],
   "source": [
    "'''\n",
    "Function desc: To determine the class of the outputs from the membership function\n",
    "Input: Values from the membership function\n",
    "Output: Class of  the input\n",
    "\n",
    "'''\n",
    "\n",
    "\n",
    "def oneD_GDA_det(g1,g2,cls):\n",
    "    \n",
    "    if float(g1) > float(g2):\n",
    "        return cls[0]\n",
    "    else:\n",
    "        return cls[1]\n",
    "    \n",
    "    "
   ]
  },
  {
   "cell_type": "code",
   "execution_count": 10,
   "metadata": {
    "collapsed": false
   },
   "outputs": [],
   "source": [
    "'''\n",
    "Function desc: Gaussian determinant analysis - to predict to which class the input belongs to.\n",
    "Input: parameters of the Gaussian model, prior probabilities\n",
    "Output: Predited class of the input\n",
    "'''\n",
    "\n",
    "\n",
    "def oneD_GDA(x,mu,sigma,prior):\n",
    "    predicted = ['xxxxx' for i in range(x.shape[0])]\n",
    "    d1 = x.ix[:,0].tolist()\n",
    "    for i in range(len(d1)):\n",
    "        predicted[i] = oneD_GDA_det(oneD_GDA_gx(d1[i],mu[0],sigma[0],prior[0]),oneD_GDA_gx(d1[i],mu[1],sigma[1],prior[1]),\n",
    "                                    pd.unique(oneD_data.classes))\n",
    "    return predicted"
   ]
  },
  {
   "cell_type": "code",
   "execution_count": 11,
   "metadata": {
    "collapsed": false
   },
   "outputs": [],
   "source": [
    "cls=oneD_GDA(oneD_data,mu,sigma,alpha)"
   ]
  },
  {
   "cell_type": "code",
   "execution_count": 12,
   "metadata": {
    "collapsed": false
   },
   "outputs": [],
   "source": [
    "'''\n",
    "Function desc: To calculate the model parameters suh as precision, recall and f-measure from the confusion-matrix\n",
    "Inuput: Actual and predicted values\n",
    "Output: model parameters\n",
    "\n",
    "\n",
    "Classification accuracy\n",
    "(TP + TN) / (TP + TN + FP + FN)\n",
    "Error rate\n",
    "(FP + FN) / (TP + TN + FP + FN)\n",
    "\n",
    "Precision: (or Positive predictive value)\n",
    "proportion of predicted positives which\n",
    "are actual positive\n",
    "TP / (TP + FP)\n",
    "Recall: proportion of actual positives\n",
    "which are predicted positive\n",
    "TP / (TP + FN)\n",
    "\n",
    "Error rate: 1- classification accuracy\n",
    "\n",
    "'''\n",
    "\n",
    "def model_eval(actual,predicted):\n",
    "    Truth= pd.Series(actual,name = 'Truth' )\n",
    "    Predicted = pd.Series(predicted,name='Predicted')\n",
    "    confusion_matrix = pd.crosstab(Truth, Predicted)\n",
    "    arr_cm = confusion_matrix.as_matrix()\n",
    "    diag = arr_cm.diagonal()\n",
    "    accuracy = float(sum(diag))/np.sum(arr_cm)\n",
    "    precision = np.divide(diag,1.0*(np.sum(arr_cm,axis=1)))\n",
    "    recall = np.divide(diag,1.0*(np.sum(arr_cm,axis=0)))\n",
    "    fmeasure = 2*((precision * recall)/(precision + recall))\n",
    "    return confusion_matrix,accuracy,precision,recall,fmeasure\n",
    "    \n",
    "    "
   ]
  },
  {
   "cell_type": "code",
   "execution_count": 13,
   "metadata": {
    "collapsed": false
   },
   "outputs": [],
   "source": [
    "'''Function to perform 10-fold cross validation. In this method the test and traparams in indices are split using using the inbuit\n",
    "   'KFold' function.\n",
    "    Input 1: 'x' \n",
    "    Input 2: True predicted values\n",
    "    Input 3: No of folds (10 by default)\n",
    "    \n",
    "    Performance measures such as accuracy, precision, f-measure\n",
    "'''\n",
    "\n",
    "def x_fold_validation(data,nfolds=10):\n",
    "    confusion_matrix_list=[]\n",
    "    accuracy_list=[]\n",
    "    precision_list=[]\n",
    "    recall_list=[]\n",
    "    fmeasure_list=[]\n",
    "    x=data.ix[:,1:3]\n",
    "    y=data.classes\n",
    "    cls= pd.unique(y)\n",
    "    x.reset_index()\n",
    "    MSE=[]\n",
    "    cv = KFold(len(y), nfolds,shuffle = True,random_state=23) #inbuilt function to split the indices\n",
    "    for train_idx, test_idx in cv:\n",
    "        x_train = x.ix[train_idx]\n",
    "        y_train = y[train_idx]\n",
    "        x_test = x.ix[test_idx]\n",
    "        y_test = y[test_idx]\n",
    "        mean,sigma = calculate_parameters(x_train)\n",
    "        prior = calculate_prior(x_train)\n",
    "        predict = oneD_GDA(x_test,mean,sigma,prior)\n",
    "        conf_matrix,accuracy,precision,recall,fmeasure = model_eval(y_test.tolist(),predict)\n",
    "        print conf_matrix\n",
    "        confusion_matrix_list.append(conf_matrix)\n",
    "        accuracy_list.append(accuracy.tolist())\n",
    "        precision_list.append(precision.tolist())\n",
    "        recall_list.append(recall.tolist())\n",
    "        fmeasure_list.append(fmeasure.tolist())\n",
    "    print '################################'\n",
    "    print 'Average of the model parameters'\n",
    "    print '################################'\n",
    "    print 'Error rate:', (1-np.mean(accuracy_list,axis=0))\n",
    "    print 'Accuracy:',np.mean(accuracy_list)\n",
    "    print 'Precision:', np.mean(precision_list,axis=0)\n",
    "    print 'Recall:', np.mean(recall_list,axis=0)\n",
    "    print 'F-measure:', np.mean(fmeasure_list,axis=0)\n",
    "    \n",
    "\n",
    "        \n",
    "        \n",
    "        \n"
   ]
  },
  {
   "cell_type": "code",
   "execution_count": 14,
   "metadata": {
    "collapsed": false
   },
   "outputs": [
    {
     "name": "stdout",
     "output_type": "stream",
     "text": [
      "Predicted        Iris-versicolor  Iris-virginica\n",
      "Truth                                           \n",
      "Iris-versicolor                4               1\n",
      "Iris-virginica                 2               3\n",
      "Predicted        Iris-versicolor  Iris-virginica\n",
      "Truth                                           \n",
      "Iris-versicolor                4               0\n",
      "Iris-virginica                 2               4\n",
      "Predicted        Iris-versicolor  Iris-virginica\n",
      "Truth                                           \n",
      "Iris-versicolor                3               2\n",
      "Iris-virginica                 3               2\n",
      "Predicted        Iris-versicolor  Iris-virginica\n",
      "Truth                                           \n",
      "Iris-versicolor                5               1\n",
      "Iris-virginica                 0               4\n",
      "Predicted        Iris-versicolor  Iris-virginica\n",
      "Truth                                           \n",
      "Iris-versicolor                2               1\n",
      "Iris-virginica                 4               3\n",
      "Predicted        Iris-versicolor  Iris-virginica\n",
      "Truth                                           \n",
      "Iris-versicolor                8               0\n",
      "Iris-virginica                 1               1\n",
      "Predicted        Iris-versicolor  Iris-virginica\n",
      "Truth                                           \n",
      "Iris-versicolor                3               2\n",
      "Iris-virginica                 2               3\n",
      "Predicted        Iris-versicolor  Iris-virginica\n",
      "Truth                                           \n",
      "Iris-versicolor                5               1\n",
      "Iris-virginica                 1               3\n",
      "Predicted        Iris-versicolor  Iris-virginica\n",
      "Truth                                           \n",
      "Iris-versicolor                4               0\n",
      "Iris-virginica                 4               2\n",
      "Predicted        Iris-versicolor  Iris-virginica\n",
      "Truth                                           \n",
      "Iris-versicolor                3               1\n",
      "Iris-virginica                 3               3\n",
      "################################\n",
      "Average of the model parameters\n",
      "################################\n",
      "Error rate: 0.31\n",
      "Accuracy: 0.69\n",
      "Precision: [ 0.80833333  0.57785714]\n",
      "Recall: [ 0.64888889  0.79      ]\n",
      "F-measure: [ 0.70674391  0.64621212]\n"
     ]
    }
   ],
   "source": [
    "x_fold_validation(oneD_data.reset_index())"
   ]
  },
  {
   "cell_type": "code",
   "execution_count": null,
   "metadata": {
    "collapsed": true
   },
   "outputs": [],
   "source": []
  }
 ],
 "metadata": {
  "kernelspec": {
   "display_name": "Python 2",
   "language": "python",
   "name": "python2"
  },
  "language_info": {
   "codemirror_mode": {
    "name": "ipython",
    "version": 2
   },
   "file_extension": ".py",
   "mimetype": "text/x-python",
   "name": "python",
   "nbconvert_exporter": "python",
   "pygments_lexer": "ipython2",
   "version": "2.7.10"
  }
 },
 "nbformat": 4,
 "nbformat_minor": 0
}
