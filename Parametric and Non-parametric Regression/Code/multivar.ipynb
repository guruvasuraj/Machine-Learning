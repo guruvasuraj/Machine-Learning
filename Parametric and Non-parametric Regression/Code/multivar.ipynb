{
 "cells": [
  {
   "cell_type": "code",
   "execution_count": 242,
   "metadata": {
    "collapsed": true
   },
   "outputs": [],
   "source": [
    "''' Import statements'''\n",
    "%matplotlib inline\n",
    "import io\n",
    "import matplotlib.pyplot as plt\n",
    "import numpy as np\n",
    "from sklearn import linear_model\n",
    "from sklearn.cross_validation import KFold\n",
    "from sklearn.metrics import mean_squared_error\n",
    "from sklearn.metrics import accuracy_score\n",
    "from sklearn.preprocessing import PolynomialFeatures\n",
    "from scipy.sparse import csr_matrix\n",
    "from numpy.linalg import inv\n",
    "from scipy.spatial.distance import pdist, squareform"
   ]
  },
  {
   "cell_type": "code",
   "execution_count": 243,
   "metadata": {
    "collapsed": false
   },
   "outputs": [],
   "source": [
    "''' Function to read the data and categorize them into X and Y\n",
    "    returns :\n",
    "             x - list of feature vectors\n",
    "             y - list of given predicted values\n",
    "             xr - nd-array of feature vectors\n",
    "             yr - nd-array of given predicted values\n",
    "\n",
    "'''\n",
    "def read_data(data_file): \n",
    "    \n",
    "    f = open(data_file,'r')\n",
    "    x=[]\n",
    "    y=[]\n",
    "    yr=[]\n",
    "    for line in f:\n",
    "        if not line.startswith('#'):\n",
    "            sp=line.split()\n",
    "            #x1=float(sp[0])\n",
    "            #x2=float(sp[1])\n",
    "            #x.append((x1,x2))\n",
    "            y.append(float(sp[-1]))\n",
    "            x.append([float(sp[i]) for i in range(len(sp)-1)])\n",
    "            b= [tuple(i) for i in x]\n",
    "        \n",
    "    return x,y\n",
    "    \n",
    "     "
   ]
  },
  {
   "cell_type": "code",
   "execution_count": 244,
   "metadata": {
    "collapsed": false
   },
   "outputs": [
    {
     "name": "stdout",
     "output_type": "stream",
     "text": [
      "[[1.673469387755102, 0.4489795918367345], [-0.0408163265306124, 0.530612244897959], [-0.7755102040816327, -1.591836734693878], [-2.0, -1.346938775510204], [0.7755102040816324, -0.4489795918367348], [-1.26530612244898, 1.510204081632653], [-1.836734693877551, -0.6122448979591838], [-1.428571428571429, 1.755102040816326], [-0.5306122448979593, 2.0], [1.591836734693877, -0.0408163265306124]]\n"
     ]
    }
   ],
   "source": [
    "x,y=read_data(\"mvar-set1.dat\")\n",
    "print x[:10]"
   ]
  },
  {
   "cell_type": "code",
   "execution_count": 245,
   "metadata": {
    "collapsed": true
   },
   "outputs": [],
   "source": [
    "''' Function to return the desired classifier'''\n",
    "\n",
    "def get_clf():\n",
    "    return linear_model.LinearRegression()"
   ]
  },
  {
   "cell_type": "code",
   "execution_count": 246,
   "metadata": {
    "collapsed": false
   },
   "outputs": [],
   "source": [
    "'''Function to return the transformed matrix\n",
    "   Input 1 : Feature vector \n",
    "   Input 2: Desired degree\n",
    "   Output : 'Z' - the tranformed matrix eg., [1 x x**2 ....]\n",
    "\n",
    "'''\n",
    "\n",
    "def Z_Transform(x,degree):\n",
    "        poly = PolynomialFeatures(degree)\n",
    "        z=poly.fit_transform(np.array(x))\n",
    "        return z\n"
   ]
  },
  {
   "cell_type": "code",
   "execution_count": 247,
   "metadata": {
    "collapsed": false
   },
   "outputs": [],
   "source": [
    "'''Function to calculate the theta values\n",
    "   Input 1: 'Z' - the tranformed matrix eg., [1 x x**2 ....]\n",
    "   Input 2: Y values\n",
    "   Output: theta according to the order eg if degree = 2 , 3 theta values will be returned\n",
    "'''\n",
    "\n",
    "def poly_theta(z,y):\n",
    "    theta = np.dot(np.linalg.pinv(z),y)\n",
    "    return theta"
   ]
  },
  {
   "cell_type": "code",
   "execution_count": 248,
   "metadata": {
    "collapsed": false
   },
   "outputs": [
    {
     "name": "stdout",
     "output_type": "stream",
     "text": [
      "Solution to the regression problem using iterative solution:\n",
      "[  1.02230218e+00   1.00248539e+00   1.00537442e+00  -1.26097513e-02\n",
      "  -8.47393334e-03  -6.43213699e-03  -2.31159943e-03  -1.64092663e-02\n",
      "   5.84897669e-04   3.15715316e-03]\n"
     ]
    }
   ],
   "source": [
    "z=Z_Transform(x,3)\n",
    "thetas=poly_theta(z,y)\n",
    "print 'Solution to the regression problem using iterative solution:'\n",
    "print thetas"
   ]
  },
  {
   "cell_type": "code",
   "execution_count": 249,
   "metadata": {
    "collapsed": false
   },
   "outputs": [],
   "source": [
    "'''\n",
    "Function used in gradient descent to predict values in each iteration\n",
    "'''\n",
    "\n",
    "def predict_grad(theta,z):\n",
    "        return np.dot(theta,z)\n"
   ]
  },
  {
   "cell_type": "code",
   "execution_count": 250,
   "metadata": {
    "collapsed": false
   },
   "outputs": [],
   "source": [
    "'''Function to predict the output of the given z\n",
    "   Input 1: Thetas\n",
    "   Input 2: Input 1: 'Z' - the tranformed matrix eg., [1 x x**2 ....]\n",
    "   Output: Predictions of the given Z matrix\n",
    " \n",
    "'''\n",
    "def predict(theta,z):\n",
    "    predictions = []\n",
    "    for i in z:\n",
    "        predictions.append(np.dot(theta.transpose(),np.array(i)))\n",
    "    return predictions"
   ]
  },
  {
   "cell_type": "code",
   "execution_count": 251,
   "metadata": {
    "collapsed": true
   },
   "outputs": [],
   "source": [
    "'''Function to calculate the mse \n",
    "   Input 1: Predicted values\n",
    "   Input 2: True values\n",
    "   Output: mse of predicted and truth \n",
    "'''\n",
    "\n",
    "\n",
    "def mse_calculator(pred,y):\n",
    "    return sum([(i-j)**2 for i,j in zip(pred,y)])/len(y) # formula to calulate mse - 1/m*sum(yhat-y)**2\n",
    "    "
   ]
  },
  {
   "cell_type": "code",
   "execution_count": 252,
   "metadata": {
    "collapsed": true
   },
   "outputs": [],
   "source": [
    "'''Function to calculate the rse \n",
    "   Input 1: Predicted values\n",
    "   Input 2: True values\n",
    "   Output: rse of predicted and truth \n",
    "'''\n",
    "\n",
    "def rse_calculator(pred,y):\n",
    "    return sum([(i-j)**2/y**2 for i,j in zip(pred,y)])/len(y) # formula to calulate mse - 1/m*sum(yhat-y)**2/y**2\n",
    "    "
   ]
  },
  {
   "cell_type": "code",
   "execution_count": 253,
   "metadata": {
    "collapsed": true
   },
   "outputs": [],
   "source": [
    "'''Function to perform 10-fold cross validation. In this method the test and train indices are split using using the inbuit\n",
    "   'KFold' function.\n",
    "    Input 1: 'Z' - the tranformed matrix eg., [1 x x**2 ....]\n",
    "    Input 2: True predicted values\n",
    "    Input 3: No of folds (10 by default)\n",
    "    \n",
    "    Performance measures such as mean suared error and relative suared error are calculated in this function\n",
    "\n",
    "'''\n",
    "\n",
    "\n",
    "def poly_ten_fold(x,y,nfolds=10):\n",
    "    cv = KFold(len(y), nfolds) #inbuilt function to split the indices\n",
    "    MSE_tr=[]\n",
    "    MSE_ts=[]\n",
    "    RSE_tr=[]\n",
    "    RSE_ts=[]\n",
    "    for train_idx, test_idx in cv:\n",
    "        y_=np.array(y)\n",
    "        theta = poly_theta(x[train_idx],y_[train_idx]) # Find theta for the train set\n",
    "        pred_train=predict(theta,x[train_idx]) # Predict values using the formula theta.transpose * z for train set\n",
    "        error_tr = mse_calculator(pred_train,y_[train_idx]) #calculate mse for train\n",
    "        MSE_tr.append(error_tr)\n",
    "        error_rse_tr = rse_calculator(pred_train,y_[train_idx]) #calculate rse for train \n",
    "        RSE_tr.append(error_rse_tr)\n",
    "        pred_test = predict(theta,x[test_idx])  # Predict values using the formula theta.transpose * z for test set\n",
    "        error_ts = mse_calculator(pred_test,y_[test_idx]) #calculate mse for test \n",
    "        error_rse_ts = rse_calculator(pred_test,y_[test_idx]) #calculate rse for test \n",
    "        MSE_ts.append(error_ts)\n",
    "        RSE_ts.append(error_rse_ts)\n",
    "    print 'MSE of train: %f' %np.mean(MSE_tr)\n",
    "    print 'MSE of test: %f' %np.mean(MSE_ts)"
   ]
  },
  {
   "cell_type": "code",
   "execution_count": 254,
   "metadata": {
    "collapsed": false
   },
   "outputs": [
    {
     "name": "stdout",
     "output_type": "stream",
     "text": [
      "MSE of train: 0.258185\n",
      "MSE of test: 0.259617\n"
     ]
    }
   ],
   "source": [
    "Z=Z_Transform(x,2)\n",
    "poly_ten_fold(Z,y)"
   ]
  },
  {
   "cell_type": "code",
   "execution_count": 255,
   "metadata": {
    "collapsed": true
   },
   "outputs": [],
   "source": [
    "'''Function to perform 10-fold cross validation. In this method the test and train indices are split programatically without the \n",
    "   use of in-built function  \n",
    "    Input 1: 'Z' - the tranformed matrix eg., [1 x x**2 ....]\n",
    "    Input 2: True predicted values\n",
    "    Input 3: No of folds (10 by default)\n",
    "    \n",
    "    Performance measures such as mean suared error and relative suared error are calculated in this function\n",
    "\n",
    "'''\n",
    "\n",
    "def split_indices_cross_fold(x,y,nfolds=10):\n",
    "    \n",
    "    split = int((len(y))/nfolds) #split size of the data\n",
    "    idx=[i for i in range(len(y))] # indices list [0 .... size(data)-1]\n",
    "    i=0\n",
    "    j=1\n",
    "    MSE_tr=[]\n",
    "    MSE_ts=[]\n",
    "    RSE_tr=[]\n",
    "    RSE_ts=[]\n",
    "    while j <  nfolds+1: # repeat n-fold times\n",
    "        test_idx=idx[split*i:split*j] # Get test indices\n",
    "        train_idx=list(set(idx)-set(test_idx)) # Get test indices\n",
    "        y_=np.array(y)\n",
    "        theta = poly_theta(x[train_idx],y_[train_idx])\n",
    "        pred_train=predict(theta,x[train_idx])\n",
    "        error_tr = mse_calculator(pred_train,y_[train_idx])\n",
    "        MSE_tr.append(error_tr)\n",
    "        pred_test = predict(theta,x[test_idx])\n",
    "        error_ts = mse_calculator(pred_test,y_[test_idx])\n",
    "        MSE_ts.append(error_ts)\n",
    "        error_rse_tr = rse_calculator(pred_train,y_[train_idx]) #calculate rse for train \n",
    "        RSE_tr.append(error_rse_tr)\n",
    "        error_rse_ts = rse_calculator(pred_test,y_[test_idx]) #calculate rse for test\n",
    "        RSE_tr.append(error_rse_ts)\n",
    "        i+=1\n",
    "        j+=1\n",
    "    print 'MSE of train: %f' %np.mean(MSE_tr)\n",
    "    print 'MSE of test: %f' %np.mean(MSE_ts)\n",
    "    \n",
    "    \n",
    "     "
   ]
  },
  {
   "cell_type": "code",
   "execution_count": 256,
   "metadata": {
    "collapsed": false
   },
   "outputs": [
    {
     "name": "stdout",
     "output_type": "stream",
     "text": [
      "MSE of train: 0.258185\n",
      "MSE of test: 0.259617\n",
      "MSE of train: 0.257498\n",
      "MSE of test: 0.260660\n",
      "MSE of train: 0.256295\n",
      "MSE of test: 0.260305\n",
      "MSE of train: 0.255962\n",
      "MSE of test: 0.261528\n",
      "MSE of train: 0.254778\n",
      "MSE of test: 0.261960\n"
     ]
    }
   ],
   "source": [
    "for i in range(2,7):\n",
    "    Z=Z_Transform(x,i)\n",
    "    split_indices_cross_fold(Z,y)"
   ]
  },
  {
   "cell_type": "code",
   "execution_count": 257,
   "metadata": {
    "collapsed": true
   },
   "outputs": [],
   "source": [
    "'''Function to perform 10-fold cross validation using ready made python functions. This function is used to compare the results\n",
    "   of the earlier obtained model\n",
    "    Input 1: 'Z' - the tranformed matrix eg., [1 x x**2 ....]\n",
    "    Input 2: True predicted values\n",
    "    Input 3: No of folds (10 by default)\n",
    "    \n",
    "    Performance measures such as mean suared error is calculated in this function\n",
    "\n",
    "'''\n",
    "\n",
    "\n",
    "\n",
    "def poly_ten_fold_validation_verify(x,y,nfolds=10):\n",
    "    cv = KFold(len(y), nfolds)\n",
    "    MSE_tr=[]\n",
    "    MSE_ts=[]\n",
    "    RSE_tr=[]\n",
    "    RSE_ts=[]\n",
    "    error_tr = 0\n",
    "    error_ts = 0\n",
    "    for train_idx, test_idx in cv:\n",
    "        t = csr_matrix(x).toarray() # convert the train data into CSR matrix\n",
    "        y_=np.array(y)\n",
    "        clf = get_clf() # get the classifier\n",
    "        clf.fit(t[train_idx], y_[train_idx]) # fit the data\n",
    "        pred_test = clf.predict(t[test_idx]) \n",
    "        pred_train = clf.predict(t[train_idx])\n",
    "        error_ts += mean_squared_error(y_[test_idx], pred_test)\n",
    "        error_tr += mean_squared_error(y_[train_idx],pred_train)\n",
    "    print error_tr/nfolds\n",
    "    print error_ts/nfolds\n",
    "\n",
    "\n",
    "    "
   ]
  },
  {
   "cell_type": "code",
   "execution_count": 258,
   "metadata": {
    "collapsed": false
   },
   "outputs": [
    {
     "name": "stdout",
     "output_type": "stream",
     "text": [
      "0.258184561507\n",
      "0.259616633312\n"
     ]
    }
   ],
   "source": [
    "Z=Z_Transform(x,2)\n",
    "poly_ten_fold_validation_verify(Z,y)"
   ]
  },
  {
   "cell_type": "code",
   "execution_count": 259,
   "metadata": {
    "collapsed": true
   },
   "outputs": [],
   "source": [
    "'''Function splitting the train data and test data into various splits\n",
    "    Input 1: 'Z' - the tranformed matrix eg., [1 x x**2 ....]\n",
    "    Input 2: True predicted values\n",
    "    Input 3: No of folds (10 by default)\n",
    "    \n",
    "    Performance measures such as mean suared error and relative suared error are calculated in this function\n",
    "\n",
    "'''\n",
    "\n",
    "\n",
    "def poly_fit_test(x,xp,y):\n",
    "    train_index = int(0.7*len(y))\n",
    "    x_train = x[:train_index]\n",
    "    y_train = y[:train_index]\n",
    "    x_test = x[train_index:]\n",
    "    y_test = y[train_index:]\n",
    "    xptest=xp[train_index:]\n",
    "    y_=np.array(y)\n",
    "    theta = poly_theta(x_train,y_train)\n",
    "    pred_train=predict(theta,x_train)\n",
    "    pred_test = predict(theta,x_test)\n",
    "    error_tr = mse_calculator(pred_train,y_train)\n",
    "    error_ts = mse_calculator(pred_test,y_test)\n",
    "    print error_tr\n",
    "    print error_ts\n",
    "    "
   ]
  },
  {
   "cell_type": "code",
   "execution_count": 260,
   "metadata": {
    "collapsed": false
   },
   "outputs": [
    {
     "name": "stdout",
     "output_type": "stream",
     "text": [
      "0.260109029077\n",
      "0.254692854924\n"
     ]
    }
   ],
   "source": [
    "Z=Z_Transform(x,2)\n",
    "poly_fit_test(Z,x,y)"
   ]
  },
  {
   "cell_type": "code",
   "execution_count": 261,
   "metadata": {
    "collapsed": false
   },
   "outputs": [],
   "source": [
    "'''\n",
    "Function to solve regression problem using iterative solution:\n",
    "Input 1: Transforrmed x\n",
    "Input 2: True y values\n",
    "Input 3: Learning rate or step size\n",
    "Input 4: Number of iterations\n",
    "\n",
    "\n",
    "\n",
    "'''\n",
    "def gradient_descent(x, y):\n",
    "    zT = x.transpose()\n",
    "    n = np.shape(x)[1]\n",
    "    iterations= 10000\n",
    "    learning_rate = 0.001\n",
    "    theta = np.ones(n)\n",
    "    for i in range(0, iterations):\n",
    "        predicted = predict_grad(x,theta) #predict with the initial theta\n",
    "        error = predicted - np.array(y) #calculate the error\n",
    "        grad = np.dot(zT, error) #find the gradient\n",
    "        theta = theta - learning_rate*grad # update the theta values\n",
    "    return theta\n"
   ]
  },
  {
   "cell_type": "code",
   "execution_count": 262,
   "metadata": {
    "collapsed": false
   },
   "outputs": [
    {
     "name": "stdout",
     "output_type": "stream",
     "text": [
      "Solution to the regression problem using iterative solution:\n",
      "[  1.02230218e+00   1.00248539e+00   1.00537442e+00  -1.26097513e-02\n",
      "  -8.47393334e-03  -6.43213699e-03  -2.31159943e-03  -1.64092663e-02\n",
      "   5.84897669e-04   3.15715316e-03]\n"
     ]
    }
   ],
   "source": [
    "g=Z_Transform(x,3)\n",
    "theta = gradient_descent(g, y)\n",
    "print 'Solution to the regression problem using iterative solution:'\n",
    "print thetas"
   ]
  },
  {
   "cell_type": "code",
   "execution_count": 58,
   "metadata": {
    "collapsed": false
   },
   "outputs": [
    {
     "name": "stdout",
     "output_type": "stream",
     "text": [
      "True\n",
      "[ -3.24818239e+15  -1.16702162e+16  -4.68178451e+15 ...,  -6.98182228e+14\n",
      "  -1.76785926e+15   1.97639305e+15]\n"
     ]
    }
   ],
   "source": [
    "alpha = find_alpha(gram,y)\n",
    "print (gram.transpose() == gram).all() \n",
    "print alpha"
   ]
  },
  {
   "cell_type": "code",
   "execution_count": 228,
   "metadata": {
    "collapsed": true
   },
   "outputs": [],
   "source": [
    "'''\n",
    "Function to calculate the Gaussian Kernel K(X,X')\n",
    "'''\n",
    "\n",
    "def Gaussian_kernel(d):\n",
    "    pred=[]\n",
    "    sig=0.2\n",
    "    mul=d*d\n",
    "    num=[sum(-1.*i) for i in mul]   #rowsums\n",
    "    deno = 2*np.square(sig)\n",
    "    sim = np.exp(num/deno)\n",
    "    return sim\n",
    "    \n",
    "    "
   ]
  },
  {
   "cell_type": "code",
   "execution_count": 229,
   "metadata": {
    "collapsed": false
   },
   "outputs": [],
   "source": [
    "for i in range(len(y)):\n",
    "    f=np.array(x)\n",
    "    t=[x[i] for s in range(len(x))] #x(i)\n",
    "    xx=f-t  # x-x(i)\n",
    "    b=Gaussian_kernel(xx)\n",
    "    pred.append(sum(b*np.array(y))/sum(b))\n",
    "      "
   ]
  },
  {
   "cell_type": "code",
   "execution_count": 266,
   "metadata": {
    "collapsed": false
   },
   "outputs": [
    {
     "name": "stdout",
     "output_type": "stream",
     "text": [
      "0.248805124864\n"
     ]
    }
   ],
   "source": [
    "error = mse_calculator(pred,y)\n",
    "print error"
   ]
  },
  {
   "cell_type": "code",
   "execution_count": null,
   "metadata": {
    "collapsed": true
   },
   "outputs": [],
   "source": []
  }
 ],
 "metadata": {
  "kernelspec": {
   "display_name": "Python 2",
   "language": "python",
   "name": "python2"
  },
  "language_info": {
   "codemirror_mode": {
    "name": "ipython",
    "version": 2
   },
   "file_extension": ".py",
   "mimetype": "text/x-python",
   "name": "python",
   "nbconvert_exporter": "python",
   "pygments_lexer": "ipython2",
   "version": "2.7.10"
  }
 },
 "nbformat": 4,
 "nbformat_minor": 0
}
