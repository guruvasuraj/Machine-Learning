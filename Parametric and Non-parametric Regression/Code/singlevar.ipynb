{
 "cells": [
  {
   "cell_type": "code",
   "execution_count": 2,
   "metadata": {
    "collapsed": true
   },
   "outputs": [],
   "source": [
    "''' Import statements'''\n",
    "%matplotlib inline\n",
    "import matplotlib.pyplot as plt\n",
    "import numpy as np\n",
    "from sklearn import linear_model\n",
    "from sklearn.cross_validation import KFold\n",
    "from sklearn.metrics import mean_squared_error\n",
    "from sklearn.metrics import accuracy_score\n",
    "from sklearn.preprocessing import PolynomialFeatures\n",
    "from scipy.sparse import csr_matrix\n",
    "import math"
   ]
  },
  {
   "cell_type": "code",
   "execution_count": 3,
   "metadata": {
    "collapsed": false,
    "scrolled": false
   },
   "outputs": [],
   "source": [
    "''' Function to read the data and categorize them into X and Y\n",
    "    returns :\n",
    "             x - list of feature vectors\n",
    "             y - list of given predicted values\n",
    "             xr - nd-array of feature vectors\n",
    "             yr - nd-array of given predicted values\n",
    "\n",
    "'''\n",
    "def read_data(data_file):    \n",
    "    f = open(data_file,'r')\n",
    "    x=[] \n",
    "    xr=[]\n",
    "    y=[]\n",
    "    yr=[]\n",
    "    for line in f:\n",
    "        if not line.startswith('#'):\n",
    "            s=line.split()\n",
    "            xr.append([float(s[0])])\n",
    "            x.append(float(s[0]))\n",
    "            y.append(float(s[1]))\n",
    "            yr.append([float(s[1])])\n",
    "    return x,y,xr,yr\n",
    "    "
   ]
  },
  {
   "cell_type": "code",
   "execution_count": 4,
   "metadata": {
    "collapsed": false
   },
   "outputs": [],
   "source": [
    "'''Function to plot the graph\n",
    "   arg x - Feature vetor\n",
    "   arg y - given predicted values\n",
    "   returns - a plot which describes the complexity of the data\n",
    "'''\n",
    "\n",
    "def plot_graph(x,y):\n",
    "    x_axis = np.array(x)\n",
    "    y_axis = np.array(y)\n",
    "    plt.title(\"Single feature plot\")\n",
    "    plt.xlabel(\"X\")\n",
    "    plt.ylabel(\"Y\")\n",
    "    plt.plot(x_axis, y_axis,'o')\n",
    "    plt.show()"
   ]
  },
  {
   "cell_type": "code",
   "execution_count": 5,
   "metadata": {
    "collapsed": true
   },
   "outputs": [],
   "source": [
    "''' Function to return the desired classifier'''\n",
    "\n",
    "def get_clf():\n",
    "    return linear_model.LinearRegression()"
   ]
  },
  {
   "cell_type": "code",
   "execution_count": 110,
   "metadata": {
    "collapsed": false
   },
   "outputs": [],
   "source": [
    "x4,y4,xr4,yr4 = read_data('svar-set4.dat') #Read the data"
   ]
  },
  {
   "cell_type": "code",
   "execution_count": 111,
   "metadata": {
    "collapsed": false
   },
   "outputs": [
    {
     "data": {
      "image/png": "[encoded data removed]",
      "text/plain": [
       "<matplotlib.figure.Figure at 0x1f85cb38>"
      ]
     },
     "metadata": {},
     "output_type": "display_data"
    }
   ],
   "source": [
    "plot_graph(x4,y4) #plot the data"
   ]
  },
  {
   "cell_type": "code",
   "execution_count": 112,
   "metadata": {
    "collapsed": false
   },
   "outputs": [],
   "source": [
    "'''Function to return the transformed matrix\n",
    "   Input 1 : Feature vector \n",
    "   Input 2: Desired degree\n",
    "   Output : 'Z' - the tranformed matrix eg., [1 x x**2 ....]\n",
    "\n",
    "'''\n",
    "\n",
    "def Z_Transform(x,degree):\n",
    "        poly = PolynomialFeatures(degree)\n",
    "        z=poly.fit_transform(np.array(x))\n",
    "        return z"
   ]
  },
  {
   "cell_type": "code",
   "execution_count": 113,
   "metadata": {
    "collapsed": true
   },
   "outputs": [],
   "source": [
    "'''Function to calculate the theta values\n",
    "   Input 1: 'Z' - the tranformed matrix eg., [1 x x**2 ....]\n",
    "   Input 2: Y values\n",
    "   Output: theta according to the order eg if degree = 2 , 3 theta values will be returned\n",
    "'''\n",
    "\n",
    "def poly_theta(z,y):\n",
    "    theta = np.dot(np.linalg.pinv(z),y)\n",
    "    return theta\n",
    "    "
   ]
  },
  {
   "cell_type": "code",
   "execution_count": 114,
   "metadata": {
    "collapsed": true
   },
   "outputs": [],
   "source": [
    "'''Function to calculate the mse \n",
    "   Input 1: Predicted values\n",
    "   Input 2: True values\n",
    "   Output: mse of predicted and truth \n",
    "'''\n",
    "\n",
    "\n",
    "def mse_calculator(pred,y):\n",
    "    return sum([(i-j)**2 for i,j in zip(pred,y)])/len(y) # formula to calulate mse - 1/m*sum(yhat-y)**2\n",
    "    "
   ]
  },
  {
   "cell_type": "code",
   "execution_count": 115,
   "metadata": {
    "collapsed": true
   },
   "outputs": [],
   "source": [
    "'''Function to calculate the rse \n",
    "   Input 1: Predicted values\n",
    "   Input 2: True values\n",
    "   Output: rse of predicted and truth \n",
    "'''\n",
    "\n",
    "def rse_calculator(pred,y):\n",
    "    return sum([(i-j)**2/y**2 for i,j in zip(pred,y)])/len(y) # formula to calulate mse - 1/m*sum(yhat-y)**2/y**2\n",
    "    "
   ]
  },
  {
   "cell_type": "code",
   "execution_count": 116,
   "metadata": {
    "collapsed": false
   },
   "outputs": [],
   "source": [
    "'''Function to predict the output of the given z\n",
    "   Input 1: Thetas\n",
    "   Input 2: Input 1: 'Z' - the tranformed matrix eg., [1 x x**2 ....]\n",
    "   Output: Predictions of the given Z matrix\n",
    " \n",
    "'''\n",
    "\n",
    "def predict(theta,z):\n",
    "    predictions = []\n",
    "    for i in z:\n",
    "        predictions.append(np.dot(theta.transpose(),np.array(i)))\n",
    "    #print theta.transpose()\n",
    "    return predictions"
   ]
  },
  {
   "cell_type": "code",
   "execution_count": 117,
   "metadata": {
    "collapsed": false
   },
   "outputs": [],
   "source": [
    "'''Function to perform 10-fold cross validation. In this method the test and train indices are split programatically without the \n",
    "   use of in-built function  \n",
    "    Input 1: 'Z' - the tranformed matrix eg., [1 x x**2 ....]\n",
    "    Input 2: True predicted values\n",
    "    Input 3: No of folds (10 by default)\n",
    "    \n",
    "    Performance measures such as mean suared error and relative suared error are calculated in this function\n",
    "\n",
    "'''\n",
    "\n",
    "def split_indices_cross_fold(x,y,nfolds=10):\n",
    "    \n",
    "    split = int((len(y))/nfolds) #split size of the data\n",
    "    idx=[i for i in range(len(y))] # indices list [0 .... size(data)-1]\n",
    "    i=0\n",
    "    j=1\n",
    "    MSE_tr=[]\n",
    "    MSE_ts=[]\n",
    "    RSE_tr=[]\n",
    "    RSE_ts=[]\n",
    "    while j <  nfolds+1: # repeat n-fold times\n",
    "        test_idx=idx[split*i:split*j] # Get test indices\n",
    "        train_idx=list(set(idx)-set(test_idx)) # Get test indices\n",
    "        y_=np.array(y)\n",
    "        theta = poly_theta(x[train_idx],y_[train_idx])\n",
    "        pred_train=predict(theta,x[train_idx])\n",
    "        error_tr = mse_calculator(pred_train,y_[train_idx])\n",
    "        MSE_tr.append(error_tr)\n",
    "        pred_test = predict(theta,x[test_idx])\n",
    "        error_ts = mse_calculator(pred_test,y_[test_idx])\n",
    "        MSE_ts.append(error_ts)\n",
    "        error_rse_tr = rse_calculator(pred_train,y_[train_idx]) #calculate rse for train \n",
    "        RSE_tr.append(error_rse_tr)\n",
    "        error_rse_ts = rse_calculator(pred_test,y_[test_idx]) #calculate rse for test\n",
    "        RSE_tr.append(error_rse_ts)\n",
    "        i+=1\n",
    "        j+=1\n",
    "    print 'MSE of train: %f' %np.mean(MSE_tr)\n",
    "    print 'MSE of test: %f' %np.mean(MSE_ts)\n",
    "    \n",
    "    \n",
    "     "
   ]
  },
  {
   "cell_type": "code",
   "execution_count": 118,
   "metadata": {
    "collapsed": false
   },
   "outputs": [
    {
     "name": "stdout",
     "output_type": "stream",
     "text": [
      "MSE of train: 0.918144\n",
      "MSE of test: 0.938203\n"
     ]
    }
   ],
   "source": [
    "Z=Z_Transform(xr4,3)\n",
    "split_indices_cross_fold(Z,yr4)"
   ]
  },
  {
   "cell_type": "code",
   "execution_count": 119,
   "metadata": {
    "collapsed": true
   },
   "outputs": [],
   "source": [
    "'''Function to perform 10-fold cross validation. In this method the test and train indices are split using using the inbuit\n",
    "   'KFold' function.\n",
    "    Input 1: 'Z' - the tranformed matrix eg., [1 x x**2 ....]\n",
    "    Input 2: True predicted values\n",
    "    Input 3: No of folds (10 by default)\n",
    "    \n",
    "    Performance measures such as mean suared error and relative suared error are calculated in this function\n",
    "\n",
    "'''\n",
    "\n",
    "\n",
    "def poly_ten_fold(x,y,nfolds=10):\n",
    "    cv = KFold(len(y), nfolds) #inbuilt function to split the indices\n",
    "    MSE_tr=[]\n",
    "    MSE_ts=[]\n",
    "    RSE_tr=[]\n",
    "    RSE_ts=[]\n",
    "    for train_idx, test_idx in cv:\n",
    "        y_=np.array(y)\n",
    "        theta = poly_theta(x[train_idx],y_[train_idx]) # Find theta for the train set\n",
    "        pred_train=predict(theta,x[train_idx]) # Predict values using the formula theta.transpose * z for train set\n",
    "        error_tr = mse_calculator(pred_train,y_[train_idx]) #calculate mse for train\n",
    "        MSE_tr.append(error_tr)\n",
    "        error_rse_tr = rse_calculator(pred_train,y_[train_idx]) #calculate rse for train \n",
    "        RSE_tr.append(error_rse_tr)\n",
    "        pred_test = predict(theta,x[test_idx])  # Predict values using the formula theta.transpose * z for test set\n",
    "        error_ts = mse_calculator(pred_test,y_[test_idx]) #calculate mse for test \n",
    "        error_rse_ts = rse_calculator(pred_test,y_[test_idx]) #calculate rse for test \n",
    "        MSE_ts.append(error_ts)\n",
    "        RSE_ts.append(error_rse_ts)\n",
    "    print 'MSE of train: %f' %np.mean(MSE_tr)\n",
    "    print 'MSE of test: %f' %np.mean(MSE_ts)"
   ]
  },
  {
   "cell_type": "code",
   "execution_count": 120,
   "metadata": {
    "collapsed": false
   },
   "outputs": [
    {
     "name": "stdout",
     "output_type": "stream",
     "text": [
      "MSE of train: 0.927843\n",
      "MSE of test: 0.940830\n"
     ]
    }
   ],
   "source": [
    "Z=Z_Transform(xr4,2)\n",
    "poly_ten_fold(Z,yr4)"
   ]
  },
  {
   "cell_type": "code",
   "execution_count": 121,
   "metadata": {
    "collapsed": false
   },
   "outputs": [],
   "source": [
    "'''Function to perform 10-fold cross validation using ready made python functions. This function is used to compare the results\n",
    "   of the earlier obtained model\n",
    "    Input 1: 'Z' - the tranformed matrix eg., [1 x x**2 ....]\n",
    "    Input 2: True predicted values\n",
    "    Input 3: No of folds (10 by default)\n",
    "    \n",
    "    Performance measures such as mean suared error is calculated in this function\n",
    "\n",
    "'''\n",
    "\n",
    "\n",
    "\n",
    "def poly_ten_fold_validation_verify(x,y,nfolds=10):\n",
    "    cv = KFold(len(y), nfolds)\n",
    "    MSE_tr=[]\n",
    "    MSE_ts=[]\n",
    "    RSE_tr=[]\n",
    "    RSE_ts=[]\n",
    "    error_tr = 0\n",
    "    error_ts = 0\n",
    "    for train_idx, test_idx in cv:\n",
    "        t = csr_matrix(x).toarray() # convert the train data into CSR matrix\n",
    "        y_=np.array(y)\n",
    "        clf = get_clf() # get the classifier\n",
    "        clf.fit(t[train_idx], y_[train_idx]) # fit the data\n",
    "        pred_test = clf.predict(t[test_idx]) \n",
    "        pred_train = clf.predict(t[train_idx])\n",
    "        error_ts += mean_squared_error(y_[test_idx], pred_test)\n",
    "        error_tr += mean_squared_error(y_[train_idx],pred_train)\n",
    "    print error_tr/nfolds\n",
    "    print error_ts/nfolds\n",
    "\n",
    "\n",
    "    "
   ]
  },
  {
   "cell_type": "code",
   "execution_count": 122,
   "metadata": {
    "collapsed": false
   },
   "outputs": [
    {
     "name": "stdout",
     "output_type": "stream",
     "text": [
      "0.918143935202\n",
      "0.938203377002\n"
     ]
    }
   ],
   "source": [
    "Z=Z_Transform(xr4,3)\n",
    "poly_ten_fold_validation_verify(Z,yr4)"
   ]
  },
  {
   "cell_type": "code",
   "execution_count": 132,
   "metadata": {
    "collapsed": false
   },
   "outputs": [],
   "source": [
    "'''Function to plot the model on top of the test data by splitting the train data and test data into various splits\n",
    "    Input 1: 'Z' - the tranformed matrix eg., [1 x x**2 ....]\n",
    "    Input 2: True predicted values\n",
    "    Input 3: No of folds (10 by default)\n",
    "    \n",
    "    Performance measures such as mean suared error and relative suared error are calculated in this function\n",
    "\n",
    "'''\n",
    "\n",
    "\n",
    "def poly_fit_test(x,xp,y):\n",
    "    train_index = int(0.7*len(y))\n",
    "    x_train = x[:train_index]\n",
    "    y_train = y[:train_index]\n",
    "    x_test = x[train_index:]\n",
    "    y_test = y[train_index:]\n",
    "    xptest=xp[train_index:]\n",
    "    y_=np.array(y)\n",
    "    theta = poly_theta(x_train,y_train)\n",
    "    pred_train=predict(theta,x_train)\n",
    "    pred_test = predict(theta,x_test)\n",
    "    error_tr = mse_calculator(pred_train,y_train)\n",
    "    error_ts = mse_calculator(pred_test,y_test)\n",
    "    print error_tr\n",
    "    print error_ts\n",
    "    plt.scatter(xptest,y_test,color='black')\n",
    "    plt.scatter(np.array(xptest),predict(theta,x_test),color='red',linewidth=3)\n",
    "    "
   ]
  },
  {
   "cell_type": "code",
   "execution_count": 135,
   "metadata": {
    "collapsed": false
   },
   "outputs": [
    {
     "name": "stdout",
     "output_type": "stream",
     "text": [
      "[ 0.7899927]\n",
      "[ 0.85956034]\n"
     ]
    },
    {
     "data": {
      "image/png": "[encoded data removed]",
      "text/plain": [
       "<matplotlib.figure.Figure at 0x1f6bfcf8>"
      ]
     },
     "metadata": {},
     "output_type": "display_data"
    }
   ],
   "source": [
    "\n",
    "Z=Z_Transform(xr4,5)\n",
    "poly_fit_test(Z,x4,yr4)"
   ]
  },
  {
   "cell_type": "code",
   "execution_count": null,
   "metadata": {
    "collapsed": true
   },
   "outputs": [],
   "source": []
  },
  {
   "cell_type": "code",
   "execution_count": null,
   "metadata": {
    "collapsed": true
   },
   "outputs": [],
   "source": []
  }
 ],
 "metadata": {
  "kernelspec": {
   "display_name": "Python 2",
   "language": "python",
   "name": "python2"
  },
  "language_info": {
   "codemirror_mode": {
    "name": "ipython",
    "version": 2
   },
   "file_extension": ".py",
   "mimetype": "text/x-python",
   "name": "python",
   "nbconvert_exporter": "python",
   "pygments_lexer": "ipython2",
   "version": "2.7.10"
  }
 },
 "nbformat": 4,
 "nbformat_minor": 0
}
